{
 "cells": [
  {
   "cell_type": "markdown",
   "id": "f3bb292b",
   "metadata": {},
   "source": [
    "Corporación Favorita — a major Ecuadorian supermarket and retail chain\n",
    "Headquartered in Quito, operating stores like Supermaxi and Megamaxi nationwide"
   ]
  },
  {
   "cell_type": "markdown",
   "id": "eaaeecdb",
   "metadata": {},
   "source": [
    "# Libraries"
   ]
  },
  {
   "cell_type": "code",
   "execution_count": 1,
   "id": "2bb7a8f2",
   "metadata": {},
   "outputs": [],
   "source": [
    "import pandas as pd\n",
    "import numpy as np\n",
    "import matplotlib.pyplot as plt\n",
    "import seaborn as sns\n",
    "import math\n",
    "import random\n",
    "\n",
    "import osmnx as ox\n",
    "import geopandas as gpd\n",
    "from geopy.geocoders import Nominatim\n",
    "from tqdm import tqdm\n",
    "from geopy.extra.rate_limiter import RateLimiter\n",
    "from shapely.geometry import Point\n",
    "\n",
    "from time import sleep\n",
    "\n",
    "import psycopg2\n",
    "import warnings\n",
    "import sqlite3\n",
    "import sqlalchemy as sa\n",
    "\n",
    "from sqlalchemy import text\n",
    "from sqlalchemy import create_engine\n",
    "\n",
    "import matplotlib.patches as mpatches\n",
    "\n",
    "import contextily as ctx\n",
    "\n",
    "import requests\n",
    "import json\n",
    "from pathlib import Path\n",
    "import os, json, time\n",
    "\n",
    "# opening the data\n",
    "import re\n",
    "from datetime import datetime, time\n",
    "\n",
    "from itertools import combinations\n",
    "import gc # gc.collect()"
   ]
  },
  {
   "cell_type": "code",
   "execution_count": 2,
   "id": "5febac0c",
   "metadata": {},
   "outputs": [],
   "source": [
    "from sklearn.preprocessing import LabelEncoder\n",
    "from sklearn.preprocessing import StandardScaler\n",
    "from sklearn.preprocessing import MinMaxScaler\n",
    "\n",
    "from sklearn.neighbors import NearestNeighbors\n",
    "from sklearn.model_selection import train_test_split\n",
    "from sklearn.ensemble import RandomForestRegressor\n",
    "from sklearn.metrics import mean_absolute_error, r2_score"
   ]
  },
  {
   "cell_type": "code",
   "execution_count": 3,
   "id": "dbeb3f41",
   "metadata": {},
   "outputs": [],
   "source": [
    "import joblib # Save the DataFrame to a compressed file"
   ]
  },
  {
   "cell_type": "code",
   "execution_count": 4,
   "id": "6a070cdd",
   "metadata": {},
   "outputs": [],
   "source": [
    "# from google.colab import files"
   ]
  },
  {
   "cell_type": "code",
   "execution_count": 5,
   "id": "d870b97b",
   "metadata": {},
   "outputs": [],
   "source": [
    "# !pip install kagglehub\n",
    "import kagglehub"
   ]
  },
  {
   "cell_type": "markdown",
   "id": "51b1ac6d",
   "metadata": {},
   "source": [
    "---------------------------------------------------\n",
    "---------------------------------------------------"
   ]
  },
  {
   "cell_type": "markdown",
   "id": "85045613",
   "metadata": {},
   "source": [
    "# Data initial review and download"
   ]
  },
  {
   "cell_type": "code",
   "execution_count": 6,
   "id": "1c8965cb",
   "metadata": {},
   "outputs": [
    {
     "name": "stdout",
     "output_type": "stream",
     "text": [
      "Path to dataset files: /Users/georgeshmelin/.cache/kagglehub/datasets/siliconx/favoritagrocerysalesforecastingextracted/versions/1\n"
     ]
    }
   ],
   "source": [
    "# Download latest version\n",
    "path = kagglehub.dataset_download(\"siliconx/favoritagrocerysalesforecastingextracted\")\n",
    "\n",
    "print(\"Path to dataset files:\", path)"
   ]
  },
  {
   "cell_type": "markdown",
   "id": "3aab1555",
   "metadata": {},
   "source": [
    "## Data overview"
   ]
  },
  {
   "cell_type": "code",
   "execution_count": 7,
   "id": "3fb40dee",
   "metadata": {},
   "outputs": [
    {
     "name": "stdout",
     "output_type": "stream",
     "text": [
      "Files in dataset: ['test.csv', 'train.csv', 'transactions.csv', 'items.csv', 'oil.csv', 'holidays_events.csv', 'sample_submission.csv', 'stores.csv']\n"
     ]
    }
   ],
   "source": [
    "files = os.listdir(path)\n",
    "print(\"Files in dataset:\", files)"
   ]
  },
  {
   "cell_type": "code",
   "execution_count": 8,
   "id": "7c7983e3",
   "metadata": {},
   "outputs": [],
   "source": [
    "def load_csv_to_sqlite(conn, path, filename, preview_rows=50):\n",
    "    \"\"\"\n",
    "    Load up to `preview_rows` from a CSV into SQLite and print summary info.\n",
    "    Keeps your original structure and logic — just limits rows for inspection.\n",
    "    \"\"\"\n",
    "    file_path = os.path.join(path, filename)\n",
    "    table_name = filename.replace('.csv', '')\n",
    "\n",
    "    print(f\"\\n📂 Loading first {preview_rows} rows from '{filename}' into SQLite...\")\n",
    "\n",
    "    # Read just the first N rows\n",
    "    df = pd.read_csv(file_path, nrows=preview_rows)\n",
    "\n",
    "    # Write to SQLite (as a temporary table or small preview)\n",
    "    df.to_sql(table_name, conn, if_exists=\"replace\", index=False)\n",
    "    print(f\"✅ Loaded preview of '{filename}' into table '{table_name}'\")\n",
    "\n",
    "    # Row count (of the preview)\n",
    "    query = f\"SELECT COUNT(*) AS row_count FROM {table_name};\"\n",
    "    row_count_df = pd.read_sql(query, conn)\n",
    "    row_count = row_count_df.iloc[0, 0]\n",
    "    print(f\"🔢 Table '{table_name}' currently has {row_count:,} preview rows.\")\n",
    "\n",
    "    # Inspect columns for key info\n",
    "    columns = df.columns.tolist()\n",
    "    primary_like = [col for col in columns if 'id' in col.lower() or 'nbr' in col.lower()]\n",
    "    date_like = [col for col in columns if 'date' in col.lower()]\n",
    "    possible_keys = primary_like + date_like\n",
    "\n",
    "    # Show candidate keys\n",
    "    if possible_keys:\n",
    "        print(f\"🔑 Candidate keys or join fields in '{table_name}': {possible_keys}\")\n",
    "    else:\n",
    "        print(f\"ℹ️ No obvious join keys found in '{table_name}'\")\n",
    "\n",
    "    return df"
   ]
  },
  {
   "cell_type": "markdown",
   "id": "7b43317a",
   "metadata": {},
   "source": [
    "### oil"
   ]
  },
  {
   "cell_type": "code",
   "execution_count": 9,
   "id": "fdb193ae",
   "metadata": {},
   "outputs": [
    {
     "name": "stdout",
     "output_type": "stream",
     "text": [
      "\n",
      "📂 Loading first 50 rows from 'oil.csv' into SQLite...\n",
      "✅ Loaded preview of 'oil.csv' into table 'oil'\n",
      "🔢 Table 'oil' currently has 50 preview rows.\n",
      "🔑 Candidate keys or join fields in 'oil': ['date']\n"
     ]
    },
    {
     "data": {
      "application/vnd.microsoft.datawrangler.viewer.v0+json": {
       "columns": [
        {
         "name": "index",
         "rawType": "int64",
         "type": "integer"
        },
        {
         "name": "date",
         "rawType": "object",
         "type": "string"
        },
        {
         "name": "dcoilwtico",
         "rawType": "float64",
         "type": "float"
        }
       ],
       "ref": "0bba9936-96c8-4a12-ae74-2183fd9b475f",
       "rows": [
        [
         "0",
         "2013-01-01",
         null
        ],
        [
         "1",
         "2013-01-02",
         "93.14"
        ],
        [
         "2",
         "2013-01-03",
         "92.97"
        ],
        [
         "3",
         "2013-01-04",
         "93.12"
        ],
        [
         "4",
         "2013-01-07",
         "93.2"
        ],
        [
         "5",
         "2013-01-08",
         "93.21"
        ],
        [
         "6",
         "2013-01-09",
         "93.08"
        ],
        [
         "7",
         "2013-01-10",
         "93.81"
        ],
        [
         "8",
         "2013-01-11",
         "93.6"
        ],
        [
         "9",
         "2013-01-14",
         "94.27"
        ],
        [
         "10",
         "2013-01-15",
         "93.26"
        ],
        [
         "11",
         "2013-01-16",
         "94.28"
        ],
        [
         "12",
         "2013-01-17",
         "95.49"
        ],
        [
         "13",
         "2013-01-18",
         "95.61"
        ],
        [
         "14",
         "2013-01-21",
         null
        ],
        [
         "15",
         "2013-01-22",
         "96.09"
        ],
        [
         "16",
         "2013-01-23",
         "95.06"
        ],
        [
         "17",
         "2013-01-24",
         "95.35"
        ],
        [
         "18",
         "2013-01-25",
         "95.15"
        ],
        [
         "19",
         "2013-01-28",
         "95.95"
        ],
        [
         "20",
         "2013-01-29",
         "97.62"
        ],
        [
         "21",
         "2013-01-30",
         "97.98"
        ],
        [
         "22",
         "2013-01-31",
         "97.65"
        ],
        [
         "23",
         "2013-02-01",
         "97.46"
        ],
        [
         "24",
         "2013-02-04",
         "96.21"
        ],
        [
         "25",
         "2013-02-05",
         "96.68"
        ],
        [
         "26",
         "2013-02-06",
         "96.44"
        ],
        [
         "27",
         "2013-02-07",
         "95.84"
        ],
        [
         "28",
         "2013-02-08",
         "95.71"
        ],
        [
         "29",
         "2013-02-11",
         "97.01"
        ],
        [
         "30",
         "2013-02-12",
         "97.48"
        ],
        [
         "31",
         "2013-02-13",
         "97.03"
        ],
        [
         "32",
         "2013-02-14",
         "97.3"
        ],
        [
         "33",
         "2013-02-15",
         "95.95"
        ],
        [
         "34",
         "2013-02-18",
         null
        ],
        [
         "35",
         "2013-02-19",
         "96.69"
        ],
        [
         "36",
         "2013-02-20",
         "94.92"
        ],
        [
         "37",
         "2013-02-21",
         "92.79"
        ],
        [
         "38",
         "2013-02-22",
         "93.12"
        ],
        [
         "39",
         "2013-02-25",
         "92.74"
        ],
        [
         "40",
         "2013-02-26",
         "92.63"
        ],
        [
         "41",
         "2013-02-27",
         "92.84"
        ],
        [
         "42",
         "2013-02-28",
         "92.03"
        ],
        [
         "43",
         "2013-03-01",
         "90.71"
        ],
        [
         "44",
         "2013-03-04",
         "90.13"
        ],
        [
         "45",
         "2013-03-05",
         "90.88"
        ],
        [
         "46",
         "2013-03-06",
         "90.47"
        ],
        [
         "47",
         "2013-03-07",
         "91.53"
        ],
        [
         "48",
         "2013-03-08",
         "92.01"
        ],
        [
         "49",
         "2013-03-11",
         "92.07"
        ]
       ],
       "shape": {
        "columns": 2,
        "rows": 50
       }
      },
      "text/html": [
       "<div>\n",
       "<style scoped>\n",
       "    .dataframe tbody tr th:only-of-type {\n",
       "        vertical-align: middle;\n",
       "    }\n",
       "\n",
       "    .dataframe tbody tr th {\n",
       "        vertical-align: top;\n",
       "    }\n",
       "\n",
       "    .dataframe thead th {\n",
       "        text-align: right;\n",
       "    }\n",
       "</style>\n",
       "<table border=\"1\" class=\"dataframe\">\n",
       "  <thead>\n",
       "    <tr style=\"text-align: right;\">\n",
       "      <th></th>\n",
       "      <th>date</th>\n",
       "      <th>dcoilwtico</th>\n",
       "    </tr>\n",
       "  </thead>\n",
       "  <tbody>\n",
       "    <tr>\n",
       "      <th>0</th>\n",
       "      <td>2013-01-01</td>\n",
       "      <td>NaN</td>\n",
       "    </tr>\n",
       "    <tr>\n",
       "      <th>1</th>\n",
       "      <td>2013-01-02</td>\n",
       "      <td>93.14</td>\n",
       "    </tr>\n",
       "    <tr>\n",
       "      <th>2</th>\n",
       "      <td>2013-01-03</td>\n",
       "      <td>92.97</td>\n",
       "    </tr>\n",
       "    <tr>\n",
       "      <th>3</th>\n",
       "      <td>2013-01-04</td>\n",
       "      <td>93.12</td>\n",
       "    </tr>\n",
       "    <tr>\n",
       "      <th>4</th>\n",
       "      <td>2013-01-07</td>\n",
       "      <td>93.20</td>\n",
       "    </tr>\n",
       "    <tr>\n",
       "      <th>5</th>\n",
       "      <td>2013-01-08</td>\n",
       "      <td>93.21</td>\n",
       "    </tr>\n",
       "    <tr>\n",
       "      <th>6</th>\n",
       "      <td>2013-01-09</td>\n",
       "      <td>93.08</td>\n",
       "    </tr>\n",
       "    <tr>\n",
       "      <th>7</th>\n",
       "      <td>2013-01-10</td>\n",
       "      <td>93.81</td>\n",
       "    </tr>\n",
       "    <tr>\n",
       "      <th>8</th>\n",
       "      <td>2013-01-11</td>\n",
       "      <td>93.60</td>\n",
       "    </tr>\n",
       "    <tr>\n",
       "      <th>9</th>\n",
       "      <td>2013-01-14</td>\n",
       "      <td>94.27</td>\n",
       "    </tr>\n",
       "    <tr>\n",
       "      <th>10</th>\n",
       "      <td>2013-01-15</td>\n",
       "      <td>93.26</td>\n",
       "    </tr>\n",
       "    <tr>\n",
       "      <th>11</th>\n",
       "      <td>2013-01-16</td>\n",
       "      <td>94.28</td>\n",
       "    </tr>\n",
       "    <tr>\n",
       "      <th>12</th>\n",
       "      <td>2013-01-17</td>\n",
       "      <td>95.49</td>\n",
       "    </tr>\n",
       "    <tr>\n",
       "      <th>13</th>\n",
       "      <td>2013-01-18</td>\n",
       "      <td>95.61</td>\n",
       "    </tr>\n",
       "    <tr>\n",
       "      <th>14</th>\n",
       "      <td>2013-01-21</td>\n",
       "      <td>NaN</td>\n",
       "    </tr>\n",
       "    <tr>\n",
       "      <th>15</th>\n",
       "      <td>2013-01-22</td>\n",
       "      <td>96.09</td>\n",
       "    </tr>\n",
       "    <tr>\n",
       "      <th>16</th>\n",
       "      <td>2013-01-23</td>\n",
       "      <td>95.06</td>\n",
       "    </tr>\n",
       "    <tr>\n",
       "      <th>17</th>\n",
       "      <td>2013-01-24</td>\n",
       "      <td>95.35</td>\n",
       "    </tr>\n",
       "    <tr>\n",
       "      <th>18</th>\n",
       "      <td>2013-01-25</td>\n",
       "      <td>95.15</td>\n",
       "    </tr>\n",
       "    <tr>\n",
       "      <th>19</th>\n",
       "      <td>2013-01-28</td>\n",
       "      <td>95.95</td>\n",
       "    </tr>\n",
       "    <tr>\n",
       "      <th>20</th>\n",
       "      <td>2013-01-29</td>\n",
       "      <td>97.62</td>\n",
       "    </tr>\n",
       "    <tr>\n",
       "      <th>21</th>\n",
       "      <td>2013-01-30</td>\n",
       "      <td>97.98</td>\n",
       "    </tr>\n",
       "    <tr>\n",
       "      <th>22</th>\n",
       "      <td>2013-01-31</td>\n",
       "      <td>97.65</td>\n",
       "    </tr>\n",
       "    <tr>\n",
       "      <th>23</th>\n",
       "      <td>2013-02-01</td>\n",
       "      <td>97.46</td>\n",
       "    </tr>\n",
       "    <tr>\n",
       "      <th>24</th>\n",
       "      <td>2013-02-04</td>\n",
       "      <td>96.21</td>\n",
       "    </tr>\n",
       "    <tr>\n",
       "      <th>25</th>\n",
       "      <td>2013-02-05</td>\n",
       "      <td>96.68</td>\n",
       "    </tr>\n",
       "    <tr>\n",
       "      <th>26</th>\n",
       "      <td>2013-02-06</td>\n",
       "      <td>96.44</td>\n",
       "    </tr>\n",
       "    <tr>\n",
       "      <th>27</th>\n",
       "      <td>2013-02-07</td>\n",
       "      <td>95.84</td>\n",
       "    </tr>\n",
       "    <tr>\n",
       "      <th>28</th>\n",
       "      <td>2013-02-08</td>\n",
       "      <td>95.71</td>\n",
       "    </tr>\n",
       "    <tr>\n",
       "      <th>29</th>\n",
       "      <td>2013-02-11</td>\n",
       "      <td>97.01</td>\n",
       "    </tr>\n",
       "    <tr>\n",
       "      <th>30</th>\n",
       "      <td>2013-02-12</td>\n",
       "      <td>97.48</td>\n",
       "    </tr>\n",
       "    <tr>\n",
       "      <th>31</th>\n",
       "      <td>2013-02-13</td>\n",
       "      <td>97.03</td>\n",
       "    </tr>\n",
       "    <tr>\n",
       "      <th>32</th>\n",
       "      <td>2013-02-14</td>\n",
       "      <td>97.30</td>\n",
       "    </tr>\n",
       "    <tr>\n",
       "      <th>33</th>\n",
       "      <td>2013-02-15</td>\n",
       "      <td>95.95</td>\n",
       "    </tr>\n",
       "    <tr>\n",
       "      <th>34</th>\n",
       "      <td>2013-02-18</td>\n",
       "      <td>NaN</td>\n",
       "    </tr>\n",
       "    <tr>\n",
       "      <th>35</th>\n",
       "      <td>2013-02-19</td>\n",
       "      <td>96.69</td>\n",
       "    </tr>\n",
       "    <tr>\n",
       "      <th>36</th>\n",
       "      <td>2013-02-20</td>\n",
       "      <td>94.92</td>\n",
       "    </tr>\n",
       "    <tr>\n",
       "      <th>37</th>\n",
       "      <td>2013-02-21</td>\n",
       "      <td>92.79</td>\n",
       "    </tr>\n",
       "    <tr>\n",
       "      <th>38</th>\n",
       "      <td>2013-02-22</td>\n",
       "      <td>93.12</td>\n",
       "    </tr>\n",
       "    <tr>\n",
       "      <th>39</th>\n",
       "      <td>2013-02-25</td>\n",
       "      <td>92.74</td>\n",
       "    </tr>\n",
       "    <tr>\n",
       "      <th>40</th>\n",
       "      <td>2013-02-26</td>\n",
       "      <td>92.63</td>\n",
       "    </tr>\n",
       "    <tr>\n",
       "      <th>41</th>\n",
       "      <td>2013-02-27</td>\n",
       "      <td>92.84</td>\n",
       "    </tr>\n",
       "    <tr>\n",
       "      <th>42</th>\n",
       "      <td>2013-02-28</td>\n",
       "      <td>92.03</td>\n",
       "    </tr>\n",
       "    <tr>\n",
       "      <th>43</th>\n",
       "      <td>2013-03-01</td>\n",
       "      <td>90.71</td>\n",
       "    </tr>\n",
       "    <tr>\n",
       "      <th>44</th>\n",
       "      <td>2013-03-04</td>\n",
       "      <td>90.13</td>\n",
       "    </tr>\n",
       "    <tr>\n",
       "      <th>45</th>\n",
       "      <td>2013-03-05</td>\n",
       "      <td>90.88</td>\n",
       "    </tr>\n",
       "    <tr>\n",
       "      <th>46</th>\n",
       "      <td>2013-03-06</td>\n",
       "      <td>90.47</td>\n",
       "    </tr>\n",
       "    <tr>\n",
       "      <th>47</th>\n",
       "      <td>2013-03-07</td>\n",
       "      <td>91.53</td>\n",
       "    </tr>\n",
       "    <tr>\n",
       "      <th>48</th>\n",
       "      <td>2013-03-08</td>\n",
       "      <td>92.01</td>\n",
       "    </tr>\n",
       "    <tr>\n",
       "      <th>49</th>\n",
       "      <td>2013-03-11</td>\n",
       "      <td>92.07</td>\n",
       "    </tr>\n",
       "  </tbody>\n",
       "</table>\n",
       "</div>"
      ],
      "text/plain": [
       "          date  dcoilwtico\n",
       "0   2013-01-01         NaN\n",
       "1   2013-01-02       93.14\n",
       "2   2013-01-03       92.97\n",
       "3   2013-01-04       93.12\n",
       "4   2013-01-07       93.20\n",
       "5   2013-01-08       93.21\n",
       "6   2013-01-09       93.08\n",
       "7   2013-01-10       93.81\n",
       "8   2013-01-11       93.60\n",
       "9   2013-01-14       94.27\n",
       "10  2013-01-15       93.26\n",
       "11  2013-01-16       94.28\n",
       "12  2013-01-17       95.49\n",
       "13  2013-01-18       95.61\n",
       "14  2013-01-21         NaN\n",
       "15  2013-01-22       96.09\n",
       "16  2013-01-23       95.06\n",
       "17  2013-01-24       95.35\n",
       "18  2013-01-25       95.15\n",
       "19  2013-01-28       95.95\n",
       "20  2013-01-29       97.62\n",
       "21  2013-01-30       97.98\n",
       "22  2013-01-31       97.65\n",
       "23  2013-02-01       97.46\n",
       "24  2013-02-04       96.21\n",
       "25  2013-02-05       96.68\n",
       "26  2013-02-06       96.44\n",
       "27  2013-02-07       95.84\n",
       "28  2013-02-08       95.71\n",
       "29  2013-02-11       97.01\n",
       "30  2013-02-12       97.48\n",
       "31  2013-02-13       97.03\n",
       "32  2013-02-14       97.30\n",
       "33  2013-02-15       95.95\n",
       "34  2013-02-18         NaN\n",
       "35  2013-02-19       96.69\n",
       "36  2013-02-20       94.92\n",
       "37  2013-02-21       92.79\n",
       "38  2013-02-22       93.12\n",
       "39  2013-02-25       92.74\n",
       "40  2013-02-26       92.63\n",
       "41  2013-02-27       92.84\n",
       "42  2013-02-28       92.03\n",
       "43  2013-03-01       90.71\n",
       "44  2013-03-04       90.13\n",
       "45  2013-03-05       90.88\n",
       "46  2013-03-06       90.47\n",
       "47  2013-03-07       91.53\n",
       "48  2013-03-08       92.01\n",
       "49  2013-03-11       92.07"
      ]
     },
     "execution_count": 9,
     "metadata": {},
     "output_type": "execute_result"
    }
   ],
   "source": [
    "# Connect to SQLite\n",
    "conn = sqlite3.connect(\"favorita.db\")\n",
    "\n",
    "# Load each CSV file (your KaggleHub path)\n",
    "load_csv_to_sqlite(conn, path, \"oil.csv\")"
   ]
  },
  {
   "cell_type": "markdown",
   "id": "e1cc2078",
   "metadata": {},
   "source": [
    "### items"
   ]
  },
  {
   "cell_type": "code",
   "execution_count": 10,
   "id": "b60d631e",
   "metadata": {},
   "outputs": [
    {
     "name": "stdout",
     "output_type": "stream",
     "text": [
      "\n",
      "📂 Loading first 50 rows from 'items.csv' into SQLite...\n",
      "✅ Loaded preview of 'items.csv' into table 'items'\n",
      "🔢 Table 'items' currently has 50 preview rows.\n",
      "🔑 Candidate keys or join fields in 'items': ['item_nbr']\n"
     ]
    },
    {
     "data": {
      "application/vnd.microsoft.datawrangler.viewer.v0+json": {
       "columns": [
        {
         "name": "index",
         "rawType": "int64",
         "type": "integer"
        },
        {
         "name": "item_nbr",
         "rawType": "int64",
         "type": "integer"
        },
        {
         "name": "family",
         "rawType": "object",
         "type": "string"
        },
        {
         "name": "class",
         "rawType": "int64",
         "type": "integer"
        },
        {
         "name": "perishable",
         "rawType": "int64",
         "type": "integer"
        }
       ],
       "ref": "e45c4af2-b92a-44b6-98e9-c13b56db8955",
       "rows": [
        [
         "0",
         "96995",
         "GROCERY I",
         "1093",
         "0"
        ],
        [
         "1",
         "99197",
         "GROCERY I",
         "1067",
         "0"
        ],
        [
         "2",
         "103501",
         "CLEANING",
         "3008",
         "0"
        ],
        [
         "3",
         "103520",
         "GROCERY I",
         "1028",
         "0"
        ],
        [
         "4",
         "103665",
         "BREAD/BAKERY",
         "2712",
         "1"
        ],
        [
         "5",
         "105574",
         "GROCERY I",
         "1045",
         "0"
        ],
        [
         "6",
         "105575",
         "GROCERY I",
         "1045",
         "0"
        ],
        [
         "7",
         "105576",
         "GROCERY I",
         "1045",
         "0"
        ],
        [
         "8",
         "105577",
         "GROCERY I",
         "1045",
         "0"
        ],
        [
         "9",
         "105693",
         "GROCERY I",
         "1034",
         "0"
        ],
        [
         "10",
         "105737",
         "GROCERY I",
         "1044",
         "0"
        ],
        [
         "11",
         "105857",
         "GROCERY I",
         "1092",
         "0"
        ],
        [
         "12",
         "106716",
         "GROCERY I",
         "1032",
         "0"
        ],
        [
         "13",
         "108079",
         "GROCERY I",
         "1030",
         "0"
        ],
        [
         "14",
         "108634",
         "GROCERY I",
         "1075",
         "0"
        ],
        [
         "15",
         "108696",
         "DELI",
         "2636",
         "1"
        ],
        [
         "16",
         "108698",
         "DELI",
         "2644",
         "1"
        ],
        [
         "17",
         "108701",
         "DELI",
         "2644",
         "1"
        ],
        [
         "18",
         "108786",
         "CLEANING",
         "3044",
         "0"
        ],
        [
         "19",
         "108797",
         "GROCERY I",
         "1004",
         "0"
        ],
        [
         "20",
         "108831",
         "POULTRY",
         "2416",
         "1"
        ],
        [
         "21",
         "108833",
         "EGGS",
         "2502",
         "1"
        ],
        [
         "22",
         "108862",
         "GROCERY I",
         "1062",
         "0"
        ],
        [
         "23",
         "108952",
         "CLEANING",
         "3024",
         "0"
        ],
        [
         "24",
         "111223",
         "GROCERY I",
         "1034",
         "0"
        ],
        [
         "25",
         "111397",
         "GROCERY I",
         "1072",
         "0"
        ],
        [
         "26",
         "112830",
         "GROCERY I",
         "1044",
         "0"
        ],
        [
         "27",
         "114778",
         "GROCERY I",
         "1016",
         "0"
        ],
        [
         "28",
         "114790",
         "GROCERY I",
         "1004",
         "0"
        ],
        [
         "29",
         "114799",
         "PERSONAL CARE",
         "4126",
         "0"
        ],
        [
         "30",
         "114800",
         "PERSONAL CARE",
         "4126",
         "0"
        ],
        [
         "31",
         "115267",
         "CLEANING",
         "3034",
         "0"
        ],
        [
         "32",
         "115611",
         "GROCERY I",
         "1014",
         "0"
        ],
        [
         "33",
         "115693",
         "GROCERY I",
         "1040",
         "0"
        ],
        [
         "34",
         "115720",
         "GROCERY I",
         "1084",
         "0"
        ],
        [
         "35",
         "115847",
         "LINGERIE",
         "7034",
         "0"
        ],
        [
         "36",
         "115850",
         "GROCERY I",
         "1004",
         "0"
        ],
        [
         "37",
         "115891",
         "GROCERY I",
         "1016",
         "0"
        ],
        [
         "38",
         "115892",
         "GROCERY I",
         "1016",
         "0"
        ],
        [
         "39",
         "115893",
         "GROCERY I",
         "1016",
         "0"
        ],
        [
         "40",
         "115894",
         "GROCERY I",
         "1016",
         "0"
        ],
        [
         "41",
         "116017",
         "GROCERY I",
         "1072",
         "0"
        ],
        [
         "42",
         "116018",
         "GROCERY I",
         "1072",
         "0"
        ],
        [
         "43",
         "116279",
         "GROCERY I",
         "1056",
         "0"
        ],
        [
         "44",
         "116311",
         "CLEANING",
         "3090",
         "0"
        ],
        [
         "45",
         "119023",
         "CLEANING",
         "3026",
         "0"
        ],
        [
         "46",
         "119024",
         "CLEANING",
         "3026",
         "0"
        ],
        [
         "47",
         "119026",
         "CLEANING",
         "3026",
         "0"
        ],
        [
         "48",
         "119141",
         "GROCERY I",
         "1042",
         "0"
        ],
        [
         "49",
         "119187",
         "CLEANING",
         "3044",
         "0"
        ]
       ],
       "shape": {
        "columns": 4,
        "rows": 50
       }
      },
      "text/html": [
       "<div>\n",
       "<style scoped>\n",
       "    .dataframe tbody tr th:only-of-type {\n",
       "        vertical-align: middle;\n",
       "    }\n",
       "\n",
       "    .dataframe tbody tr th {\n",
       "        vertical-align: top;\n",
       "    }\n",
       "\n",
       "    .dataframe thead th {\n",
       "        text-align: right;\n",
       "    }\n",
       "</style>\n",
       "<table border=\"1\" class=\"dataframe\">\n",
       "  <thead>\n",
       "    <tr style=\"text-align: right;\">\n",
       "      <th></th>\n",
       "      <th>item_nbr</th>\n",
       "      <th>family</th>\n",
       "      <th>class</th>\n",
       "      <th>perishable</th>\n",
       "    </tr>\n",
       "  </thead>\n",
       "  <tbody>\n",
       "    <tr>\n",
       "      <th>0</th>\n",
       "      <td>96995</td>\n",
       "      <td>GROCERY I</td>\n",
       "      <td>1093</td>\n",
       "      <td>0</td>\n",
       "    </tr>\n",
       "    <tr>\n",
       "      <th>1</th>\n",
       "      <td>99197</td>\n",
       "      <td>GROCERY I</td>\n",
       "      <td>1067</td>\n",
       "      <td>0</td>\n",
       "    </tr>\n",
       "    <tr>\n",
       "      <th>2</th>\n",
       "      <td>103501</td>\n",
       "      <td>CLEANING</td>\n",
       "      <td>3008</td>\n",
       "      <td>0</td>\n",
       "    </tr>\n",
       "    <tr>\n",
       "      <th>3</th>\n",
       "      <td>103520</td>\n",
       "      <td>GROCERY I</td>\n",
       "      <td>1028</td>\n",
       "      <td>0</td>\n",
       "    </tr>\n",
       "    <tr>\n",
       "      <th>4</th>\n",
       "      <td>103665</td>\n",
       "      <td>BREAD/BAKERY</td>\n",
       "      <td>2712</td>\n",
       "      <td>1</td>\n",
       "    </tr>\n",
       "    <tr>\n",
       "      <th>5</th>\n",
       "      <td>105574</td>\n",
       "      <td>GROCERY I</td>\n",
       "      <td>1045</td>\n",
       "      <td>0</td>\n",
       "    </tr>\n",
       "    <tr>\n",
       "      <th>6</th>\n",
       "      <td>105575</td>\n",
       "      <td>GROCERY I</td>\n",
       "      <td>1045</td>\n",
       "      <td>0</td>\n",
       "    </tr>\n",
       "    <tr>\n",
       "      <th>7</th>\n",
       "      <td>105576</td>\n",
       "      <td>GROCERY I</td>\n",
       "      <td>1045</td>\n",
       "      <td>0</td>\n",
       "    </tr>\n",
       "    <tr>\n",
       "      <th>8</th>\n",
       "      <td>105577</td>\n",
       "      <td>GROCERY I</td>\n",
       "      <td>1045</td>\n",
       "      <td>0</td>\n",
       "    </tr>\n",
       "    <tr>\n",
       "      <th>9</th>\n",
       "      <td>105693</td>\n",
       "      <td>GROCERY I</td>\n",
       "      <td>1034</td>\n",
       "      <td>0</td>\n",
       "    </tr>\n",
       "    <tr>\n",
       "      <th>10</th>\n",
       "      <td>105737</td>\n",
       "      <td>GROCERY I</td>\n",
       "      <td>1044</td>\n",
       "      <td>0</td>\n",
       "    </tr>\n",
       "    <tr>\n",
       "      <th>11</th>\n",
       "      <td>105857</td>\n",
       "      <td>GROCERY I</td>\n",
       "      <td>1092</td>\n",
       "      <td>0</td>\n",
       "    </tr>\n",
       "    <tr>\n",
       "      <th>12</th>\n",
       "      <td>106716</td>\n",
       "      <td>GROCERY I</td>\n",
       "      <td>1032</td>\n",
       "      <td>0</td>\n",
       "    </tr>\n",
       "    <tr>\n",
       "      <th>13</th>\n",
       "      <td>108079</td>\n",
       "      <td>GROCERY I</td>\n",
       "      <td>1030</td>\n",
       "      <td>0</td>\n",
       "    </tr>\n",
       "    <tr>\n",
       "      <th>14</th>\n",
       "      <td>108634</td>\n",
       "      <td>GROCERY I</td>\n",
       "      <td>1075</td>\n",
       "      <td>0</td>\n",
       "    </tr>\n",
       "    <tr>\n",
       "      <th>15</th>\n",
       "      <td>108696</td>\n",
       "      <td>DELI</td>\n",
       "      <td>2636</td>\n",
       "      <td>1</td>\n",
       "    </tr>\n",
       "    <tr>\n",
       "      <th>16</th>\n",
       "      <td>108698</td>\n",
       "      <td>DELI</td>\n",
       "      <td>2644</td>\n",
       "      <td>1</td>\n",
       "    </tr>\n",
       "    <tr>\n",
       "      <th>17</th>\n",
       "      <td>108701</td>\n",
       "      <td>DELI</td>\n",
       "      <td>2644</td>\n",
       "      <td>1</td>\n",
       "    </tr>\n",
       "    <tr>\n",
       "      <th>18</th>\n",
       "      <td>108786</td>\n",
       "      <td>CLEANING</td>\n",
       "      <td>3044</td>\n",
       "      <td>0</td>\n",
       "    </tr>\n",
       "    <tr>\n",
       "      <th>19</th>\n",
       "      <td>108797</td>\n",
       "      <td>GROCERY I</td>\n",
       "      <td>1004</td>\n",
       "      <td>0</td>\n",
       "    </tr>\n",
       "    <tr>\n",
       "      <th>20</th>\n",
       "      <td>108831</td>\n",
       "      <td>POULTRY</td>\n",
       "      <td>2416</td>\n",
       "      <td>1</td>\n",
       "    </tr>\n",
       "    <tr>\n",
       "      <th>21</th>\n",
       "      <td>108833</td>\n",
       "      <td>EGGS</td>\n",
       "      <td>2502</td>\n",
       "      <td>1</td>\n",
       "    </tr>\n",
       "    <tr>\n",
       "      <th>22</th>\n",
       "      <td>108862</td>\n",
       "      <td>GROCERY I</td>\n",
       "      <td>1062</td>\n",
       "      <td>0</td>\n",
       "    </tr>\n",
       "    <tr>\n",
       "      <th>23</th>\n",
       "      <td>108952</td>\n",
       "      <td>CLEANING</td>\n",
       "      <td>3024</td>\n",
       "      <td>0</td>\n",
       "    </tr>\n",
       "    <tr>\n",
       "      <th>24</th>\n",
       "      <td>111223</td>\n",
       "      <td>GROCERY I</td>\n",
       "      <td>1034</td>\n",
       "      <td>0</td>\n",
       "    </tr>\n",
       "    <tr>\n",
       "      <th>25</th>\n",
       "      <td>111397</td>\n",
       "      <td>GROCERY I</td>\n",
       "      <td>1072</td>\n",
       "      <td>0</td>\n",
       "    </tr>\n",
       "    <tr>\n",
       "      <th>26</th>\n",
       "      <td>112830</td>\n",
       "      <td>GROCERY I</td>\n",
       "      <td>1044</td>\n",
       "      <td>0</td>\n",
       "    </tr>\n",
       "    <tr>\n",
       "      <th>27</th>\n",
       "      <td>114778</td>\n",
       "      <td>GROCERY I</td>\n",
       "      <td>1016</td>\n",
       "      <td>0</td>\n",
       "    </tr>\n",
       "    <tr>\n",
       "      <th>28</th>\n",
       "      <td>114790</td>\n",
       "      <td>GROCERY I</td>\n",
       "      <td>1004</td>\n",
       "      <td>0</td>\n",
       "    </tr>\n",
       "    <tr>\n",
       "      <th>29</th>\n",
       "      <td>114799</td>\n",
       "      <td>PERSONAL CARE</td>\n",
       "      <td>4126</td>\n",
       "      <td>0</td>\n",
       "    </tr>\n",
       "    <tr>\n",
       "      <th>30</th>\n",
       "      <td>114800</td>\n",
       "      <td>PERSONAL CARE</td>\n",
       "      <td>4126</td>\n",
       "      <td>0</td>\n",
       "    </tr>\n",
       "    <tr>\n",
       "      <th>31</th>\n",
       "      <td>115267</td>\n",
       "      <td>CLEANING</td>\n",
       "      <td>3034</td>\n",
       "      <td>0</td>\n",
       "    </tr>\n",
       "    <tr>\n",
       "      <th>32</th>\n",
       "      <td>115611</td>\n",
       "      <td>GROCERY I</td>\n",
       "      <td>1014</td>\n",
       "      <td>0</td>\n",
       "    </tr>\n",
       "    <tr>\n",
       "      <th>33</th>\n",
       "      <td>115693</td>\n",
       "      <td>GROCERY I</td>\n",
       "      <td>1040</td>\n",
       "      <td>0</td>\n",
       "    </tr>\n",
       "    <tr>\n",
       "      <th>34</th>\n",
       "      <td>115720</td>\n",
       "      <td>GROCERY I</td>\n",
       "      <td>1084</td>\n",
       "      <td>0</td>\n",
       "    </tr>\n",
       "    <tr>\n",
       "      <th>35</th>\n",
       "      <td>115847</td>\n",
       "      <td>LINGERIE</td>\n",
       "      <td>7034</td>\n",
       "      <td>0</td>\n",
       "    </tr>\n",
       "    <tr>\n",
       "      <th>36</th>\n",
       "      <td>115850</td>\n",
       "      <td>GROCERY I</td>\n",
       "      <td>1004</td>\n",
       "      <td>0</td>\n",
       "    </tr>\n",
       "    <tr>\n",
       "      <th>37</th>\n",
       "      <td>115891</td>\n",
       "      <td>GROCERY I</td>\n",
       "      <td>1016</td>\n",
       "      <td>0</td>\n",
       "    </tr>\n",
       "    <tr>\n",
       "      <th>38</th>\n",
       "      <td>115892</td>\n",
       "      <td>GROCERY I</td>\n",
       "      <td>1016</td>\n",
       "      <td>0</td>\n",
       "    </tr>\n",
       "    <tr>\n",
       "      <th>39</th>\n",
       "      <td>115893</td>\n",
       "      <td>GROCERY I</td>\n",
       "      <td>1016</td>\n",
       "      <td>0</td>\n",
       "    </tr>\n",
       "    <tr>\n",
       "      <th>40</th>\n",
       "      <td>115894</td>\n",
       "      <td>GROCERY I</td>\n",
       "      <td>1016</td>\n",
       "      <td>0</td>\n",
       "    </tr>\n",
       "    <tr>\n",
       "      <th>41</th>\n",
       "      <td>116017</td>\n",
       "      <td>GROCERY I</td>\n",
       "      <td>1072</td>\n",
       "      <td>0</td>\n",
       "    </tr>\n",
       "    <tr>\n",
       "      <th>42</th>\n",
       "      <td>116018</td>\n",
       "      <td>GROCERY I</td>\n",
       "      <td>1072</td>\n",
       "      <td>0</td>\n",
       "    </tr>\n",
       "    <tr>\n",
       "      <th>43</th>\n",
       "      <td>116279</td>\n",
       "      <td>GROCERY I</td>\n",
       "      <td>1056</td>\n",
       "      <td>0</td>\n",
       "    </tr>\n",
       "    <tr>\n",
       "      <th>44</th>\n",
       "      <td>116311</td>\n",
       "      <td>CLEANING</td>\n",
       "      <td>3090</td>\n",
       "      <td>0</td>\n",
       "    </tr>\n",
       "    <tr>\n",
       "      <th>45</th>\n",
       "      <td>119023</td>\n",
       "      <td>CLEANING</td>\n",
       "      <td>3026</td>\n",
       "      <td>0</td>\n",
       "    </tr>\n",
       "    <tr>\n",
       "      <th>46</th>\n",
       "      <td>119024</td>\n",
       "      <td>CLEANING</td>\n",
       "      <td>3026</td>\n",
       "      <td>0</td>\n",
       "    </tr>\n",
       "    <tr>\n",
       "      <th>47</th>\n",
       "      <td>119026</td>\n",
       "      <td>CLEANING</td>\n",
       "      <td>3026</td>\n",
       "      <td>0</td>\n",
       "    </tr>\n",
       "    <tr>\n",
       "      <th>48</th>\n",
       "      <td>119141</td>\n",
       "      <td>GROCERY I</td>\n",
       "      <td>1042</td>\n",
       "      <td>0</td>\n",
       "    </tr>\n",
       "    <tr>\n",
       "      <th>49</th>\n",
       "      <td>119187</td>\n",
       "      <td>CLEANING</td>\n",
       "      <td>3044</td>\n",
       "      <td>0</td>\n",
       "    </tr>\n",
       "  </tbody>\n",
       "</table>\n",
       "</div>"
      ],
      "text/plain": [
       "    item_nbr         family  class  perishable\n",
       "0      96995      GROCERY I   1093           0\n",
       "1      99197      GROCERY I   1067           0\n",
       "2     103501       CLEANING   3008           0\n",
       "3     103520      GROCERY I   1028           0\n",
       "4     103665   BREAD/BAKERY   2712           1\n",
       "5     105574      GROCERY I   1045           0\n",
       "6     105575      GROCERY I   1045           0\n",
       "7     105576      GROCERY I   1045           0\n",
       "8     105577      GROCERY I   1045           0\n",
       "9     105693      GROCERY I   1034           0\n",
       "10    105737      GROCERY I   1044           0\n",
       "11    105857      GROCERY I   1092           0\n",
       "12    106716      GROCERY I   1032           0\n",
       "13    108079      GROCERY I   1030           0\n",
       "14    108634      GROCERY I   1075           0\n",
       "15    108696           DELI   2636           1\n",
       "16    108698           DELI   2644           1\n",
       "17    108701           DELI   2644           1\n",
       "18    108786       CLEANING   3044           0\n",
       "19    108797      GROCERY I   1004           0\n",
       "20    108831        POULTRY   2416           1\n",
       "21    108833           EGGS   2502           1\n",
       "22    108862      GROCERY I   1062           0\n",
       "23    108952       CLEANING   3024           0\n",
       "24    111223      GROCERY I   1034           0\n",
       "25    111397      GROCERY I   1072           0\n",
       "26    112830      GROCERY I   1044           0\n",
       "27    114778      GROCERY I   1016           0\n",
       "28    114790      GROCERY I   1004           0\n",
       "29    114799  PERSONAL CARE   4126           0\n",
       "30    114800  PERSONAL CARE   4126           0\n",
       "31    115267       CLEANING   3034           0\n",
       "32    115611      GROCERY I   1014           0\n",
       "33    115693      GROCERY I   1040           0\n",
       "34    115720      GROCERY I   1084           0\n",
       "35    115847       LINGERIE   7034           0\n",
       "36    115850      GROCERY I   1004           0\n",
       "37    115891      GROCERY I   1016           0\n",
       "38    115892      GROCERY I   1016           0\n",
       "39    115893      GROCERY I   1016           0\n",
       "40    115894      GROCERY I   1016           0\n",
       "41    116017      GROCERY I   1072           0\n",
       "42    116018      GROCERY I   1072           0\n",
       "43    116279      GROCERY I   1056           0\n",
       "44    116311       CLEANING   3090           0\n",
       "45    119023       CLEANING   3026           0\n",
       "46    119024       CLEANING   3026           0\n",
       "47    119026       CLEANING   3026           0\n",
       "48    119141      GROCERY I   1042           0\n",
       "49    119187       CLEANING   3044           0"
      ]
     },
     "execution_count": 10,
     "metadata": {},
     "output_type": "execute_result"
    }
   ],
   "source": [
    "load_csv_to_sqlite(conn, path, \"items.csv\")"
   ]
  },
  {
   "cell_type": "markdown",
   "id": "657c3ce6",
   "metadata": {},
   "source": [
    "### holidays_events"
   ]
  },
  {
   "cell_type": "code",
   "execution_count": 11,
   "id": "c9b95c25",
   "metadata": {},
   "outputs": [
    {
     "name": "stdout",
     "output_type": "stream",
     "text": [
      "\n",
      "📂 Loading first 50 rows from 'holidays_events.csv' into SQLite...\n",
      "✅ Loaded preview of 'holidays_events.csv' into table 'holidays_events'\n",
      "🔢 Table 'holidays_events' currently has 50 preview rows.\n",
      "🔑 Candidate keys or join fields in 'holidays_events': ['date']\n"
     ]
    },
    {
     "data": {
      "application/vnd.microsoft.datawrangler.viewer.v0+json": {
       "columns": [
        {
         "name": "index",
         "rawType": "int64",
         "type": "integer"
        },
        {
         "name": "date",
         "rawType": "object",
         "type": "string"
        },
        {
         "name": "type",
         "rawType": "object",
         "type": "string"
        },
        {
         "name": "locale",
         "rawType": "object",
         "type": "string"
        },
        {
         "name": "locale_name",
         "rawType": "object",
         "type": "string"
        },
        {
         "name": "description",
         "rawType": "object",
         "type": "string"
        },
        {
         "name": "transferred",
         "rawType": "bool",
         "type": "boolean"
        }
       ],
       "ref": "da185f8b-73c2-4e0f-832a-b904bb968669",
       "rows": [
        [
         "0",
         "2012-03-02",
         "Holiday",
         "Local",
         "Manta",
         "Fundacion de Manta",
         "False"
        ],
        [
         "1",
         "2012-04-01",
         "Holiday",
         "Regional",
         "Cotopaxi",
         "Provincializacion de Cotopaxi",
         "False"
        ],
        [
         "2",
         "2012-04-12",
         "Holiday",
         "Local",
         "Cuenca",
         "Fundacion de Cuenca",
         "False"
        ],
        [
         "3",
         "2012-04-14",
         "Holiday",
         "Local",
         "Libertad",
         "Cantonizacion de Libertad",
         "False"
        ],
        [
         "4",
         "2012-04-21",
         "Holiday",
         "Local",
         "Riobamba",
         "Cantonizacion de Riobamba",
         "False"
        ],
        [
         "5",
         "2012-05-12",
         "Holiday",
         "Local",
         "Puyo",
         "Cantonizacion del Puyo",
         "False"
        ],
        [
         "6",
         "2012-06-23",
         "Holiday",
         "Local",
         "Guaranda",
         "Cantonizacion de Guaranda",
         "False"
        ],
        [
         "7",
         "2012-06-25",
         "Holiday",
         "Regional",
         "Imbabura",
         "Provincializacion de Imbabura",
         "False"
        ],
        [
         "8",
         "2012-06-25",
         "Holiday",
         "Local",
         "Latacunga",
         "Cantonizacion de Latacunga",
         "False"
        ],
        [
         "9",
         "2012-06-25",
         "Holiday",
         "Local",
         "Machala",
         "Fundacion de Machala",
         "False"
        ],
        [
         "10",
         "2012-07-03",
         "Holiday",
         "Local",
         "Santo Domingo",
         "Fundacion de Santo Domingo",
         "False"
        ],
        [
         "11",
         "2012-07-03",
         "Holiday",
         "Local",
         "El Carmen",
         "Cantonizacion de El Carmen",
         "False"
        ],
        [
         "12",
         "2012-07-23",
         "Holiday",
         "Local",
         "Cayambe",
         "Cantonizacion de Cayambe",
         "False"
        ],
        [
         "13",
         "2012-08-05",
         "Holiday",
         "Local",
         "Esmeraldas",
         "Fundacion de Esmeraldas",
         "False"
        ],
        [
         "14",
         "2012-08-10",
         "Holiday",
         "National",
         "Ecuador",
         "Primer Grito de Independencia",
         "False"
        ],
        [
         "15",
         "2012-08-15",
         "Holiday",
         "Local",
         "Riobamba",
         "Fundacion de Riobamba",
         "False"
        ],
        [
         "16",
         "2012-08-24",
         "Holiday",
         "Local",
         "Ambato",
         "Fundacion de Ambato",
         "False"
        ],
        [
         "17",
         "2012-09-28",
         "Holiday",
         "Local",
         "Ibarra",
         "Fundacion de Ibarra",
         "False"
        ],
        [
         "18",
         "2012-10-07",
         "Holiday",
         "Local",
         "Quevedo",
         "Cantonizacion de Quevedo",
         "False"
        ],
        [
         "19",
         "2012-10-09",
         "Holiday",
         "National",
         "Ecuador",
         "Independencia de Guayaquil",
         "True"
        ],
        [
         "20",
         "2012-10-12",
         "Transfer",
         "National",
         "Ecuador",
         "Traslado Independencia de Guayaquil",
         "False"
        ],
        [
         "21",
         "2012-11-02",
         "Holiday",
         "National",
         "Ecuador",
         "Dia de Difuntos",
         "False"
        ],
        [
         "22",
         "2012-11-03",
         "Holiday",
         "National",
         "Ecuador",
         "Independencia de Cuenca",
         "False"
        ],
        [
         "23",
         "2012-11-06",
         "Holiday",
         "Regional",
         "Santo Domingo de los Tsachilas",
         "Provincializacion de Santo Domingo",
         "False"
        ],
        [
         "24",
         "2012-11-07",
         "Holiday",
         "Regional",
         "Santa Elena",
         "Provincializacion Santa Elena",
         "False"
        ],
        [
         "25",
         "2012-11-10",
         "Holiday",
         "Local",
         "Guaranda",
         "Independencia de Guaranda",
         "False"
        ],
        [
         "26",
         "2012-11-11",
         "Holiday",
         "Local",
         "Latacunga",
         "Independencia de Latacunga",
         "False"
        ],
        [
         "27",
         "2012-11-12",
         "Holiday",
         "Local",
         "Ambato",
         "Independencia de Ambato",
         "False"
        ],
        [
         "28",
         "2012-12-05",
         "Additional",
         "Local",
         "Quito",
         "Fundacion de Quito-1",
         "False"
        ],
        [
         "29",
         "2012-12-06",
         "Holiday",
         "Local",
         "Quito",
         "Fundacion de Quito",
         "False"
        ],
        [
         "30",
         "2012-12-08",
         "Holiday",
         "Local",
         "Loja",
         "Fundacion de Loja",
         "False"
        ],
        [
         "31",
         "2012-12-21",
         "Additional",
         "National",
         "Ecuador",
         "Navidad-4",
         "False"
        ],
        [
         "32",
         "2012-12-22",
         "Holiday",
         "Local",
         "Salinas",
         "Cantonizacion de Salinas",
         "False"
        ],
        [
         "33",
         "2012-12-22",
         "Additional",
         "National",
         "Ecuador",
         "Navidad-3",
         "False"
        ],
        [
         "34",
         "2012-12-23",
         "Additional",
         "National",
         "Ecuador",
         "Navidad-2",
         "False"
        ],
        [
         "35",
         "2012-12-24",
         "Bridge",
         "National",
         "Ecuador",
         "Puente Navidad",
         "False"
        ],
        [
         "36",
         "2012-12-24",
         "Additional",
         "National",
         "Ecuador",
         "Navidad-1",
         "False"
        ],
        [
         "37",
         "2012-12-25",
         "Holiday",
         "National",
         "Ecuador",
         "Navidad",
         "False"
        ],
        [
         "38",
         "2012-12-26",
         "Additional",
         "National",
         "Ecuador",
         "Navidad+1",
         "False"
        ],
        [
         "39",
         "2012-12-31",
         "Bridge",
         "National",
         "Ecuador",
         "Puente Primer dia del ano",
         "False"
        ],
        [
         "40",
         "2012-12-31",
         "Additional",
         "National",
         "Ecuador",
         "Primer dia del ano-1",
         "False"
        ],
        [
         "41",
         "2013-01-01",
         "Holiday",
         "National",
         "Ecuador",
         "Primer dia del ano",
         "False"
        ],
        [
         "42",
         "2013-01-05",
         "Work Day",
         "National",
         "Ecuador",
         "Recupero puente Navidad",
         "False"
        ],
        [
         "43",
         "2013-01-12",
         "Work Day",
         "National",
         "Ecuador",
         "Recupero puente primer dia del ano",
         "False"
        ],
        [
         "44",
         "2013-02-11",
         "Holiday",
         "National",
         "Ecuador",
         "Carnaval",
         "False"
        ],
        [
         "45",
         "2013-02-12",
         "Holiday",
         "National",
         "Ecuador",
         "Carnaval",
         "False"
        ],
        [
         "46",
         "2013-03-02",
         "Holiday",
         "Local",
         "Manta",
         "Fundacion de Manta",
         "False"
        ],
        [
         "47",
         "2013-04-01",
         "Holiday",
         "Regional",
         "Cotopaxi",
         "Provincializacion de Cotopaxi",
         "False"
        ],
        [
         "48",
         "2013-04-12",
         "Holiday",
         "Local",
         "Cuenca",
         "Fundacion de Cuenca",
         "False"
        ],
        [
         "49",
         "2013-04-14",
         "Holiday",
         "Local",
         "Libertad",
         "Cantonizacion de Libertad",
         "False"
        ]
       ],
       "shape": {
        "columns": 6,
        "rows": 50
       }
      },
      "text/html": [
       "<div>\n",
       "<style scoped>\n",
       "    .dataframe tbody tr th:only-of-type {\n",
       "        vertical-align: middle;\n",
       "    }\n",
       "\n",
       "    .dataframe tbody tr th {\n",
       "        vertical-align: top;\n",
       "    }\n",
       "\n",
       "    .dataframe thead th {\n",
       "        text-align: right;\n",
       "    }\n",
       "</style>\n",
       "<table border=\"1\" class=\"dataframe\">\n",
       "  <thead>\n",
       "    <tr style=\"text-align: right;\">\n",
       "      <th></th>\n",
       "      <th>date</th>\n",
       "      <th>type</th>\n",
       "      <th>locale</th>\n",
       "      <th>locale_name</th>\n",
       "      <th>description</th>\n",
       "      <th>transferred</th>\n",
       "    </tr>\n",
       "  </thead>\n",
       "  <tbody>\n",
       "    <tr>\n",
       "      <th>0</th>\n",
       "      <td>2012-03-02</td>\n",
       "      <td>Holiday</td>\n",
       "      <td>Local</td>\n",
       "      <td>Manta</td>\n",
       "      <td>Fundacion de Manta</td>\n",
       "      <td>False</td>\n",
       "    </tr>\n",
       "    <tr>\n",
       "      <th>1</th>\n",
       "      <td>2012-04-01</td>\n",
       "      <td>Holiday</td>\n",
       "      <td>Regional</td>\n",
       "      <td>Cotopaxi</td>\n",
       "      <td>Provincializacion de Cotopaxi</td>\n",
       "      <td>False</td>\n",
       "    </tr>\n",
       "    <tr>\n",
       "      <th>2</th>\n",
       "      <td>2012-04-12</td>\n",
       "      <td>Holiday</td>\n",
       "      <td>Local</td>\n",
       "      <td>Cuenca</td>\n",
       "      <td>Fundacion de Cuenca</td>\n",
       "      <td>False</td>\n",
       "    </tr>\n",
       "    <tr>\n",
       "      <th>3</th>\n",
       "      <td>2012-04-14</td>\n",
       "      <td>Holiday</td>\n",
       "      <td>Local</td>\n",
       "      <td>Libertad</td>\n",
       "      <td>Cantonizacion de Libertad</td>\n",
       "      <td>False</td>\n",
       "    </tr>\n",
       "    <tr>\n",
       "      <th>4</th>\n",
       "      <td>2012-04-21</td>\n",
       "      <td>Holiday</td>\n",
       "      <td>Local</td>\n",
       "      <td>Riobamba</td>\n",
       "      <td>Cantonizacion de Riobamba</td>\n",
       "      <td>False</td>\n",
       "    </tr>\n",
       "    <tr>\n",
       "      <th>5</th>\n",
       "      <td>2012-05-12</td>\n",
       "      <td>Holiday</td>\n",
       "      <td>Local</td>\n",
       "      <td>Puyo</td>\n",
       "      <td>Cantonizacion del Puyo</td>\n",
       "      <td>False</td>\n",
       "    </tr>\n",
       "    <tr>\n",
       "      <th>6</th>\n",
       "      <td>2012-06-23</td>\n",
       "      <td>Holiday</td>\n",
       "      <td>Local</td>\n",
       "      <td>Guaranda</td>\n",
       "      <td>Cantonizacion de Guaranda</td>\n",
       "      <td>False</td>\n",
       "    </tr>\n",
       "    <tr>\n",
       "      <th>7</th>\n",
       "      <td>2012-06-25</td>\n",
       "      <td>Holiday</td>\n",
       "      <td>Regional</td>\n",
       "      <td>Imbabura</td>\n",
       "      <td>Provincializacion de Imbabura</td>\n",
       "      <td>False</td>\n",
       "    </tr>\n",
       "    <tr>\n",
       "      <th>8</th>\n",
       "      <td>2012-06-25</td>\n",
       "      <td>Holiday</td>\n",
       "      <td>Local</td>\n",
       "      <td>Latacunga</td>\n",
       "      <td>Cantonizacion de Latacunga</td>\n",
       "      <td>False</td>\n",
       "    </tr>\n",
       "    <tr>\n",
       "      <th>9</th>\n",
       "      <td>2012-06-25</td>\n",
       "      <td>Holiday</td>\n",
       "      <td>Local</td>\n",
       "      <td>Machala</td>\n",
       "      <td>Fundacion de Machala</td>\n",
       "      <td>False</td>\n",
       "    </tr>\n",
       "    <tr>\n",
       "      <th>10</th>\n",
       "      <td>2012-07-03</td>\n",
       "      <td>Holiday</td>\n",
       "      <td>Local</td>\n",
       "      <td>Santo Domingo</td>\n",
       "      <td>Fundacion de Santo Domingo</td>\n",
       "      <td>False</td>\n",
       "    </tr>\n",
       "    <tr>\n",
       "      <th>11</th>\n",
       "      <td>2012-07-03</td>\n",
       "      <td>Holiday</td>\n",
       "      <td>Local</td>\n",
       "      <td>El Carmen</td>\n",
       "      <td>Cantonizacion de El Carmen</td>\n",
       "      <td>False</td>\n",
       "    </tr>\n",
       "    <tr>\n",
       "      <th>12</th>\n",
       "      <td>2012-07-23</td>\n",
       "      <td>Holiday</td>\n",
       "      <td>Local</td>\n",
       "      <td>Cayambe</td>\n",
       "      <td>Cantonizacion de Cayambe</td>\n",
       "      <td>False</td>\n",
       "    </tr>\n",
       "    <tr>\n",
       "      <th>13</th>\n",
       "      <td>2012-08-05</td>\n",
       "      <td>Holiday</td>\n",
       "      <td>Local</td>\n",
       "      <td>Esmeraldas</td>\n",
       "      <td>Fundacion de Esmeraldas</td>\n",
       "      <td>False</td>\n",
       "    </tr>\n",
       "    <tr>\n",
       "      <th>14</th>\n",
       "      <td>2012-08-10</td>\n",
       "      <td>Holiday</td>\n",
       "      <td>National</td>\n",
       "      <td>Ecuador</td>\n",
       "      <td>Primer Grito de Independencia</td>\n",
       "      <td>False</td>\n",
       "    </tr>\n",
       "    <tr>\n",
       "      <th>15</th>\n",
       "      <td>2012-08-15</td>\n",
       "      <td>Holiday</td>\n",
       "      <td>Local</td>\n",
       "      <td>Riobamba</td>\n",
       "      <td>Fundacion de Riobamba</td>\n",
       "      <td>False</td>\n",
       "    </tr>\n",
       "    <tr>\n",
       "      <th>16</th>\n",
       "      <td>2012-08-24</td>\n",
       "      <td>Holiday</td>\n",
       "      <td>Local</td>\n",
       "      <td>Ambato</td>\n",
       "      <td>Fundacion de Ambato</td>\n",
       "      <td>False</td>\n",
       "    </tr>\n",
       "    <tr>\n",
       "      <th>17</th>\n",
       "      <td>2012-09-28</td>\n",
       "      <td>Holiday</td>\n",
       "      <td>Local</td>\n",
       "      <td>Ibarra</td>\n",
       "      <td>Fundacion de Ibarra</td>\n",
       "      <td>False</td>\n",
       "    </tr>\n",
       "    <tr>\n",
       "      <th>18</th>\n",
       "      <td>2012-10-07</td>\n",
       "      <td>Holiday</td>\n",
       "      <td>Local</td>\n",
       "      <td>Quevedo</td>\n",
       "      <td>Cantonizacion de Quevedo</td>\n",
       "      <td>False</td>\n",
       "    </tr>\n",
       "    <tr>\n",
       "      <th>19</th>\n",
       "      <td>2012-10-09</td>\n",
       "      <td>Holiday</td>\n",
       "      <td>National</td>\n",
       "      <td>Ecuador</td>\n",
       "      <td>Independencia de Guayaquil</td>\n",
       "      <td>True</td>\n",
       "    </tr>\n",
       "    <tr>\n",
       "      <th>20</th>\n",
       "      <td>2012-10-12</td>\n",
       "      <td>Transfer</td>\n",
       "      <td>National</td>\n",
       "      <td>Ecuador</td>\n",
       "      <td>Traslado Independencia de Guayaquil</td>\n",
       "      <td>False</td>\n",
       "    </tr>\n",
       "    <tr>\n",
       "      <th>21</th>\n",
       "      <td>2012-11-02</td>\n",
       "      <td>Holiday</td>\n",
       "      <td>National</td>\n",
       "      <td>Ecuador</td>\n",
       "      <td>Dia de Difuntos</td>\n",
       "      <td>False</td>\n",
       "    </tr>\n",
       "    <tr>\n",
       "      <th>22</th>\n",
       "      <td>2012-11-03</td>\n",
       "      <td>Holiday</td>\n",
       "      <td>National</td>\n",
       "      <td>Ecuador</td>\n",
       "      <td>Independencia de Cuenca</td>\n",
       "      <td>False</td>\n",
       "    </tr>\n",
       "    <tr>\n",
       "      <th>23</th>\n",
       "      <td>2012-11-06</td>\n",
       "      <td>Holiday</td>\n",
       "      <td>Regional</td>\n",
       "      <td>Santo Domingo de los Tsachilas</td>\n",
       "      <td>Provincializacion de Santo Domingo</td>\n",
       "      <td>False</td>\n",
       "    </tr>\n",
       "    <tr>\n",
       "      <th>24</th>\n",
       "      <td>2012-11-07</td>\n",
       "      <td>Holiday</td>\n",
       "      <td>Regional</td>\n",
       "      <td>Santa Elena</td>\n",
       "      <td>Provincializacion Santa Elena</td>\n",
       "      <td>False</td>\n",
       "    </tr>\n",
       "    <tr>\n",
       "      <th>25</th>\n",
       "      <td>2012-11-10</td>\n",
       "      <td>Holiday</td>\n",
       "      <td>Local</td>\n",
       "      <td>Guaranda</td>\n",
       "      <td>Independencia de Guaranda</td>\n",
       "      <td>False</td>\n",
       "    </tr>\n",
       "    <tr>\n",
       "      <th>26</th>\n",
       "      <td>2012-11-11</td>\n",
       "      <td>Holiday</td>\n",
       "      <td>Local</td>\n",
       "      <td>Latacunga</td>\n",
       "      <td>Independencia de Latacunga</td>\n",
       "      <td>False</td>\n",
       "    </tr>\n",
       "    <tr>\n",
       "      <th>27</th>\n",
       "      <td>2012-11-12</td>\n",
       "      <td>Holiday</td>\n",
       "      <td>Local</td>\n",
       "      <td>Ambato</td>\n",
       "      <td>Independencia de Ambato</td>\n",
       "      <td>False</td>\n",
       "    </tr>\n",
       "    <tr>\n",
       "      <th>28</th>\n",
       "      <td>2012-12-05</td>\n",
       "      <td>Additional</td>\n",
       "      <td>Local</td>\n",
       "      <td>Quito</td>\n",
       "      <td>Fundacion de Quito-1</td>\n",
       "      <td>False</td>\n",
       "    </tr>\n",
       "    <tr>\n",
       "      <th>29</th>\n",
       "      <td>2012-12-06</td>\n",
       "      <td>Holiday</td>\n",
       "      <td>Local</td>\n",
       "      <td>Quito</td>\n",
       "      <td>Fundacion de Quito</td>\n",
       "      <td>False</td>\n",
       "    </tr>\n",
       "    <tr>\n",
       "      <th>30</th>\n",
       "      <td>2012-12-08</td>\n",
       "      <td>Holiday</td>\n",
       "      <td>Local</td>\n",
       "      <td>Loja</td>\n",
       "      <td>Fundacion de Loja</td>\n",
       "      <td>False</td>\n",
       "    </tr>\n",
       "    <tr>\n",
       "      <th>31</th>\n",
       "      <td>2012-12-21</td>\n",
       "      <td>Additional</td>\n",
       "      <td>National</td>\n",
       "      <td>Ecuador</td>\n",
       "      <td>Navidad-4</td>\n",
       "      <td>False</td>\n",
       "    </tr>\n",
       "    <tr>\n",
       "      <th>32</th>\n",
       "      <td>2012-12-22</td>\n",
       "      <td>Holiday</td>\n",
       "      <td>Local</td>\n",
       "      <td>Salinas</td>\n",
       "      <td>Cantonizacion de Salinas</td>\n",
       "      <td>False</td>\n",
       "    </tr>\n",
       "    <tr>\n",
       "      <th>33</th>\n",
       "      <td>2012-12-22</td>\n",
       "      <td>Additional</td>\n",
       "      <td>National</td>\n",
       "      <td>Ecuador</td>\n",
       "      <td>Navidad-3</td>\n",
       "      <td>False</td>\n",
       "    </tr>\n",
       "    <tr>\n",
       "      <th>34</th>\n",
       "      <td>2012-12-23</td>\n",
       "      <td>Additional</td>\n",
       "      <td>National</td>\n",
       "      <td>Ecuador</td>\n",
       "      <td>Navidad-2</td>\n",
       "      <td>False</td>\n",
       "    </tr>\n",
       "    <tr>\n",
       "      <th>35</th>\n",
       "      <td>2012-12-24</td>\n",
       "      <td>Bridge</td>\n",
       "      <td>National</td>\n",
       "      <td>Ecuador</td>\n",
       "      <td>Puente Navidad</td>\n",
       "      <td>False</td>\n",
       "    </tr>\n",
       "    <tr>\n",
       "      <th>36</th>\n",
       "      <td>2012-12-24</td>\n",
       "      <td>Additional</td>\n",
       "      <td>National</td>\n",
       "      <td>Ecuador</td>\n",
       "      <td>Navidad-1</td>\n",
       "      <td>False</td>\n",
       "    </tr>\n",
       "    <tr>\n",
       "      <th>37</th>\n",
       "      <td>2012-12-25</td>\n",
       "      <td>Holiday</td>\n",
       "      <td>National</td>\n",
       "      <td>Ecuador</td>\n",
       "      <td>Navidad</td>\n",
       "      <td>False</td>\n",
       "    </tr>\n",
       "    <tr>\n",
       "      <th>38</th>\n",
       "      <td>2012-12-26</td>\n",
       "      <td>Additional</td>\n",
       "      <td>National</td>\n",
       "      <td>Ecuador</td>\n",
       "      <td>Navidad+1</td>\n",
       "      <td>False</td>\n",
       "    </tr>\n",
       "    <tr>\n",
       "      <th>39</th>\n",
       "      <td>2012-12-31</td>\n",
       "      <td>Bridge</td>\n",
       "      <td>National</td>\n",
       "      <td>Ecuador</td>\n",
       "      <td>Puente Primer dia del ano</td>\n",
       "      <td>False</td>\n",
       "    </tr>\n",
       "    <tr>\n",
       "      <th>40</th>\n",
       "      <td>2012-12-31</td>\n",
       "      <td>Additional</td>\n",
       "      <td>National</td>\n",
       "      <td>Ecuador</td>\n",
       "      <td>Primer dia del ano-1</td>\n",
       "      <td>False</td>\n",
       "    </tr>\n",
       "    <tr>\n",
       "      <th>41</th>\n",
       "      <td>2013-01-01</td>\n",
       "      <td>Holiday</td>\n",
       "      <td>National</td>\n",
       "      <td>Ecuador</td>\n",
       "      <td>Primer dia del ano</td>\n",
       "      <td>False</td>\n",
       "    </tr>\n",
       "    <tr>\n",
       "      <th>42</th>\n",
       "      <td>2013-01-05</td>\n",
       "      <td>Work Day</td>\n",
       "      <td>National</td>\n",
       "      <td>Ecuador</td>\n",
       "      <td>Recupero puente Navidad</td>\n",
       "      <td>False</td>\n",
       "    </tr>\n",
       "    <tr>\n",
       "      <th>43</th>\n",
       "      <td>2013-01-12</td>\n",
       "      <td>Work Day</td>\n",
       "      <td>National</td>\n",
       "      <td>Ecuador</td>\n",
       "      <td>Recupero puente primer dia del ano</td>\n",
       "      <td>False</td>\n",
       "    </tr>\n",
       "    <tr>\n",
       "      <th>44</th>\n",
       "      <td>2013-02-11</td>\n",
       "      <td>Holiday</td>\n",
       "      <td>National</td>\n",
       "      <td>Ecuador</td>\n",
       "      <td>Carnaval</td>\n",
       "      <td>False</td>\n",
       "    </tr>\n",
       "    <tr>\n",
       "      <th>45</th>\n",
       "      <td>2013-02-12</td>\n",
       "      <td>Holiday</td>\n",
       "      <td>National</td>\n",
       "      <td>Ecuador</td>\n",
       "      <td>Carnaval</td>\n",
       "      <td>False</td>\n",
       "    </tr>\n",
       "    <tr>\n",
       "      <th>46</th>\n",
       "      <td>2013-03-02</td>\n",
       "      <td>Holiday</td>\n",
       "      <td>Local</td>\n",
       "      <td>Manta</td>\n",
       "      <td>Fundacion de Manta</td>\n",
       "      <td>False</td>\n",
       "    </tr>\n",
       "    <tr>\n",
       "      <th>47</th>\n",
       "      <td>2013-04-01</td>\n",
       "      <td>Holiday</td>\n",
       "      <td>Regional</td>\n",
       "      <td>Cotopaxi</td>\n",
       "      <td>Provincializacion de Cotopaxi</td>\n",
       "      <td>False</td>\n",
       "    </tr>\n",
       "    <tr>\n",
       "      <th>48</th>\n",
       "      <td>2013-04-12</td>\n",
       "      <td>Holiday</td>\n",
       "      <td>Local</td>\n",
       "      <td>Cuenca</td>\n",
       "      <td>Fundacion de Cuenca</td>\n",
       "      <td>False</td>\n",
       "    </tr>\n",
       "    <tr>\n",
       "      <th>49</th>\n",
       "      <td>2013-04-14</td>\n",
       "      <td>Holiday</td>\n",
       "      <td>Local</td>\n",
       "      <td>Libertad</td>\n",
       "      <td>Cantonizacion de Libertad</td>\n",
       "      <td>False</td>\n",
       "    </tr>\n",
       "  </tbody>\n",
       "</table>\n",
       "</div>"
      ],
      "text/plain": [
       "          date        type    locale                     locale_name  \\\n",
       "0   2012-03-02     Holiday     Local                           Manta   \n",
       "1   2012-04-01     Holiday  Regional                        Cotopaxi   \n",
       "2   2012-04-12     Holiday     Local                          Cuenca   \n",
       "3   2012-04-14     Holiday     Local                        Libertad   \n",
       "4   2012-04-21     Holiday     Local                        Riobamba   \n",
       "5   2012-05-12     Holiday     Local                            Puyo   \n",
       "6   2012-06-23     Holiday     Local                        Guaranda   \n",
       "7   2012-06-25     Holiday  Regional                        Imbabura   \n",
       "8   2012-06-25     Holiday     Local                       Latacunga   \n",
       "9   2012-06-25     Holiday     Local                         Machala   \n",
       "10  2012-07-03     Holiday     Local                   Santo Domingo   \n",
       "11  2012-07-03     Holiday     Local                       El Carmen   \n",
       "12  2012-07-23     Holiday     Local                         Cayambe   \n",
       "13  2012-08-05     Holiday     Local                      Esmeraldas   \n",
       "14  2012-08-10     Holiday  National                         Ecuador   \n",
       "15  2012-08-15     Holiday     Local                        Riobamba   \n",
       "16  2012-08-24     Holiday     Local                          Ambato   \n",
       "17  2012-09-28     Holiday     Local                          Ibarra   \n",
       "18  2012-10-07     Holiday     Local                         Quevedo   \n",
       "19  2012-10-09     Holiday  National                         Ecuador   \n",
       "20  2012-10-12    Transfer  National                         Ecuador   \n",
       "21  2012-11-02     Holiday  National                         Ecuador   \n",
       "22  2012-11-03     Holiday  National                         Ecuador   \n",
       "23  2012-11-06     Holiday  Regional  Santo Domingo de los Tsachilas   \n",
       "24  2012-11-07     Holiday  Regional                     Santa Elena   \n",
       "25  2012-11-10     Holiday     Local                        Guaranda   \n",
       "26  2012-11-11     Holiday     Local                       Latacunga   \n",
       "27  2012-11-12     Holiday     Local                          Ambato   \n",
       "28  2012-12-05  Additional     Local                           Quito   \n",
       "29  2012-12-06     Holiday     Local                           Quito   \n",
       "30  2012-12-08     Holiday     Local                            Loja   \n",
       "31  2012-12-21  Additional  National                         Ecuador   \n",
       "32  2012-12-22     Holiday     Local                         Salinas   \n",
       "33  2012-12-22  Additional  National                         Ecuador   \n",
       "34  2012-12-23  Additional  National                         Ecuador   \n",
       "35  2012-12-24      Bridge  National                         Ecuador   \n",
       "36  2012-12-24  Additional  National                         Ecuador   \n",
       "37  2012-12-25     Holiday  National                         Ecuador   \n",
       "38  2012-12-26  Additional  National                         Ecuador   \n",
       "39  2012-12-31      Bridge  National                         Ecuador   \n",
       "40  2012-12-31  Additional  National                         Ecuador   \n",
       "41  2013-01-01     Holiday  National                         Ecuador   \n",
       "42  2013-01-05    Work Day  National                         Ecuador   \n",
       "43  2013-01-12    Work Day  National                         Ecuador   \n",
       "44  2013-02-11     Holiday  National                         Ecuador   \n",
       "45  2013-02-12     Holiday  National                         Ecuador   \n",
       "46  2013-03-02     Holiday     Local                           Manta   \n",
       "47  2013-04-01     Holiday  Regional                        Cotopaxi   \n",
       "48  2013-04-12     Holiday     Local                          Cuenca   \n",
       "49  2013-04-14     Holiday     Local                        Libertad   \n",
       "\n",
       "                            description  transferred  \n",
       "0                    Fundacion de Manta        False  \n",
       "1         Provincializacion de Cotopaxi        False  \n",
       "2                   Fundacion de Cuenca        False  \n",
       "3             Cantonizacion de Libertad        False  \n",
       "4             Cantonizacion de Riobamba        False  \n",
       "5                Cantonizacion del Puyo        False  \n",
       "6             Cantonizacion de Guaranda        False  \n",
       "7         Provincializacion de Imbabura        False  \n",
       "8            Cantonizacion de Latacunga        False  \n",
       "9                  Fundacion de Machala        False  \n",
       "10           Fundacion de Santo Domingo        False  \n",
       "11           Cantonizacion de El Carmen        False  \n",
       "12             Cantonizacion de Cayambe        False  \n",
       "13              Fundacion de Esmeraldas        False  \n",
       "14        Primer Grito de Independencia        False  \n",
       "15                Fundacion de Riobamba        False  \n",
       "16                  Fundacion de Ambato        False  \n",
       "17                  Fundacion de Ibarra        False  \n",
       "18             Cantonizacion de Quevedo        False  \n",
       "19           Independencia de Guayaquil         True  \n",
       "20  Traslado Independencia de Guayaquil        False  \n",
       "21                      Dia de Difuntos        False  \n",
       "22              Independencia de Cuenca        False  \n",
       "23   Provincializacion de Santo Domingo        False  \n",
       "24        Provincializacion Santa Elena        False  \n",
       "25            Independencia de Guaranda        False  \n",
       "26           Independencia de Latacunga        False  \n",
       "27              Independencia de Ambato        False  \n",
       "28                 Fundacion de Quito-1        False  \n",
       "29                   Fundacion de Quito        False  \n",
       "30                    Fundacion de Loja        False  \n",
       "31                            Navidad-4        False  \n",
       "32             Cantonizacion de Salinas        False  \n",
       "33                            Navidad-3        False  \n",
       "34                            Navidad-2        False  \n",
       "35                       Puente Navidad        False  \n",
       "36                            Navidad-1        False  \n",
       "37                              Navidad        False  \n",
       "38                            Navidad+1        False  \n",
       "39            Puente Primer dia del ano        False  \n",
       "40                 Primer dia del ano-1        False  \n",
       "41                   Primer dia del ano        False  \n",
       "42              Recupero puente Navidad        False  \n",
       "43   Recupero puente primer dia del ano        False  \n",
       "44                             Carnaval        False  \n",
       "45                             Carnaval        False  \n",
       "46                   Fundacion de Manta        False  \n",
       "47        Provincializacion de Cotopaxi        False  \n",
       "48                  Fundacion de Cuenca        False  \n",
       "49            Cantonizacion de Libertad        False  "
      ]
     },
     "execution_count": 11,
     "metadata": {},
     "output_type": "execute_result"
    }
   ],
   "source": [
    "load_csv_to_sqlite(conn, path, \"holidays_events.csv\")"
   ]
  },
  {
   "cell_type": "markdown",
   "id": "74f347d6",
   "metadata": {},
   "source": [
    "### stores"
   ]
  },
  {
   "cell_type": "code",
   "execution_count": 12,
   "id": "7cb91347",
   "metadata": {},
   "outputs": [
    {
     "name": "stdout",
     "output_type": "stream",
     "text": [
      "\n",
      "📂 Loading first 50 rows from 'stores.csv' into SQLite...\n",
      "✅ Loaded preview of 'stores.csv' into table 'stores'\n",
      "🔢 Table 'stores' currently has 50 preview rows.\n",
      "🔑 Candidate keys or join fields in 'stores': ['store_nbr']\n"
     ]
    },
    {
     "data": {
      "application/vnd.microsoft.datawrangler.viewer.v0+json": {
       "columns": [
        {
         "name": "index",
         "rawType": "int64",
         "type": "integer"
        },
        {
         "name": "store_nbr",
         "rawType": "int64",
         "type": "integer"
        },
        {
         "name": "city",
         "rawType": "object",
         "type": "string"
        },
        {
         "name": "state",
         "rawType": "object",
         "type": "string"
        },
        {
         "name": "type",
         "rawType": "object",
         "type": "string"
        },
        {
         "name": "cluster",
         "rawType": "int64",
         "type": "integer"
        }
       ],
       "ref": "ac990445-f8f7-480d-8341-1348caf8a61e",
       "rows": [
        [
         "0",
         "1",
         "Quito",
         "Pichincha",
         "D",
         "13"
        ],
        [
         "1",
         "2",
         "Quito",
         "Pichincha",
         "D",
         "13"
        ],
        [
         "2",
         "3",
         "Quito",
         "Pichincha",
         "D",
         "8"
        ],
        [
         "3",
         "4",
         "Quito",
         "Pichincha",
         "D",
         "9"
        ],
        [
         "4",
         "5",
         "Santo Domingo",
         "Santo Domingo de los Tsachilas",
         "D",
         "4"
        ],
        [
         "5",
         "6",
         "Quito",
         "Pichincha",
         "D",
         "13"
        ],
        [
         "6",
         "7",
         "Quito",
         "Pichincha",
         "D",
         "8"
        ],
        [
         "7",
         "8",
         "Quito",
         "Pichincha",
         "D",
         "8"
        ],
        [
         "8",
         "9",
         "Quito",
         "Pichincha",
         "B",
         "6"
        ],
        [
         "9",
         "10",
         "Quito",
         "Pichincha",
         "C",
         "15"
        ],
        [
         "10",
         "11",
         "Cayambe",
         "Pichincha",
         "B",
         "6"
        ],
        [
         "11",
         "12",
         "Latacunga",
         "Cotopaxi",
         "C",
         "15"
        ],
        [
         "12",
         "13",
         "Latacunga",
         "Cotopaxi",
         "C",
         "15"
        ],
        [
         "13",
         "14",
         "Riobamba",
         "Chimborazo",
         "C",
         "7"
        ],
        [
         "14",
         "15",
         "Ibarra",
         "Imbabura",
         "C",
         "15"
        ],
        [
         "15",
         "16",
         "Santo Domingo",
         "Santo Domingo de los Tsachilas",
         "C",
         "3"
        ],
        [
         "16",
         "17",
         "Quito",
         "Pichincha",
         "C",
         "12"
        ],
        [
         "17",
         "18",
         "Quito",
         "Pichincha",
         "B",
         "16"
        ],
        [
         "18",
         "19",
         "Guaranda",
         "Bolivar",
         "C",
         "15"
        ],
        [
         "19",
         "20",
         "Quito",
         "Pichincha",
         "B",
         "6"
        ],
        [
         "20",
         "21",
         "Santo Domingo",
         "Santo Domingo de los Tsachilas",
         "B",
         "6"
        ],
        [
         "21",
         "22",
         "Puyo",
         "Pastaza",
         "C",
         "7"
        ],
        [
         "22",
         "23",
         "Ambato",
         "Tungurahua",
         "D",
         "9"
        ],
        [
         "23",
         "24",
         "Guayaquil",
         "Guayas",
         "D",
         "1"
        ],
        [
         "24",
         "25",
         "Salinas",
         "Santa Elena",
         "D",
         "1"
        ],
        [
         "25",
         "26",
         "Guayaquil",
         "Guayas",
         "D",
         "10"
        ],
        [
         "26",
         "27",
         "Daule",
         "Guayas",
         "D",
         "1"
        ],
        [
         "27",
         "28",
         "Guayaquil",
         "Guayas",
         "E",
         "10"
        ],
        [
         "28",
         "29",
         "Guayaquil",
         "Guayas",
         "E",
         "10"
        ],
        [
         "29",
         "30",
         "Guayaquil",
         "Guayas",
         "C",
         "3"
        ],
        [
         "30",
         "31",
         "Babahoyo",
         "Los Rios",
         "B",
         "10"
        ],
        [
         "31",
         "32",
         "Guayaquil",
         "Guayas",
         "C",
         "3"
        ],
        [
         "32",
         "33",
         "Quevedo",
         "Los Rios",
         "C",
         "3"
        ],
        [
         "33",
         "34",
         "Guayaquil",
         "Guayas",
         "B",
         "6"
        ],
        [
         "34",
         "35",
         "Playas",
         "Guayas",
         "C",
         "3"
        ],
        [
         "35",
         "36",
         "Libertad",
         "Guayas",
         "E",
         "10"
        ],
        [
         "36",
         "37",
         "Cuenca",
         "Azuay",
         "D",
         "2"
        ],
        [
         "37",
         "38",
         "Loja",
         "Loja",
         "D",
         "4"
        ],
        [
         "38",
         "39",
         "Cuenca",
         "Azuay",
         "B",
         "6"
        ],
        [
         "39",
         "40",
         "Machala",
         "El Oro",
         "C",
         "3"
        ],
        [
         "40",
         "41",
         "Machala",
         "El Oro",
         "D",
         "4"
        ],
        [
         "41",
         "42",
         "Cuenca",
         "Azuay",
         "D",
         "2"
        ],
        [
         "42",
         "43",
         "Esmeraldas",
         "Esmeraldas",
         "E",
         "10"
        ],
        [
         "43",
         "44",
         "Quito",
         "Pichincha",
         "A",
         "5"
        ],
        [
         "44",
         "45",
         "Quito",
         "Pichincha",
         "A",
         "11"
        ],
        [
         "45",
         "46",
         "Quito",
         "Pichincha",
         "A",
         "14"
        ],
        [
         "46",
         "47",
         "Quito",
         "Pichincha",
         "A",
         "14"
        ],
        [
         "47",
         "48",
         "Quito",
         "Pichincha",
         "A",
         "14"
        ],
        [
         "48",
         "49",
         "Quito",
         "Pichincha",
         "A",
         "11"
        ],
        [
         "49",
         "50",
         "Ambato",
         "Tungurahua",
         "A",
         "14"
        ]
       ],
       "shape": {
        "columns": 5,
        "rows": 50
       }
      },
      "text/html": [
       "<div>\n",
       "<style scoped>\n",
       "    .dataframe tbody tr th:only-of-type {\n",
       "        vertical-align: middle;\n",
       "    }\n",
       "\n",
       "    .dataframe tbody tr th {\n",
       "        vertical-align: top;\n",
       "    }\n",
       "\n",
       "    .dataframe thead th {\n",
       "        text-align: right;\n",
       "    }\n",
       "</style>\n",
       "<table border=\"1\" class=\"dataframe\">\n",
       "  <thead>\n",
       "    <tr style=\"text-align: right;\">\n",
       "      <th></th>\n",
       "      <th>store_nbr</th>\n",
       "      <th>city</th>\n",
       "      <th>state</th>\n",
       "      <th>type</th>\n",
       "      <th>cluster</th>\n",
       "    </tr>\n",
       "  </thead>\n",
       "  <tbody>\n",
       "    <tr>\n",
       "      <th>0</th>\n",
       "      <td>1</td>\n",
       "      <td>Quito</td>\n",
       "      <td>Pichincha</td>\n",
       "      <td>D</td>\n",
       "      <td>13</td>\n",
       "    </tr>\n",
       "    <tr>\n",
       "      <th>1</th>\n",
       "      <td>2</td>\n",
       "      <td>Quito</td>\n",
       "      <td>Pichincha</td>\n",
       "      <td>D</td>\n",
       "      <td>13</td>\n",
       "    </tr>\n",
       "    <tr>\n",
       "      <th>2</th>\n",
       "      <td>3</td>\n",
       "      <td>Quito</td>\n",
       "      <td>Pichincha</td>\n",
       "      <td>D</td>\n",
       "      <td>8</td>\n",
       "    </tr>\n",
       "    <tr>\n",
       "      <th>3</th>\n",
       "      <td>4</td>\n",
       "      <td>Quito</td>\n",
       "      <td>Pichincha</td>\n",
       "      <td>D</td>\n",
       "      <td>9</td>\n",
       "    </tr>\n",
       "    <tr>\n",
       "      <th>4</th>\n",
       "      <td>5</td>\n",
       "      <td>Santo Domingo</td>\n",
       "      <td>Santo Domingo de los Tsachilas</td>\n",
       "      <td>D</td>\n",
       "      <td>4</td>\n",
       "    </tr>\n",
       "    <tr>\n",
       "      <th>5</th>\n",
       "      <td>6</td>\n",
       "      <td>Quito</td>\n",
       "      <td>Pichincha</td>\n",
       "      <td>D</td>\n",
       "      <td>13</td>\n",
       "    </tr>\n",
       "    <tr>\n",
       "      <th>6</th>\n",
       "      <td>7</td>\n",
       "      <td>Quito</td>\n",
       "      <td>Pichincha</td>\n",
       "      <td>D</td>\n",
       "      <td>8</td>\n",
       "    </tr>\n",
       "    <tr>\n",
       "      <th>7</th>\n",
       "      <td>8</td>\n",
       "      <td>Quito</td>\n",
       "      <td>Pichincha</td>\n",
       "      <td>D</td>\n",
       "      <td>8</td>\n",
       "    </tr>\n",
       "    <tr>\n",
       "      <th>8</th>\n",
       "      <td>9</td>\n",
       "      <td>Quito</td>\n",
       "      <td>Pichincha</td>\n",
       "      <td>B</td>\n",
       "      <td>6</td>\n",
       "    </tr>\n",
       "    <tr>\n",
       "      <th>9</th>\n",
       "      <td>10</td>\n",
       "      <td>Quito</td>\n",
       "      <td>Pichincha</td>\n",
       "      <td>C</td>\n",
       "      <td>15</td>\n",
       "    </tr>\n",
       "    <tr>\n",
       "      <th>10</th>\n",
       "      <td>11</td>\n",
       "      <td>Cayambe</td>\n",
       "      <td>Pichincha</td>\n",
       "      <td>B</td>\n",
       "      <td>6</td>\n",
       "    </tr>\n",
       "    <tr>\n",
       "      <th>11</th>\n",
       "      <td>12</td>\n",
       "      <td>Latacunga</td>\n",
       "      <td>Cotopaxi</td>\n",
       "      <td>C</td>\n",
       "      <td>15</td>\n",
       "    </tr>\n",
       "    <tr>\n",
       "      <th>12</th>\n",
       "      <td>13</td>\n",
       "      <td>Latacunga</td>\n",
       "      <td>Cotopaxi</td>\n",
       "      <td>C</td>\n",
       "      <td>15</td>\n",
       "    </tr>\n",
       "    <tr>\n",
       "      <th>13</th>\n",
       "      <td>14</td>\n",
       "      <td>Riobamba</td>\n",
       "      <td>Chimborazo</td>\n",
       "      <td>C</td>\n",
       "      <td>7</td>\n",
       "    </tr>\n",
       "    <tr>\n",
       "      <th>14</th>\n",
       "      <td>15</td>\n",
       "      <td>Ibarra</td>\n",
       "      <td>Imbabura</td>\n",
       "      <td>C</td>\n",
       "      <td>15</td>\n",
       "    </tr>\n",
       "    <tr>\n",
       "      <th>15</th>\n",
       "      <td>16</td>\n",
       "      <td>Santo Domingo</td>\n",
       "      <td>Santo Domingo de los Tsachilas</td>\n",
       "      <td>C</td>\n",
       "      <td>3</td>\n",
       "    </tr>\n",
       "    <tr>\n",
       "      <th>16</th>\n",
       "      <td>17</td>\n",
       "      <td>Quito</td>\n",
       "      <td>Pichincha</td>\n",
       "      <td>C</td>\n",
       "      <td>12</td>\n",
       "    </tr>\n",
       "    <tr>\n",
       "      <th>17</th>\n",
       "      <td>18</td>\n",
       "      <td>Quito</td>\n",
       "      <td>Pichincha</td>\n",
       "      <td>B</td>\n",
       "      <td>16</td>\n",
       "    </tr>\n",
       "    <tr>\n",
       "      <th>18</th>\n",
       "      <td>19</td>\n",
       "      <td>Guaranda</td>\n",
       "      <td>Bolivar</td>\n",
       "      <td>C</td>\n",
       "      <td>15</td>\n",
       "    </tr>\n",
       "    <tr>\n",
       "      <th>19</th>\n",
       "      <td>20</td>\n",
       "      <td>Quito</td>\n",
       "      <td>Pichincha</td>\n",
       "      <td>B</td>\n",
       "      <td>6</td>\n",
       "    </tr>\n",
       "    <tr>\n",
       "      <th>20</th>\n",
       "      <td>21</td>\n",
       "      <td>Santo Domingo</td>\n",
       "      <td>Santo Domingo de los Tsachilas</td>\n",
       "      <td>B</td>\n",
       "      <td>6</td>\n",
       "    </tr>\n",
       "    <tr>\n",
       "      <th>21</th>\n",
       "      <td>22</td>\n",
       "      <td>Puyo</td>\n",
       "      <td>Pastaza</td>\n",
       "      <td>C</td>\n",
       "      <td>7</td>\n",
       "    </tr>\n",
       "    <tr>\n",
       "      <th>22</th>\n",
       "      <td>23</td>\n",
       "      <td>Ambato</td>\n",
       "      <td>Tungurahua</td>\n",
       "      <td>D</td>\n",
       "      <td>9</td>\n",
       "    </tr>\n",
       "    <tr>\n",
       "      <th>23</th>\n",
       "      <td>24</td>\n",
       "      <td>Guayaquil</td>\n",
       "      <td>Guayas</td>\n",
       "      <td>D</td>\n",
       "      <td>1</td>\n",
       "    </tr>\n",
       "    <tr>\n",
       "      <th>24</th>\n",
       "      <td>25</td>\n",
       "      <td>Salinas</td>\n",
       "      <td>Santa Elena</td>\n",
       "      <td>D</td>\n",
       "      <td>1</td>\n",
       "    </tr>\n",
       "    <tr>\n",
       "      <th>25</th>\n",
       "      <td>26</td>\n",
       "      <td>Guayaquil</td>\n",
       "      <td>Guayas</td>\n",
       "      <td>D</td>\n",
       "      <td>10</td>\n",
       "    </tr>\n",
       "    <tr>\n",
       "      <th>26</th>\n",
       "      <td>27</td>\n",
       "      <td>Daule</td>\n",
       "      <td>Guayas</td>\n",
       "      <td>D</td>\n",
       "      <td>1</td>\n",
       "    </tr>\n",
       "    <tr>\n",
       "      <th>27</th>\n",
       "      <td>28</td>\n",
       "      <td>Guayaquil</td>\n",
       "      <td>Guayas</td>\n",
       "      <td>E</td>\n",
       "      <td>10</td>\n",
       "    </tr>\n",
       "    <tr>\n",
       "      <th>28</th>\n",
       "      <td>29</td>\n",
       "      <td>Guayaquil</td>\n",
       "      <td>Guayas</td>\n",
       "      <td>E</td>\n",
       "      <td>10</td>\n",
       "    </tr>\n",
       "    <tr>\n",
       "      <th>29</th>\n",
       "      <td>30</td>\n",
       "      <td>Guayaquil</td>\n",
       "      <td>Guayas</td>\n",
       "      <td>C</td>\n",
       "      <td>3</td>\n",
       "    </tr>\n",
       "    <tr>\n",
       "      <th>30</th>\n",
       "      <td>31</td>\n",
       "      <td>Babahoyo</td>\n",
       "      <td>Los Rios</td>\n",
       "      <td>B</td>\n",
       "      <td>10</td>\n",
       "    </tr>\n",
       "    <tr>\n",
       "      <th>31</th>\n",
       "      <td>32</td>\n",
       "      <td>Guayaquil</td>\n",
       "      <td>Guayas</td>\n",
       "      <td>C</td>\n",
       "      <td>3</td>\n",
       "    </tr>\n",
       "    <tr>\n",
       "      <th>32</th>\n",
       "      <td>33</td>\n",
       "      <td>Quevedo</td>\n",
       "      <td>Los Rios</td>\n",
       "      <td>C</td>\n",
       "      <td>3</td>\n",
       "    </tr>\n",
       "    <tr>\n",
       "      <th>33</th>\n",
       "      <td>34</td>\n",
       "      <td>Guayaquil</td>\n",
       "      <td>Guayas</td>\n",
       "      <td>B</td>\n",
       "      <td>6</td>\n",
       "    </tr>\n",
       "    <tr>\n",
       "      <th>34</th>\n",
       "      <td>35</td>\n",
       "      <td>Playas</td>\n",
       "      <td>Guayas</td>\n",
       "      <td>C</td>\n",
       "      <td>3</td>\n",
       "    </tr>\n",
       "    <tr>\n",
       "      <th>35</th>\n",
       "      <td>36</td>\n",
       "      <td>Libertad</td>\n",
       "      <td>Guayas</td>\n",
       "      <td>E</td>\n",
       "      <td>10</td>\n",
       "    </tr>\n",
       "    <tr>\n",
       "      <th>36</th>\n",
       "      <td>37</td>\n",
       "      <td>Cuenca</td>\n",
       "      <td>Azuay</td>\n",
       "      <td>D</td>\n",
       "      <td>2</td>\n",
       "    </tr>\n",
       "    <tr>\n",
       "      <th>37</th>\n",
       "      <td>38</td>\n",
       "      <td>Loja</td>\n",
       "      <td>Loja</td>\n",
       "      <td>D</td>\n",
       "      <td>4</td>\n",
       "    </tr>\n",
       "    <tr>\n",
       "      <th>38</th>\n",
       "      <td>39</td>\n",
       "      <td>Cuenca</td>\n",
       "      <td>Azuay</td>\n",
       "      <td>B</td>\n",
       "      <td>6</td>\n",
       "    </tr>\n",
       "    <tr>\n",
       "      <th>39</th>\n",
       "      <td>40</td>\n",
       "      <td>Machala</td>\n",
       "      <td>El Oro</td>\n",
       "      <td>C</td>\n",
       "      <td>3</td>\n",
       "    </tr>\n",
       "    <tr>\n",
       "      <th>40</th>\n",
       "      <td>41</td>\n",
       "      <td>Machala</td>\n",
       "      <td>El Oro</td>\n",
       "      <td>D</td>\n",
       "      <td>4</td>\n",
       "    </tr>\n",
       "    <tr>\n",
       "      <th>41</th>\n",
       "      <td>42</td>\n",
       "      <td>Cuenca</td>\n",
       "      <td>Azuay</td>\n",
       "      <td>D</td>\n",
       "      <td>2</td>\n",
       "    </tr>\n",
       "    <tr>\n",
       "      <th>42</th>\n",
       "      <td>43</td>\n",
       "      <td>Esmeraldas</td>\n",
       "      <td>Esmeraldas</td>\n",
       "      <td>E</td>\n",
       "      <td>10</td>\n",
       "    </tr>\n",
       "    <tr>\n",
       "      <th>43</th>\n",
       "      <td>44</td>\n",
       "      <td>Quito</td>\n",
       "      <td>Pichincha</td>\n",
       "      <td>A</td>\n",
       "      <td>5</td>\n",
       "    </tr>\n",
       "    <tr>\n",
       "      <th>44</th>\n",
       "      <td>45</td>\n",
       "      <td>Quito</td>\n",
       "      <td>Pichincha</td>\n",
       "      <td>A</td>\n",
       "      <td>11</td>\n",
       "    </tr>\n",
       "    <tr>\n",
       "      <th>45</th>\n",
       "      <td>46</td>\n",
       "      <td>Quito</td>\n",
       "      <td>Pichincha</td>\n",
       "      <td>A</td>\n",
       "      <td>14</td>\n",
       "    </tr>\n",
       "    <tr>\n",
       "      <th>46</th>\n",
       "      <td>47</td>\n",
       "      <td>Quito</td>\n",
       "      <td>Pichincha</td>\n",
       "      <td>A</td>\n",
       "      <td>14</td>\n",
       "    </tr>\n",
       "    <tr>\n",
       "      <th>47</th>\n",
       "      <td>48</td>\n",
       "      <td>Quito</td>\n",
       "      <td>Pichincha</td>\n",
       "      <td>A</td>\n",
       "      <td>14</td>\n",
       "    </tr>\n",
       "    <tr>\n",
       "      <th>48</th>\n",
       "      <td>49</td>\n",
       "      <td>Quito</td>\n",
       "      <td>Pichincha</td>\n",
       "      <td>A</td>\n",
       "      <td>11</td>\n",
       "    </tr>\n",
       "    <tr>\n",
       "      <th>49</th>\n",
       "      <td>50</td>\n",
       "      <td>Ambato</td>\n",
       "      <td>Tungurahua</td>\n",
       "      <td>A</td>\n",
       "      <td>14</td>\n",
       "    </tr>\n",
       "  </tbody>\n",
       "</table>\n",
       "</div>"
      ],
      "text/plain": [
       "    store_nbr           city                           state type  cluster\n",
       "0           1          Quito                       Pichincha    D       13\n",
       "1           2          Quito                       Pichincha    D       13\n",
       "2           3          Quito                       Pichincha    D        8\n",
       "3           4          Quito                       Pichincha    D        9\n",
       "4           5  Santo Domingo  Santo Domingo de los Tsachilas    D        4\n",
       "5           6          Quito                       Pichincha    D       13\n",
       "6           7          Quito                       Pichincha    D        8\n",
       "7           8          Quito                       Pichincha    D        8\n",
       "8           9          Quito                       Pichincha    B        6\n",
       "9          10          Quito                       Pichincha    C       15\n",
       "10         11        Cayambe                       Pichincha    B        6\n",
       "11         12      Latacunga                        Cotopaxi    C       15\n",
       "12         13      Latacunga                        Cotopaxi    C       15\n",
       "13         14       Riobamba                      Chimborazo    C        7\n",
       "14         15         Ibarra                        Imbabura    C       15\n",
       "15         16  Santo Domingo  Santo Domingo de los Tsachilas    C        3\n",
       "16         17          Quito                       Pichincha    C       12\n",
       "17         18          Quito                       Pichincha    B       16\n",
       "18         19       Guaranda                         Bolivar    C       15\n",
       "19         20          Quito                       Pichincha    B        6\n",
       "20         21  Santo Domingo  Santo Domingo de los Tsachilas    B        6\n",
       "21         22           Puyo                         Pastaza    C        7\n",
       "22         23         Ambato                      Tungurahua    D        9\n",
       "23         24      Guayaquil                          Guayas    D        1\n",
       "24         25        Salinas                     Santa Elena    D        1\n",
       "25         26      Guayaquil                          Guayas    D       10\n",
       "26         27          Daule                          Guayas    D        1\n",
       "27         28      Guayaquil                          Guayas    E       10\n",
       "28         29      Guayaquil                          Guayas    E       10\n",
       "29         30      Guayaquil                          Guayas    C        3\n",
       "30         31       Babahoyo                        Los Rios    B       10\n",
       "31         32      Guayaquil                          Guayas    C        3\n",
       "32         33        Quevedo                        Los Rios    C        3\n",
       "33         34      Guayaquil                          Guayas    B        6\n",
       "34         35         Playas                          Guayas    C        3\n",
       "35         36       Libertad                          Guayas    E       10\n",
       "36         37         Cuenca                           Azuay    D        2\n",
       "37         38           Loja                            Loja    D        4\n",
       "38         39         Cuenca                           Azuay    B        6\n",
       "39         40        Machala                          El Oro    C        3\n",
       "40         41        Machala                          El Oro    D        4\n",
       "41         42         Cuenca                           Azuay    D        2\n",
       "42         43     Esmeraldas                      Esmeraldas    E       10\n",
       "43         44          Quito                       Pichincha    A        5\n",
       "44         45          Quito                       Pichincha    A       11\n",
       "45         46          Quito                       Pichincha    A       14\n",
       "46         47          Quito                       Pichincha    A       14\n",
       "47         48          Quito                       Pichincha    A       14\n",
       "48         49          Quito                       Pichincha    A       11\n",
       "49         50         Ambato                      Tungurahua    A       14"
      ]
     },
     "execution_count": 12,
     "metadata": {},
     "output_type": "execute_result"
    }
   ],
   "source": [
    "load_csv_to_sqlite(conn, path, \"stores.csv\")"
   ]
  },
  {
   "cell_type": "markdown",
   "id": "cc5b5ba0",
   "metadata": {},
   "source": [
    "### transactions"
   ]
  },
  {
   "cell_type": "code",
   "execution_count": 13,
   "id": "116c5e37",
   "metadata": {},
   "outputs": [
    {
     "name": "stdout",
     "output_type": "stream",
     "text": [
      "\n",
      "📂 Loading first 50 rows from 'transactions.csv' into SQLite...\n",
      "✅ Loaded preview of 'transactions.csv' into table 'transactions'\n",
      "🔢 Table 'transactions' currently has 50 preview rows.\n",
      "🔑 Candidate keys or join fields in 'transactions': ['store_nbr', 'date']\n"
     ]
    },
    {
     "data": {
      "application/vnd.microsoft.datawrangler.viewer.v0+json": {
       "columns": [
        {
         "name": "index",
         "rawType": "int64",
         "type": "integer"
        },
        {
         "name": "date",
         "rawType": "object",
         "type": "string"
        },
        {
         "name": "store_nbr",
         "rawType": "int64",
         "type": "integer"
        },
        {
         "name": "transactions",
         "rawType": "int64",
         "type": "integer"
        }
       ],
       "ref": "3330b30a-d322-4da3-acba-0d2833f69a2a",
       "rows": [
        [
         "0",
         "2013-01-01",
         "25",
         "770"
        ],
        [
         "1",
         "2013-01-02",
         "1",
         "2111"
        ],
        [
         "2",
         "2013-01-02",
         "2",
         "2358"
        ],
        [
         "3",
         "2013-01-02",
         "3",
         "3487"
        ],
        [
         "4",
         "2013-01-02",
         "4",
         "1922"
        ],
        [
         "5",
         "2013-01-02",
         "5",
         "1903"
        ],
        [
         "6",
         "2013-01-02",
         "6",
         "2143"
        ],
        [
         "7",
         "2013-01-02",
         "7",
         "1874"
        ],
        [
         "8",
         "2013-01-02",
         "8",
         "3250"
        ],
        [
         "9",
         "2013-01-02",
         "9",
         "2940"
        ],
        [
         "10",
         "2013-01-02",
         "10",
         "1293"
        ],
        [
         "11",
         "2013-01-02",
         "11",
         "3547"
        ],
        [
         "12",
         "2013-01-02",
         "12",
         "1362"
        ],
        [
         "13",
         "2013-01-02",
         "13",
         "1102"
        ],
        [
         "14",
         "2013-01-02",
         "14",
         "2002"
        ],
        [
         "15",
         "2013-01-02",
         "15",
         "1622"
        ],
        [
         "16",
         "2013-01-02",
         "16",
         "1167"
        ],
        [
         "17",
         "2013-01-02",
         "17",
         "1580"
        ],
        [
         "18",
         "2013-01-02",
         "18",
         "1635"
        ],
        [
         "19",
         "2013-01-02",
         "19",
         "1369"
        ],
        [
         "20",
         "2013-01-02",
         "23",
         "1381"
        ],
        [
         "21",
         "2013-01-02",
         "24",
         "2605"
        ],
        [
         "22",
         "2013-01-02",
         "25",
         "1038"
        ],
        [
         "23",
         "2013-01-02",
         "26",
         "1008"
        ],
        [
         "24",
         "2013-01-02",
         "27",
         "1386"
        ],
        [
         "25",
         "2013-01-02",
         "28",
         "950"
        ],
        [
         "26",
         "2013-01-02",
         "30",
         "708"
        ],
        [
         "27",
         "2013-01-02",
         "31",
         "1401"
        ],
        [
         "28",
         "2013-01-02",
         "32",
         "776"
        ],
        [
         "29",
         "2013-01-02",
         "33",
         "1163"
        ],
        [
         "30",
         "2013-01-02",
         "34",
         "2724"
        ],
        [
         "31",
         "2013-01-02",
         "35",
         "786"
        ],
        [
         "32",
         "2013-01-02",
         "37",
         "1691"
        ],
        [
         "33",
         "2013-01-02",
         "38",
         "1987"
        ],
        [
         "34",
         "2013-01-02",
         "39",
         "1587"
        ],
        [
         "35",
         "2013-01-02",
         "40",
         "1178"
        ],
        [
         "36",
         "2013-01-02",
         "41",
         "915"
        ],
        [
         "37",
         "2013-01-02",
         "43",
         "1385"
        ],
        [
         "38",
         "2013-01-02",
         "44",
         "4821"
        ],
        [
         "39",
         "2013-01-02",
         "45",
         "4208"
        ],
        [
         "40",
         "2013-01-02",
         "46",
         "4886"
        ],
        [
         "41",
         "2013-01-02",
         "47",
         "4161"
        ],
        [
         "42",
         "2013-01-02",
         "48",
         "3397"
        ],
        [
         "43",
         "2013-01-02",
         "49",
         "2346"
        ],
        [
         "44",
         "2013-01-02",
         "50",
         "3077"
        ],
        [
         "45",
         "2013-01-02",
         "51",
         "1985"
        ],
        [
         "46",
         "2013-01-02",
         "54",
         "998"
        ],
        [
         "47",
         "2013-01-03",
         "1",
         "1833"
        ],
        [
         "48",
         "2013-01-03",
         "2",
         "2033"
        ],
        [
         "49",
         "2013-01-03",
         "3",
         "3026"
        ]
       ],
       "shape": {
        "columns": 3,
        "rows": 50
       }
      },
      "text/html": [
       "<div>\n",
       "<style scoped>\n",
       "    .dataframe tbody tr th:only-of-type {\n",
       "        vertical-align: middle;\n",
       "    }\n",
       "\n",
       "    .dataframe tbody tr th {\n",
       "        vertical-align: top;\n",
       "    }\n",
       "\n",
       "    .dataframe thead th {\n",
       "        text-align: right;\n",
       "    }\n",
       "</style>\n",
       "<table border=\"1\" class=\"dataframe\">\n",
       "  <thead>\n",
       "    <tr style=\"text-align: right;\">\n",
       "      <th></th>\n",
       "      <th>date</th>\n",
       "      <th>store_nbr</th>\n",
       "      <th>transactions</th>\n",
       "    </tr>\n",
       "  </thead>\n",
       "  <tbody>\n",
       "    <tr>\n",
       "      <th>0</th>\n",
       "      <td>2013-01-01</td>\n",
       "      <td>25</td>\n",
       "      <td>770</td>\n",
       "    </tr>\n",
       "    <tr>\n",
       "      <th>1</th>\n",
       "      <td>2013-01-02</td>\n",
       "      <td>1</td>\n",
       "      <td>2111</td>\n",
       "    </tr>\n",
       "    <tr>\n",
       "      <th>2</th>\n",
       "      <td>2013-01-02</td>\n",
       "      <td>2</td>\n",
       "      <td>2358</td>\n",
       "    </tr>\n",
       "    <tr>\n",
       "      <th>3</th>\n",
       "      <td>2013-01-02</td>\n",
       "      <td>3</td>\n",
       "      <td>3487</td>\n",
       "    </tr>\n",
       "    <tr>\n",
       "      <th>4</th>\n",
       "      <td>2013-01-02</td>\n",
       "      <td>4</td>\n",
       "      <td>1922</td>\n",
       "    </tr>\n",
       "    <tr>\n",
       "      <th>5</th>\n",
       "      <td>2013-01-02</td>\n",
       "      <td>5</td>\n",
       "      <td>1903</td>\n",
       "    </tr>\n",
       "    <tr>\n",
       "      <th>6</th>\n",
       "      <td>2013-01-02</td>\n",
       "      <td>6</td>\n",
       "      <td>2143</td>\n",
       "    </tr>\n",
       "    <tr>\n",
       "      <th>7</th>\n",
       "      <td>2013-01-02</td>\n",
       "      <td>7</td>\n",
       "      <td>1874</td>\n",
       "    </tr>\n",
       "    <tr>\n",
       "      <th>8</th>\n",
       "      <td>2013-01-02</td>\n",
       "      <td>8</td>\n",
       "      <td>3250</td>\n",
       "    </tr>\n",
       "    <tr>\n",
       "      <th>9</th>\n",
       "      <td>2013-01-02</td>\n",
       "      <td>9</td>\n",
       "      <td>2940</td>\n",
       "    </tr>\n",
       "    <tr>\n",
       "      <th>10</th>\n",
       "      <td>2013-01-02</td>\n",
       "      <td>10</td>\n",
       "      <td>1293</td>\n",
       "    </tr>\n",
       "    <tr>\n",
       "      <th>11</th>\n",
       "      <td>2013-01-02</td>\n",
       "      <td>11</td>\n",
       "      <td>3547</td>\n",
       "    </tr>\n",
       "    <tr>\n",
       "      <th>12</th>\n",
       "      <td>2013-01-02</td>\n",
       "      <td>12</td>\n",
       "      <td>1362</td>\n",
       "    </tr>\n",
       "    <tr>\n",
       "      <th>13</th>\n",
       "      <td>2013-01-02</td>\n",
       "      <td>13</td>\n",
       "      <td>1102</td>\n",
       "    </tr>\n",
       "    <tr>\n",
       "      <th>14</th>\n",
       "      <td>2013-01-02</td>\n",
       "      <td>14</td>\n",
       "      <td>2002</td>\n",
       "    </tr>\n",
       "    <tr>\n",
       "      <th>15</th>\n",
       "      <td>2013-01-02</td>\n",
       "      <td>15</td>\n",
       "      <td>1622</td>\n",
       "    </tr>\n",
       "    <tr>\n",
       "      <th>16</th>\n",
       "      <td>2013-01-02</td>\n",
       "      <td>16</td>\n",
       "      <td>1167</td>\n",
       "    </tr>\n",
       "    <tr>\n",
       "      <th>17</th>\n",
       "      <td>2013-01-02</td>\n",
       "      <td>17</td>\n",
       "      <td>1580</td>\n",
       "    </tr>\n",
       "    <tr>\n",
       "      <th>18</th>\n",
       "      <td>2013-01-02</td>\n",
       "      <td>18</td>\n",
       "      <td>1635</td>\n",
       "    </tr>\n",
       "    <tr>\n",
       "      <th>19</th>\n",
       "      <td>2013-01-02</td>\n",
       "      <td>19</td>\n",
       "      <td>1369</td>\n",
       "    </tr>\n",
       "    <tr>\n",
       "      <th>20</th>\n",
       "      <td>2013-01-02</td>\n",
       "      <td>23</td>\n",
       "      <td>1381</td>\n",
       "    </tr>\n",
       "    <tr>\n",
       "      <th>21</th>\n",
       "      <td>2013-01-02</td>\n",
       "      <td>24</td>\n",
       "      <td>2605</td>\n",
       "    </tr>\n",
       "    <tr>\n",
       "      <th>22</th>\n",
       "      <td>2013-01-02</td>\n",
       "      <td>25</td>\n",
       "      <td>1038</td>\n",
       "    </tr>\n",
       "    <tr>\n",
       "      <th>23</th>\n",
       "      <td>2013-01-02</td>\n",
       "      <td>26</td>\n",
       "      <td>1008</td>\n",
       "    </tr>\n",
       "    <tr>\n",
       "      <th>24</th>\n",
       "      <td>2013-01-02</td>\n",
       "      <td>27</td>\n",
       "      <td>1386</td>\n",
       "    </tr>\n",
       "    <tr>\n",
       "      <th>25</th>\n",
       "      <td>2013-01-02</td>\n",
       "      <td>28</td>\n",
       "      <td>950</td>\n",
       "    </tr>\n",
       "    <tr>\n",
       "      <th>26</th>\n",
       "      <td>2013-01-02</td>\n",
       "      <td>30</td>\n",
       "      <td>708</td>\n",
       "    </tr>\n",
       "    <tr>\n",
       "      <th>27</th>\n",
       "      <td>2013-01-02</td>\n",
       "      <td>31</td>\n",
       "      <td>1401</td>\n",
       "    </tr>\n",
       "    <tr>\n",
       "      <th>28</th>\n",
       "      <td>2013-01-02</td>\n",
       "      <td>32</td>\n",
       "      <td>776</td>\n",
       "    </tr>\n",
       "    <tr>\n",
       "      <th>29</th>\n",
       "      <td>2013-01-02</td>\n",
       "      <td>33</td>\n",
       "      <td>1163</td>\n",
       "    </tr>\n",
       "    <tr>\n",
       "      <th>30</th>\n",
       "      <td>2013-01-02</td>\n",
       "      <td>34</td>\n",
       "      <td>2724</td>\n",
       "    </tr>\n",
       "    <tr>\n",
       "      <th>31</th>\n",
       "      <td>2013-01-02</td>\n",
       "      <td>35</td>\n",
       "      <td>786</td>\n",
       "    </tr>\n",
       "    <tr>\n",
       "      <th>32</th>\n",
       "      <td>2013-01-02</td>\n",
       "      <td>37</td>\n",
       "      <td>1691</td>\n",
       "    </tr>\n",
       "    <tr>\n",
       "      <th>33</th>\n",
       "      <td>2013-01-02</td>\n",
       "      <td>38</td>\n",
       "      <td>1987</td>\n",
       "    </tr>\n",
       "    <tr>\n",
       "      <th>34</th>\n",
       "      <td>2013-01-02</td>\n",
       "      <td>39</td>\n",
       "      <td>1587</td>\n",
       "    </tr>\n",
       "    <tr>\n",
       "      <th>35</th>\n",
       "      <td>2013-01-02</td>\n",
       "      <td>40</td>\n",
       "      <td>1178</td>\n",
       "    </tr>\n",
       "    <tr>\n",
       "      <th>36</th>\n",
       "      <td>2013-01-02</td>\n",
       "      <td>41</td>\n",
       "      <td>915</td>\n",
       "    </tr>\n",
       "    <tr>\n",
       "      <th>37</th>\n",
       "      <td>2013-01-02</td>\n",
       "      <td>43</td>\n",
       "      <td>1385</td>\n",
       "    </tr>\n",
       "    <tr>\n",
       "      <th>38</th>\n",
       "      <td>2013-01-02</td>\n",
       "      <td>44</td>\n",
       "      <td>4821</td>\n",
       "    </tr>\n",
       "    <tr>\n",
       "      <th>39</th>\n",
       "      <td>2013-01-02</td>\n",
       "      <td>45</td>\n",
       "      <td>4208</td>\n",
       "    </tr>\n",
       "    <tr>\n",
       "      <th>40</th>\n",
       "      <td>2013-01-02</td>\n",
       "      <td>46</td>\n",
       "      <td>4886</td>\n",
       "    </tr>\n",
       "    <tr>\n",
       "      <th>41</th>\n",
       "      <td>2013-01-02</td>\n",
       "      <td>47</td>\n",
       "      <td>4161</td>\n",
       "    </tr>\n",
       "    <tr>\n",
       "      <th>42</th>\n",
       "      <td>2013-01-02</td>\n",
       "      <td>48</td>\n",
       "      <td>3397</td>\n",
       "    </tr>\n",
       "    <tr>\n",
       "      <th>43</th>\n",
       "      <td>2013-01-02</td>\n",
       "      <td>49</td>\n",
       "      <td>2346</td>\n",
       "    </tr>\n",
       "    <tr>\n",
       "      <th>44</th>\n",
       "      <td>2013-01-02</td>\n",
       "      <td>50</td>\n",
       "      <td>3077</td>\n",
       "    </tr>\n",
       "    <tr>\n",
       "      <th>45</th>\n",
       "      <td>2013-01-02</td>\n",
       "      <td>51</td>\n",
       "      <td>1985</td>\n",
       "    </tr>\n",
       "    <tr>\n",
       "      <th>46</th>\n",
       "      <td>2013-01-02</td>\n",
       "      <td>54</td>\n",
       "      <td>998</td>\n",
       "    </tr>\n",
       "    <tr>\n",
       "      <th>47</th>\n",
       "      <td>2013-01-03</td>\n",
       "      <td>1</td>\n",
       "      <td>1833</td>\n",
       "    </tr>\n",
       "    <tr>\n",
       "      <th>48</th>\n",
       "      <td>2013-01-03</td>\n",
       "      <td>2</td>\n",
       "      <td>2033</td>\n",
       "    </tr>\n",
       "    <tr>\n",
       "      <th>49</th>\n",
       "      <td>2013-01-03</td>\n",
       "      <td>3</td>\n",
       "      <td>3026</td>\n",
       "    </tr>\n",
       "  </tbody>\n",
       "</table>\n",
       "</div>"
      ],
      "text/plain": [
       "          date  store_nbr  transactions\n",
       "0   2013-01-01         25           770\n",
       "1   2013-01-02          1          2111\n",
       "2   2013-01-02          2          2358\n",
       "3   2013-01-02          3          3487\n",
       "4   2013-01-02          4          1922\n",
       "5   2013-01-02          5          1903\n",
       "6   2013-01-02          6          2143\n",
       "7   2013-01-02          7          1874\n",
       "8   2013-01-02          8          3250\n",
       "9   2013-01-02          9          2940\n",
       "10  2013-01-02         10          1293\n",
       "11  2013-01-02         11          3547\n",
       "12  2013-01-02         12          1362\n",
       "13  2013-01-02         13          1102\n",
       "14  2013-01-02         14          2002\n",
       "15  2013-01-02         15          1622\n",
       "16  2013-01-02         16          1167\n",
       "17  2013-01-02         17          1580\n",
       "18  2013-01-02         18          1635\n",
       "19  2013-01-02         19          1369\n",
       "20  2013-01-02         23          1381\n",
       "21  2013-01-02         24          2605\n",
       "22  2013-01-02         25          1038\n",
       "23  2013-01-02         26          1008\n",
       "24  2013-01-02         27          1386\n",
       "25  2013-01-02         28           950\n",
       "26  2013-01-02         30           708\n",
       "27  2013-01-02         31          1401\n",
       "28  2013-01-02         32           776\n",
       "29  2013-01-02         33          1163\n",
       "30  2013-01-02         34          2724\n",
       "31  2013-01-02         35           786\n",
       "32  2013-01-02         37          1691\n",
       "33  2013-01-02         38          1987\n",
       "34  2013-01-02         39          1587\n",
       "35  2013-01-02         40          1178\n",
       "36  2013-01-02         41           915\n",
       "37  2013-01-02         43          1385\n",
       "38  2013-01-02         44          4821\n",
       "39  2013-01-02         45          4208\n",
       "40  2013-01-02         46          4886\n",
       "41  2013-01-02         47          4161\n",
       "42  2013-01-02         48          3397\n",
       "43  2013-01-02         49          2346\n",
       "44  2013-01-02         50          3077\n",
       "45  2013-01-02         51          1985\n",
       "46  2013-01-02         54           998\n",
       "47  2013-01-03          1          1833\n",
       "48  2013-01-03          2          2033\n",
       "49  2013-01-03          3          3026"
      ]
     },
     "execution_count": 13,
     "metadata": {},
     "output_type": "execute_result"
    }
   ],
   "source": [
    "load_csv_to_sqlite(conn, path, \"transactions.csv\")"
   ]
  },
  {
   "cell_type": "markdown",
   "id": "5db5ef6a",
   "metadata": {},
   "source": [
    "### test"
   ]
  },
  {
   "cell_type": "code",
   "execution_count": 14,
   "id": "a0f37e9f",
   "metadata": {},
   "outputs": [
    {
     "name": "stdout",
     "output_type": "stream",
     "text": [
      "\n",
      "📂 Loading first 50 rows from 'test.csv' into SQLite...\n",
      "✅ Loaded preview of 'test.csv' into table 'test'\n",
      "🔢 Table 'test' currently has 50 preview rows.\n",
      "🔑 Candidate keys or join fields in 'test': ['id', 'store_nbr', 'item_nbr', 'date']\n"
     ]
    },
    {
     "data": {
      "application/vnd.microsoft.datawrangler.viewer.v0+json": {
       "columns": [
        {
         "name": "index",
         "rawType": "int64",
         "type": "integer"
        },
        {
         "name": "id",
         "rawType": "int64",
         "type": "integer"
        },
        {
         "name": "date",
         "rawType": "object",
         "type": "string"
        },
        {
         "name": "store_nbr",
         "rawType": "int64",
         "type": "integer"
        },
        {
         "name": "item_nbr",
         "rawType": "int64",
         "type": "integer"
        },
        {
         "name": "onpromotion",
         "rawType": "bool",
         "type": "boolean"
        }
       ],
       "ref": "8ab49b4b-5a18-4577-83ef-f4ce31477415",
       "rows": [
        [
         "0",
         "125497040",
         "2017-08-16",
         "1",
         "96995",
         "False"
        ],
        [
         "1",
         "125497041",
         "2017-08-16",
         "1",
         "99197",
         "False"
        ],
        [
         "2",
         "125497042",
         "2017-08-16",
         "1",
         "103501",
         "False"
        ],
        [
         "3",
         "125497043",
         "2017-08-16",
         "1",
         "103520",
         "False"
        ],
        [
         "4",
         "125497044",
         "2017-08-16",
         "1",
         "103665",
         "False"
        ],
        [
         "5",
         "125497045",
         "2017-08-16",
         "1",
         "105574",
         "False"
        ],
        [
         "6",
         "125497046",
         "2017-08-16",
         "1",
         "105575",
         "False"
        ],
        [
         "7",
         "125497047",
         "2017-08-16",
         "1",
         "105576",
         "False"
        ],
        [
         "8",
         "125497048",
         "2017-08-16",
         "1",
         "105577",
         "False"
        ],
        [
         "9",
         "125497049",
         "2017-08-16",
         "1",
         "105693",
         "False"
        ],
        [
         "10",
         "125497050",
         "2017-08-16",
         "1",
         "105737",
         "False"
        ],
        [
         "11",
         "125497051",
         "2017-08-16",
         "1",
         "105857",
         "False"
        ],
        [
         "12",
         "125497052",
         "2017-08-16",
         "1",
         "106716",
         "False"
        ],
        [
         "13",
         "125497053",
         "2017-08-16",
         "1",
         "108079",
         "False"
        ],
        [
         "14",
         "125497054",
         "2017-08-16",
         "1",
         "108634",
         "False"
        ],
        [
         "15",
         "125497055",
         "2017-08-16",
         "1",
         "108696",
         "False"
        ],
        [
         "16",
         "125497056",
         "2017-08-16",
         "1",
         "108698",
         "False"
        ],
        [
         "17",
         "125497057",
         "2017-08-16",
         "1",
         "108701",
         "True"
        ],
        [
         "18",
         "125497058",
         "2017-08-16",
         "1",
         "108786",
         "False"
        ],
        [
         "19",
         "125497059",
         "2017-08-16",
         "1",
         "108797",
         "True"
        ],
        [
         "20",
         "125497060",
         "2017-08-16",
         "1",
         "108831",
         "False"
        ],
        [
         "21",
         "125497061",
         "2017-08-16",
         "1",
         "108833",
         "False"
        ],
        [
         "22",
         "125497062",
         "2017-08-16",
         "1",
         "108862",
         "False"
        ],
        [
         "23",
         "125497063",
         "2017-08-16",
         "1",
         "108952",
         "False"
        ],
        [
         "24",
         "125497064",
         "2017-08-16",
         "1",
         "111223",
         "False"
        ],
        [
         "25",
         "125497065",
         "2017-08-16",
         "1",
         "111397",
         "False"
        ],
        [
         "26",
         "125497066",
         "2017-08-16",
         "1",
         "112830",
         "False"
        ],
        [
         "27",
         "125497067",
         "2017-08-16",
         "1",
         "114778",
         "False"
        ],
        [
         "28",
         "125497068",
         "2017-08-16",
         "1",
         "114790",
         "True"
        ],
        [
         "29",
         "125497069",
         "2017-08-16",
         "1",
         "114799",
         "False"
        ],
        [
         "30",
         "125497070",
         "2017-08-16",
         "1",
         "114800",
         "False"
        ],
        [
         "31",
         "125497071",
         "2017-08-16",
         "1",
         "115267",
         "False"
        ],
        [
         "32",
         "125497072",
         "2017-08-16",
         "1",
         "115611",
         "False"
        ],
        [
         "33",
         "125497073",
         "2017-08-16",
         "1",
         "115693",
         "False"
        ],
        [
         "34",
         "125497074",
         "2017-08-16",
         "1",
         "115720",
         "False"
        ],
        [
         "35",
         "125497075",
         "2017-08-16",
         "1",
         "115847",
         "False"
        ],
        [
         "36",
         "125497076",
         "2017-08-16",
         "1",
         "115850",
         "False"
        ],
        [
         "37",
         "125497077",
         "2017-08-16",
         "1",
         "115891",
         "True"
        ],
        [
         "38",
         "125497078",
         "2017-08-16",
         "1",
         "115892",
         "False"
        ],
        [
         "39",
         "125497079",
         "2017-08-16",
         "1",
         "115893",
         "True"
        ],
        [
         "40",
         "125497080",
         "2017-08-16",
         "1",
         "115894",
         "True"
        ],
        [
         "41",
         "125497081",
         "2017-08-16",
         "1",
         "116017",
         "False"
        ],
        [
         "42",
         "125497082",
         "2017-08-16",
         "1",
         "116018",
         "False"
        ],
        [
         "43",
         "125497083",
         "2017-08-16",
         "1",
         "116279",
         "False"
        ],
        [
         "44",
         "125497084",
         "2017-08-16",
         "1",
         "116311",
         "False"
        ],
        [
         "45",
         "125497085",
         "2017-08-16",
         "1",
         "119023",
         "False"
        ],
        [
         "46",
         "125497086",
         "2017-08-16",
         "1",
         "119024",
         "False"
        ],
        [
         "47",
         "125497087",
         "2017-08-16",
         "1",
         "119026",
         "False"
        ],
        [
         "48",
         "125497088",
         "2017-08-16",
         "1",
         "119141",
         "False"
        ],
        [
         "49",
         "125497089",
         "2017-08-16",
         "1",
         "119187",
         "False"
        ]
       ],
       "shape": {
        "columns": 5,
        "rows": 50
       }
      },
      "text/html": [
       "<div>\n",
       "<style scoped>\n",
       "    .dataframe tbody tr th:only-of-type {\n",
       "        vertical-align: middle;\n",
       "    }\n",
       "\n",
       "    .dataframe tbody tr th {\n",
       "        vertical-align: top;\n",
       "    }\n",
       "\n",
       "    .dataframe thead th {\n",
       "        text-align: right;\n",
       "    }\n",
       "</style>\n",
       "<table border=\"1\" class=\"dataframe\">\n",
       "  <thead>\n",
       "    <tr style=\"text-align: right;\">\n",
       "      <th></th>\n",
       "      <th>id</th>\n",
       "      <th>date</th>\n",
       "      <th>store_nbr</th>\n",
       "      <th>item_nbr</th>\n",
       "      <th>onpromotion</th>\n",
       "    </tr>\n",
       "  </thead>\n",
       "  <tbody>\n",
       "    <tr>\n",
       "      <th>0</th>\n",
       "      <td>125497040</td>\n",
       "      <td>2017-08-16</td>\n",
       "      <td>1</td>\n",
       "      <td>96995</td>\n",
       "      <td>False</td>\n",
       "    </tr>\n",
       "    <tr>\n",
       "      <th>1</th>\n",
       "      <td>125497041</td>\n",
       "      <td>2017-08-16</td>\n",
       "      <td>1</td>\n",
       "      <td>99197</td>\n",
       "      <td>False</td>\n",
       "    </tr>\n",
       "    <tr>\n",
       "      <th>2</th>\n",
       "      <td>125497042</td>\n",
       "      <td>2017-08-16</td>\n",
       "      <td>1</td>\n",
       "      <td>103501</td>\n",
       "      <td>False</td>\n",
       "    </tr>\n",
       "    <tr>\n",
       "      <th>3</th>\n",
       "      <td>125497043</td>\n",
       "      <td>2017-08-16</td>\n",
       "      <td>1</td>\n",
       "      <td>103520</td>\n",
       "      <td>False</td>\n",
       "    </tr>\n",
       "    <tr>\n",
       "      <th>4</th>\n",
       "      <td>125497044</td>\n",
       "      <td>2017-08-16</td>\n",
       "      <td>1</td>\n",
       "      <td>103665</td>\n",
       "      <td>False</td>\n",
       "    </tr>\n",
       "    <tr>\n",
       "      <th>5</th>\n",
       "      <td>125497045</td>\n",
       "      <td>2017-08-16</td>\n",
       "      <td>1</td>\n",
       "      <td>105574</td>\n",
       "      <td>False</td>\n",
       "    </tr>\n",
       "    <tr>\n",
       "      <th>6</th>\n",
       "      <td>125497046</td>\n",
       "      <td>2017-08-16</td>\n",
       "      <td>1</td>\n",
       "      <td>105575</td>\n",
       "      <td>False</td>\n",
       "    </tr>\n",
       "    <tr>\n",
       "      <th>7</th>\n",
       "      <td>125497047</td>\n",
       "      <td>2017-08-16</td>\n",
       "      <td>1</td>\n",
       "      <td>105576</td>\n",
       "      <td>False</td>\n",
       "    </tr>\n",
       "    <tr>\n",
       "      <th>8</th>\n",
       "      <td>125497048</td>\n",
       "      <td>2017-08-16</td>\n",
       "      <td>1</td>\n",
       "      <td>105577</td>\n",
       "      <td>False</td>\n",
       "    </tr>\n",
       "    <tr>\n",
       "      <th>9</th>\n",
       "      <td>125497049</td>\n",
       "      <td>2017-08-16</td>\n",
       "      <td>1</td>\n",
       "      <td>105693</td>\n",
       "      <td>False</td>\n",
       "    </tr>\n",
       "    <tr>\n",
       "      <th>10</th>\n",
       "      <td>125497050</td>\n",
       "      <td>2017-08-16</td>\n",
       "      <td>1</td>\n",
       "      <td>105737</td>\n",
       "      <td>False</td>\n",
       "    </tr>\n",
       "    <tr>\n",
       "      <th>11</th>\n",
       "      <td>125497051</td>\n",
       "      <td>2017-08-16</td>\n",
       "      <td>1</td>\n",
       "      <td>105857</td>\n",
       "      <td>False</td>\n",
       "    </tr>\n",
       "    <tr>\n",
       "      <th>12</th>\n",
       "      <td>125497052</td>\n",
       "      <td>2017-08-16</td>\n",
       "      <td>1</td>\n",
       "      <td>106716</td>\n",
       "      <td>False</td>\n",
       "    </tr>\n",
       "    <tr>\n",
       "      <th>13</th>\n",
       "      <td>125497053</td>\n",
       "      <td>2017-08-16</td>\n",
       "      <td>1</td>\n",
       "      <td>108079</td>\n",
       "      <td>False</td>\n",
       "    </tr>\n",
       "    <tr>\n",
       "      <th>14</th>\n",
       "      <td>125497054</td>\n",
       "      <td>2017-08-16</td>\n",
       "      <td>1</td>\n",
       "      <td>108634</td>\n",
       "      <td>False</td>\n",
       "    </tr>\n",
       "    <tr>\n",
       "      <th>15</th>\n",
       "      <td>125497055</td>\n",
       "      <td>2017-08-16</td>\n",
       "      <td>1</td>\n",
       "      <td>108696</td>\n",
       "      <td>False</td>\n",
       "    </tr>\n",
       "    <tr>\n",
       "      <th>16</th>\n",
       "      <td>125497056</td>\n",
       "      <td>2017-08-16</td>\n",
       "      <td>1</td>\n",
       "      <td>108698</td>\n",
       "      <td>False</td>\n",
       "    </tr>\n",
       "    <tr>\n",
       "      <th>17</th>\n",
       "      <td>125497057</td>\n",
       "      <td>2017-08-16</td>\n",
       "      <td>1</td>\n",
       "      <td>108701</td>\n",
       "      <td>True</td>\n",
       "    </tr>\n",
       "    <tr>\n",
       "      <th>18</th>\n",
       "      <td>125497058</td>\n",
       "      <td>2017-08-16</td>\n",
       "      <td>1</td>\n",
       "      <td>108786</td>\n",
       "      <td>False</td>\n",
       "    </tr>\n",
       "    <tr>\n",
       "      <th>19</th>\n",
       "      <td>125497059</td>\n",
       "      <td>2017-08-16</td>\n",
       "      <td>1</td>\n",
       "      <td>108797</td>\n",
       "      <td>True</td>\n",
       "    </tr>\n",
       "    <tr>\n",
       "      <th>20</th>\n",
       "      <td>125497060</td>\n",
       "      <td>2017-08-16</td>\n",
       "      <td>1</td>\n",
       "      <td>108831</td>\n",
       "      <td>False</td>\n",
       "    </tr>\n",
       "    <tr>\n",
       "      <th>21</th>\n",
       "      <td>125497061</td>\n",
       "      <td>2017-08-16</td>\n",
       "      <td>1</td>\n",
       "      <td>108833</td>\n",
       "      <td>False</td>\n",
       "    </tr>\n",
       "    <tr>\n",
       "      <th>22</th>\n",
       "      <td>125497062</td>\n",
       "      <td>2017-08-16</td>\n",
       "      <td>1</td>\n",
       "      <td>108862</td>\n",
       "      <td>False</td>\n",
       "    </tr>\n",
       "    <tr>\n",
       "      <th>23</th>\n",
       "      <td>125497063</td>\n",
       "      <td>2017-08-16</td>\n",
       "      <td>1</td>\n",
       "      <td>108952</td>\n",
       "      <td>False</td>\n",
       "    </tr>\n",
       "    <tr>\n",
       "      <th>24</th>\n",
       "      <td>125497064</td>\n",
       "      <td>2017-08-16</td>\n",
       "      <td>1</td>\n",
       "      <td>111223</td>\n",
       "      <td>False</td>\n",
       "    </tr>\n",
       "    <tr>\n",
       "      <th>25</th>\n",
       "      <td>125497065</td>\n",
       "      <td>2017-08-16</td>\n",
       "      <td>1</td>\n",
       "      <td>111397</td>\n",
       "      <td>False</td>\n",
       "    </tr>\n",
       "    <tr>\n",
       "      <th>26</th>\n",
       "      <td>125497066</td>\n",
       "      <td>2017-08-16</td>\n",
       "      <td>1</td>\n",
       "      <td>112830</td>\n",
       "      <td>False</td>\n",
       "    </tr>\n",
       "    <tr>\n",
       "      <th>27</th>\n",
       "      <td>125497067</td>\n",
       "      <td>2017-08-16</td>\n",
       "      <td>1</td>\n",
       "      <td>114778</td>\n",
       "      <td>False</td>\n",
       "    </tr>\n",
       "    <tr>\n",
       "      <th>28</th>\n",
       "      <td>125497068</td>\n",
       "      <td>2017-08-16</td>\n",
       "      <td>1</td>\n",
       "      <td>114790</td>\n",
       "      <td>True</td>\n",
       "    </tr>\n",
       "    <tr>\n",
       "      <th>29</th>\n",
       "      <td>125497069</td>\n",
       "      <td>2017-08-16</td>\n",
       "      <td>1</td>\n",
       "      <td>114799</td>\n",
       "      <td>False</td>\n",
       "    </tr>\n",
       "    <tr>\n",
       "      <th>30</th>\n",
       "      <td>125497070</td>\n",
       "      <td>2017-08-16</td>\n",
       "      <td>1</td>\n",
       "      <td>114800</td>\n",
       "      <td>False</td>\n",
       "    </tr>\n",
       "    <tr>\n",
       "      <th>31</th>\n",
       "      <td>125497071</td>\n",
       "      <td>2017-08-16</td>\n",
       "      <td>1</td>\n",
       "      <td>115267</td>\n",
       "      <td>False</td>\n",
       "    </tr>\n",
       "    <tr>\n",
       "      <th>32</th>\n",
       "      <td>125497072</td>\n",
       "      <td>2017-08-16</td>\n",
       "      <td>1</td>\n",
       "      <td>115611</td>\n",
       "      <td>False</td>\n",
       "    </tr>\n",
       "    <tr>\n",
       "      <th>33</th>\n",
       "      <td>125497073</td>\n",
       "      <td>2017-08-16</td>\n",
       "      <td>1</td>\n",
       "      <td>115693</td>\n",
       "      <td>False</td>\n",
       "    </tr>\n",
       "    <tr>\n",
       "      <th>34</th>\n",
       "      <td>125497074</td>\n",
       "      <td>2017-08-16</td>\n",
       "      <td>1</td>\n",
       "      <td>115720</td>\n",
       "      <td>False</td>\n",
       "    </tr>\n",
       "    <tr>\n",
       "      <th>35</th>\n",
       "      <td>125497075</td>\n",
       "      <td>2017-08-16</td>\n",
       "      <td>1</td>\n",
       "      <td>115847</td>\n",
       "      <td>False</td>\n",
       "    </tr>\n",
       "    <tr>\n",
       "      <th>36</th>\n",
       "      <td>125497076</td>\n",
       "      <td>2017-08-16</td>\n",
       "      <td>1</td>\n",
       "      <td>115850</td>\n",
       "      <td>False</td>\n",
       "    </tr>\n",
       "    <tr>\n",
       "      <th>37</th>\n",
       "      <td>125497077</td>\n",
       "      <td>2017-08-16</td>\n",
       "      <td>1</td>\n",
       "      <td>115891</td>\n",
       "      <td>True</td>\n",
       "    </tr>\n",
       "    <tr>\n",
       "      <th>38</th>\n",
       "      <td>125497078</td>\n",
       "      <td>2017-08-16</td>\n",
       "      <td>1</td>\n",
       "      <td>115892</td>\n",
       "      <td>False</td>\n",
       "    </tr>\n",
       "    <tr>\n",
       "      <th>39</th>\n",
       "      <td>125497079</td>\n",
       "      <td>2017-08-16</td>\n",
       "      <td>1</td>\n",
       "      <td>115893</td>\n",
       "      <td>True</td>\n",
       "    </tr>\n",
       "    <tr>\n",
       "      <th>40</th>\n",
       "      <td>125497080</td>\n",
       "      <td>2017-08-16</td>\n",
       "      <td>1</td>\n",
       "      <td>115894</td>\n",
       "      <td>True</td>\n",
       "    </tr>\n",
       "    <tr>\n",
       "      <th>41</th>\n",
       "      <td>125497081</td>\n",
       "      <td>2017-08-16</td>\n",
       "      <td>1</td>\n",
       "      <td>116017</td>\n",
       "      <td>False</td>\n",
       "    </tr>\n",
       "    <tr>\n",
       "      <th>42</th>\n",
       "      <td>125497082</td>\n",
       "      <td>2017-08-16</td>\n",
       "      <td>1</td>\n",
       "      <td>116018</td>\n",
       "      <td>False</td>\n",
       "    </tr>\n",
       "    <tr>\n",
       "      <th>43</th>\n",
       "      <td>125497083</td>\n",
       "      <td>2017-08-16</td>\n",
       "      <td>1</td>\n",
       "      <td>116279</td>\n",
       "      <td>False</td>\n",
       "    </tr>\n",
       "    <tr>\n",
       "      <th>44</th>\n",
       "      <td>125497084</td>\n",
       "      <td>2017-08-16</td>\n",
       "      <td>1</td>\n",
       "      <td>116311</td>\n",
       "      <td>False</td>\n",
       "    </tr>\n",
       "    <tr>\n",
       "      <th>45</th>\n",
       "      <td>125497085</td>\n",
       "      <td>2017-08-16</td>\n",
       "      <td>1</td>\n",
       "      <td>119023</td>\n",
       "      <td>False</td>\n",
       "    </tr>\n",
       "    <tr>\n",
       "      <th>46</th>\n",
       "      <td>125497086</td>\n",
       "      <td>2017-08-16</td>\n",
       "      <td>1</td>\n",
       "      <td>119024</td>\n",
       "      <td>False</td>\n",
       "    </tr>\n",
       "    <tr>\n",
       "      <th>47</th>\n",
       "      <td>125497087</td>\n",
       "      <td>2017-08-16</td>\n",
       "      <td>1</td>\n",
       "      <td>119026</td>\n",
       "      <td>False</td>\n",
       "    </tr>\n",
       "    <tr>\n",
       "      <th>48</th>\n",
       "      <td>125497088</td>\n",
       "      <td>2017-08-16</td>\n",
       "      <td>1</td>\n",
       "      <td>119141</td>\n",
       "      <td>False</td>\n",
       "    </tr>\n",
       "    <tr>\n",
       "      <th>49</th>\n",
       "      <td>125497089</td>\n",
       "      <td>2017-08-16</td>\n",
       "      <td>1</td>\n",
       "      <td>119187</td>\n",
       "      <td>False</td>\n",
       "    </tr>\n",
       "  </tbody>\n",
       "</table>\n",
       "</div>"
      ],
      "text/plain": [
       "           id        date  store_nbr  item_nbr  onpromotion\n",
       "0   125497040  2017-08-16          1     96995        False\n",
       "1   125497041  2017-08-16          1     99197        False\n",
       "2   125497042  2017-08-16          1    103501        False\n",
       "3   125497043  2017-08-16          1    103520        False\n",
       "4   125497044  2017-08-16          1    103665        False\n",
       "5   125497045  2017-08-16          1    105574        False\n",
       "6   125497046  2017-08-16          1    105575        False\n",
       "7   125497047  2017-08-16          1    105576        False\n",
       "8   125497048  2017-08-16          1    105577        False\n",
       "9   125497049  2017-08-16          1    105693        False\n",
       "10  125497050  2017-08-16          1    105737        False\n",
       "11  125497051  2017-08-16          1    105857        False\n",
       "12  125497052  2017-08-16          1    106716        False\n",
       "13  125497053  2017-08-16          1    108079        False\n",
       "14  125497054  2017-08-16          1    108634        False\n",
       "15  125497055  2017-08-16          1    108696        False\n",
       "16  125497056  2017-08-16          1    108698        False\n",
       "17  125497057  2017-08-16          1    108701         True\n",
       "18  125497058  2017-08-16          1    108786        False\n",
       "19  125497059  2017-08-16          1    108797         True\n",
       "20  125497060  2017-08-16          1    108831        False\n",
       "21  125497061  2017-08-16          1    108833        False\n",
       "22  125497062  2017-08-16          1    108862        False\n",
       "23  125497063  2017-08-16          1    108952        False\n",
       "24  125497064  2017-08-16          1    111223        False\n",
       "25  125497065  2017-08-16          1    111397        False\n",
       "26  125497066  2017-08-16          1    112830        False\n",
       "27  125497067  2017-08-16          1    114778        False\n",
       "28  125497068  2017-08-16          1    114790         True\n",
       "29  125497069  2017-08-16          1    114799        False\n",
       "30  125497070  2017-08-16          1    114800        False\n",
       "31  125497071  2017-08-16          1    115267        False\n",
       "32  125497072  2017-08-16          1    115611        False\n",
       "33  125497073  2017-08-16          1    115693        False\n",
       "34  125497074  2017-08-16          1    115720        False\n",
       "35  125497075  2017-08-16          1    115847        False\n",
       "36  125497076  2017-08-16          1    115850        False\n",
       "37  125497077  2017-08-16          1    115891         True\n",
       "38  125497078  2017-08-16          1    115892        False\n",
       "39  125497079  2017-08-16          1    115893         True\n",
       "40  125497080  2017-08-16          1    115894         True\n",
       "41  125497081  2017-08-16          1    116017        False\n",
       "42  125497082  2017-08-16          1    116018        False\n",
       "43  125497083  2017-08-16          1    116279        False\n",
       "44  125497084  2017-08-16          1    116311        False\n",
       "45  125497085  2017-08-16          1    119023        False\n",
       "46  125497086  2017-08-16          1    119024        False\n",
       "47  125497087  2017-08-16          1    119026        False\n",
       "48  125497088  2017-08-16          1    119141        False\n",
       "49  125497089  2017-08-16          1    119187        False"
      ]
     },
     "execution_count": 14,
     "metadata": {},
     "output_type": "execute_result"
    }
   ],
   "source": [
    "load_csv_to_sqlite(conn, path, \"test.csv\")"
   ]
  },
  {
   "cell_type": "markdown",
   "id": "b9851520",
   "metadata": {},
   "source": [
    "### train"
   ]
  },
  {
   "cell_type": "code",
   "execution_count": 15,
   "id": "92b529b5",
   "metadata": {},
   "outputs": [
    {
     "name": "stdout",
     "output_type": "stream",
     "text": [
      "\n",
      "📂 Loading first 50 rows from 'train.csv' into SQLite...\n",
      "✅ Loaded preview of 'train.csv' into table 'train'\n",
      "🔢 Table 'train' currently has 50 preview rows.\n",
      "🔑 Candidate keys or join fields in 'train': ['id', 'store_nbr', 'item_nbr', 'date']\n"
     ]
    },
    {
     "data": {
      "application/vnd.microsoft.datawrangler.viewer.v0+json": {
       "columns": [
        {
         "name": "index",
         "rawType": "int64",
         "type": "integer"
        },
        {
         "name": "id",
         "rawType": "int64",
         "type": "integer"
        },
        {
         "name": "date",
         "rawType": "object",
         "type": "string"
        },
        {
         "name": "store_nbr",
         "rawType": "int64",
         "type": "integer"
        },
        {
         "name": "item_nbr",
         "rawType": "int64",
         "type": "integer"
        },
        {
         "name": "unit_sales",
         "rawType": "float64",
         "type": "float"
        },
        {
         "name": "onpromotion",
         "rawType": "float64",
         "type": "float"
        }
       ],
       "ref": "7fa30779-3e6f-4569-9835-10702f360d4c",
       "rows": [
        [
         "0",
         "0",
         "2013-01-01",
         "25",
         "103665",
         "7.0",
         null
        ],
        [
         "1",
         "1",
         "2013-01-01",
         "25",
         "105574",
         "1.0",
         null
        ],
        [
         "2",
         "2",
         "2013-01-01",
         "25",
         "105575",
         "2.0",
         null
        ],
        [
         "3",
         "3",
         "2013-01-01",
         "25",
         "108079",
         "1.0",
         null
        ],
        [
         "4",
         "4",
         "2013-01-01",
         "25",
         "108701",
         "1.0",
         null
        ],
        [
         "5",
         "5",
         "2013-01-01",
         "25",
         "108786",
         "3.0",
         null
        ],
        [
         "6",
         "6",
         "2013-01-01",
         "25",
         "108797",
         "1.0",
         null
        ],
        [
         "7",
         "7",
         "2013-01-01",
         "25",
         "108952",
         "1.0",
         null
        ],
        [
         "8",
         "8",
         "2013-01-01",
         "25",
         "111397",
         "13.0",
         null
        ],
        [
         "9",
         "9",
         "2013-01-01",
         "25",
         "114790",
         "3.0",
         null
        ],
        [
         "10",
         "10",
         "2013-01-01",
         "25",
         "114800",
         "1.0",
         null
        ],
        [
         "11",
         "11",
         "2013-01-01",
         "25",
         "115267",
         "1.0",
         null
        ],
        [
         "12",
         "12",
         "2013-01-01",
         "25",
         "115611",
         "1.0",
         null
        ],
        [
         "13",
         "13",
         "2013-01-01",
         "25",
         "115693",
         "1.0",
         null
        ],
        [
         "14",
         "14",
         "2013-01-01",
         "25",
         "115720",
         "5.0",
         null
        ],
        [
         "15",
         "15",
         "2013-01-01",
         "25",
         "115850",
         "1.0",
         null
        ],
        [
         "16",
         "16",
         "2013-01-01",
         "25",
         "115891",
         "6.0",
         null
        ],
        [
         "17",
         "17",
         "2013-01-01",
         "25",
         "115892",
         "10.0",
         null
        ],
        [
         "18",
         "18",
         "2013-01-01",
         "25",
         "115894",
         "5.0",
         null
        ],
        [
         "19",
         "19",
         "2013-01-01",
         "25",
         "119024",
         "1.0",
         null
        ],
        [
         "20",
         "20",
         "2013-01-01",
         "25",
         "119026",
         "1.0",
         null
        ],
        [
         "21",
         "21",
         "2013-01-01",
         "25",
         "119141",
         "1.0",
         null
        ],
        [
         "22",
         "22",
         "2013-01-01",
         "25",
         "119187",
         "1.0",
         null
        ],
        [
         "23",
         "23",
         "2013-01-01",
         "25",
         "119624",
         "4.0",
         null
        ],
        [
         "24",
         "24",
         "2013-01-01",
         "25",
         "123927",
         "1.0",
         null
        ],
        [
         "25",
         "25",
         "2013-01-01",
         "25",
         "129635",
         "11.0",
         null
        ],
        [
         "26",
         "26",
         "2013-01-01",
         "25",
         "153239",
         "3.0",
         null
        ],
        [
         "27",
         "27",
         "2013-01-01",
         "25",
         "153267",
         "9.0",
         null
        ],
        [
         "28",
         "28",
         "2013-01-01",
         "25",
         "153395",
         "7.0",
         null
        ],
        [
         "29",
         "29",
         "2013-01-01",
         "25",
         "155607",
         "2.0",
         null
        ],
        [
         "30",
         "30",
         "2013-01-01",
         "25",
         "158680",
         "1.0",
         null
        ],
        [
         "31",
         "31",
         "2013-01-01",
         "25",
         "158788",
         "4.0",
         null
        ],
        [
         "32",
         "32",
         "2013-01-01",
         "25",
         "158842",
         "9.0",
         null
        ],
        [
         "33",
         "33",
         "2013-01-01",
         "25",
         "158875",
         "1.0",
         null
        ],
        [
         "34",
         "34",
         "2013-01-01",
         "25",
         "158956",
         "5.0",
         null
        ],
        [
         "35",
         "35",
         "2013-01-01",
         "25",
         "159156",
         "29.904",
         null
        ],
        [
         "36",
         "36",
         "2013-01-01",
         "25",
         "162066",
         "2.0",
         null
        ],
        [
         "37",
         "37",
         "2013-01-01",
         "25",
         "164036",
         "1.0",
         null
        ],
        [
         "38",
         "38",
         "2013-01-01",
         "25",
         "164088",
         "3.0",
         null
        ],
        [
         "39",
         "39",
         "2013-01-01",
         "25",
         "165550",
         "10.0",
         null
        ],
        [
         "40",
         "40",
         "2013-01-01",
         "25",
         "165551",
         "1.0",
         null
        ],
        [
         "41",
         "41",
         "2013-01-01",
         "25",
         "165553",
         "9.0",
         null
        ],
        [
         "42",
         "42",
         "2013-01-01",
         "25",
         "165594",
         "4.0",
         null
        ],
        [
         "43",
         "43",
         "2013-01-01",
         "25",
         "165704",
         "4.0",
         null
        ],
        [
         "44",
         "44",
         "2013-01-01",
         "25",
         "165705",
         "15.0",
         null
        ],
        [
         "45",
         "45",
         "2013-01-01",
         "25",
         "165718",
         "2.0",
         null
        ],
        [
         "46",
         "46",
         "2013-01-01",
         "25",
         "165988",
         "1.0",
         null
        ],
        [
         "47",
         "47",
         "2013-01-01",
         "25",
         "168927",
         "9.0",
         null
        ],
        [
         "48",
         "48",
         "2013-01-01",
         "25",
         "169104",
         "1.0",
         null
        ],
        [
         "49",
         "49",
         "2013-01-01",
         "25",
         "172184",
         "2.0",
         null
        ]
       ],
       "shape": {
        "columns": 6,
        "rows": 50
       }
      },
      "text/html": [
       "<div>\n",
       "<style scoped>\n",
       "    .dataframe tbody tr th:only-of-type {\n",
       "        vertical-align: middle;\n",
       "    }\n",
       "\n",
       "    .dataframe tbody tr th {\n",
       "        vertical-align: top;\n",
       "    }\n",
       "\n",
       "    .dataframe thead th {\n",
       "        text-align: right;\n",
       "    }\n",
       "</style>\n",
       "<table border=\"1\" class=\"dataframe\">\n",
       "  <thead>\n",
       "    <tr style=\"text-align: right;\">\n",
       "      <th></th>\n",
       "      <th>id</th>\n",
       "      <th>date</th>\n",
       "      <th>store_nbr</th>\n",
       "      <th>item_nbr</th>\n",
       "      <th>unit_sales</th>\n",
       "      <th>onpromotion</th>\n",
       "    </tr>\n",
       "  </thead>\n",
       "  <tbody>\n",
       "    <tr>\n",
       "      <th>0</th>\n",
       "      <td>0</td>\n",
       "      <td>2013-01-01</td>\n",
       "      <td>25</td>\n",
       "      <td>103665</td>\n",
       "      <td>7.000</td>\n",
       "      <td>NaN</td>\n",
       "    </tr>\n",
       "    <tr>\n",
       "      <th>1</th>\n",
       "      <td>1</td>\n",
       "      <td>2013-01-01</td>\n",
       "      <td>25</td>\n",
       "      <td>105574</td>\n",
       "      <td>1.000</td>\n",
       "      <td>NaN</td>\n",
       "    </tr>\n",
       "    <tr>\n",
       "      <th>2</th>\n",
       "      <td>2</td>\n",
       "      <td>2013-01-01</td>\n",
       "      <td>25</td>\n",
       "      <td>105575</td>\n",
       "      <td>2.000</td>\n",
       "      <td>NaN</td>\n",
       "    </tr>\n",
       "    <tr>\n",
       "      <th>3</th>\n",
       "      <td>3</td>\n",
       "      <td>2013-01-01</td>\n",
       "      <td>25</td>\n",
       "      <td>108079</td>\n",
       "      <td>1.000</td>\n",
       "      <td>NaN</td>\n",
       "    </tr>\n",
       "    <tr>\n",
       "      <th>4</th>\n",
       "      <td>4</td>\n",
       "      <td>2013-01-01</td>\n",
       "      <td>25</td>\n",
       "      <td>108701</td>\n",
       "      <td>1.000</td>\n",
       "      <td>NaN</td>\n",
       "    </tr>\n",
       "    <tr>\n",
       "      <th>5</th>\n",
       "      <td>5</td>\n",
       "      <td>2013-01-01</td>\n",
       "      <td>25</td>\n",
       "      <td>108786</td>\n",
       "      <td>3.000</td>\n",
       "      <td>NaN</td>\n",
       "    </tr>\n",
       "    <tr>\n",
       "      <th>6</th>\n",
       "      <td>6</td>\n",
       "      <td>2013-01-01</td>\n",
       "      <td>25</td>\n",
       "      <td>108797</td>\n",
       "      <td>1.000</td>\n",
       "      <td>NaN</td>\n",
       "    </tr>\n",
       "    <tr>\n",
       "      <th>7</th>\n",
       "      <td>7</td>\n",
       "      <td>2013-01-01</td>\n",
       "      <td>25</td>\n",
       "      <td>108952</td>\n",
       "      <td>1.000</td>\n",
       "      <td>NaN</td>\n",
       "    </tr>\n",
       "    <tr>\n",
       "      <th>8</th>\n",
       "      <td>8</td>\n",
       "      <td>2013-01-01</td>\n",
       "      <td>25</td>\n",
       "      <td>111397</td>\n",
       "      <td>13.000</td>\n",
       "      <td>NaN</td>\n",
       "    </tr>\n",
       "    <tr>\n",
       "      <th>9</th>\n",
       "      <td>9</td>\n",
       "      <td>2013-01-01</td>\n",
       "      <td>25</td>\n",
       "      <td>114790</td>\n",
       "      <td>3.000</td>\n",
       "      <td>NaN</td>\n",
       "    </tr>\n",
       "    <tr>\n",
       "      <th>10</th>\n",
       "      <td>10</td>\n",
       "      <td>2013-01-01</td>\n",
       "      <td>25</td>\n",
       "      <td>114800</td>\n",
       "      <td>1.000</td>\n",
       "      <td>NaN</td>\n",
       "    </tr>\n",
       "    <tr>\n",
       "      <th>11</th>\n",
       "      <td>11</td>\n",
       "      <td>2013-01-01</td>\n",
       "      <td>25</td>\n",
       "      <td>115267</td>\n",
       "      <td>1.000</td>\n",
       "      <td>NaN</td>\n",
       "    </tr>\n",
       "    <tr>\n",
       "      <th>12</th>\n",
       "      <td>12</td>\n",
       "      <td>2013-01-01</td>\n",
       "      <td>25</td>\n",
       "      <td>115611</td>\n",
       "      <td>1.000</td>\n",
       "      <td>NaN</td>\n",
       "    </tr>\n",
       "    <tr>\n",
       "      <th>13</th>\n",
       "      <td>13</td>\n",
       "      <td>2013-01-01</td>\n",
       "      <td>25</td>\n",
       "      <td>115693</td>\n",
       "      <td>1.000</td>\n",
       "      <td>NaN</td>\n",
       "    </tr>\n",
       "    <tr>\n",
       "      <th>14</th>\n",
       "      <td>14</td>\n",
       "      <td>2013-01-01</td>\n",
       "      <td>25</td>\n",
       "      <td>115720</td>\n",
       "      <td>5.000</td>\n",
       "      <td>NaN</td>\n",
       "    </tr>\n",
       "    <tr>\n",
       "      <th>15</th>\n",
       "      <td>15</td>\n",
       "      <td>2013-01-01</td>\n",
       "      <td>25</td>\n",
       "      <td>115850</td>\n",
       "      <td>1.000</td>\n",
       "      <td>NaN</td>\n",
       "    </tr>\n",
       "    <tr>\n",
       "      <th>16</th>\n",
       "      <td>16</td>\n",
       "      <td>2013-01-01</td>\n",
       "      <td>25</td>\n",
       "      <td>115891</td>\n",
       "      <td>6.000</td>\n",
       "      <td>NaN</td>\n",
       "    </tr>\n",
       "    <tr>\n",
       "      <th>17</th>\n",
       "      <td>17</td>\n",
       "      <td>2013-01-01</td>\n",
       "      <td>25</td>\n",
       "      <td>115892</td>\n",
       "      <td>10.000</td>\n",
       "      <td>NaN</td>\n",
       "    </tr>\n",
       "    <tr>\n",
       "      <th>18</th>\n",
       "      <td>18</td>\n",
       "      <td>2013-01-01</td>\n",
       "      <td>25</td>\n",
       "      <td>115894</td>\n",
       "      <td>5.000</td>\n",
       "      <td>NaN</td>\n",
       "    </tr>\n",
       "    <tr>\n",
       "      <th>19</th>\n",
       "      <td>19</td>\n",
       "      <td>2013-01-01</td>\n",
       "      <td>25</td>\n",
       "      <td>119024</td>\n",
       "      <td>1.000</td>\n",
       "      <td>NaN</td>\n",
       "    </tr>\n",
       "    <tr>\n",
       "      <th>20</th>\n",
       "      <td>20</td>\n",
       "      <td>2013-01-01</td>\n",
       "      <td>25</td>\n",
       "      <td>119026</td>\n",
       "      <td>1.000</td>\n",
       "      <td>NaN</td>\n",
       "    </tr>\n",
       "    <tr>\n",
       "      <th>21</th>\n",
       "      <td>21</td>\n",
       "      <td>2013-01-01</td>\n",
       "      <td>25</td>\n",
       "      <td>119141</td>\n",
       "      <td>1.000</td>\n",
       "      <td>NaN</td>\n",
       "    </tr>\n",
       "    <tr>\n",
       "      <th>22</th>\n",
       "      <td>22</td>\n",
       "      <td>2013-01-01</td>\n",
       "      <td>25</td>\n",
       "      <td>119187</td>\n",
       "      <td>1.000</td>\n",
       "      <td>NaN</td>\n",
       "    </tr>\n",
       "    <tr>\n",
       "      <th>23</th>\n",
       "      <td>23</td>\n",
       "      <td>2013-01-01</td>\n",
       "      <td>25</td>\n",
       "      <td>119624</td>\n",
       "      <td>4.000</td>\n",
       "      <td>NaN</td>\n",
       "    </tr>\n",
       "    <tr>\n",
       "      <th>24</th>\n",
       "      <td>24</td>\n",
       "      <td>2013-01-01</td>\n",
       "      <td>25</td>\n",
       "      <td>123927</td>\n",
       "      <td>1.000</td>\n",
       "      <td>NaN</td>\n",
       "    </tr>\n",
       "    <tr>\n",
       "      <th>25</th>\n",
       "      <td>25</td>\n",
       "      <td>2013-01-01</td>\n",
       "      <td>25</td>\n",
       "      <td>129635</td>\n",
       "      <td>11.000</td>\n",
       "      <td>NaN</td>\n",
       "    </tr>\n",
       "    <tr>\n",
       "      <th>26</th>\n",
       "      <td>26</td>\n",
       "      <td>2013-01-01</td>\n",
       "      <td>25</td>\n",
       "      <td>153239</td>\n",
       "      <td>3.000</td>\n",
       "      <td>NaN</td>\n",
       "    </tr>\n",
       "    <tr>\n",
       "      <th>27</th>\n",
       "      <td>27</td>\n",
       "      <td>2013-01-01</td>\n",
       "      <td>25</td>\n",
       "      <td>153267</td>\n",
       "      <td>9.000</td>\n",
       "      <td>NaN</td>\n",
       "    </tr>\n",
       "    <tr>\n",
       "      <th>28</th>\n",
       "      <td>28</td>\n",
       "      <td>2013-01-01</td>\n",
       "      <td>25</td>\n",
       "      <td>153395</td>\n",
       "      <td>7.000</td>\n",
       "      <td>NaN</td>\n",
       "    </tr>\n",
       "    <tr>\n",
       "      <th>29</th>\n",
       "      <td>29</td>\n",
       "      <td>2013-01-01</td>\n",
       "      <td>25</td>\n",
       "      <td>155607</td>\n",
       "      <td>2.000</td>\n",
       "      <td>NaN</td>\n",
       "    </tr>\n",
       "    <tr>\n",
       "      <th>30</th>\n",
       "      <td>30</td>\n",
       "      <td>2013-01-01</td>\n",
       "      <td>25</td>\n",
       "      <td>158680</td>\n",
       "      <td>1.000</td>\n",
       "      <td>NaN</td>\n",
       "    </tr>\n",
       "    <tr>\n",
       "      <th>31</th>\n",
       "      <td>31</td>\n",
       "      <td>2013-01-01</td>\n",
       "      <td>25</td>\n",
       "      <td>158788</td>\n",
       "      <td>4.000</td>\n",
       "      <td>NaN</td>\n",
       "    </tr>\n",
       "    <tr>\n",
       "      <th>32</th>\n",
       "      <td>32</td>\n",
       "      <td>2013-01-01</td>\n",
       "      <td>25</td>\n",
       "      <td>158842</td>\n",
       "      <td>9.000</td>\n",
       "      <td>NaN</td>\n",
       "    </tr>\n",
       "    <tr>\n",
       "      <th>33</th>\n",
       "      <td>33</td>\n",
       "      <td>2013-01-01</td>\n",
       "      <td>25</td>\n",
       "      <td>158875</td>\n",
       "      <td>1.000</td>\n",
       "      <td>NaN</td>\n",
       "    </tr>\n",
       "    <tr>\n",
       "      <th>34</th>\n",
       "      <td>34</td>\n",
       "      <td>2013-01-01</td>\n",
       "      <td>25</td>\n",
       "      <td>158956</td>\n",
       "      <td>5.000</td>\n",
       "      <td>NaN</td>\n",
       "    </tr>\n",
       "    <tr>\n",
       "      <th>35</th>\n",
       "      <td>35</td>\n",
       "      <td>2013-01-01</td>\n",
       "      <td>25</td>\n",
       "      <td>159156</td>\n",
       "      <td>29.904</td>\n",
       "      <td>NaN</td>\n",
       "    </tr>\n",
       "    <tr>\n",
       "      <th>36</th>\n",
       "      <td>36</td>\n",
       "      <td>2013-01-01</td>\n",
       "      <td>25</td>\n",
       "      <td>162066</td>\n",
       "      <td>2.000</td>\n",
       "      <td>NaN</td>\n",
       "    </tr>\n",
       "    <tr>\n",
       "      <th>37</th>\n",
       "      <td>37</td>\n",
       "      <td>2013-01-01</td>\n",
       "      <td>25</td>\n",
       "      <td>164036</td>\n",
       "      <td>1.000</td>\n",
       "      <td>NaN</td>\n",
       "    </tr>\n",
       "    <tr>\n",
       "      <th>38</th>\n",
       "      <td>38</td>\n",
       "      <td>2013-01-01</td>\n",
       "      <td>25</td>\n",
       "      <td>164088</td>\n",
       "      <td>3.000</td>\n",
       "      <td>NaN</td>\n",
       "    </tr>\n",
       "    <tr>\n",
       "      <th>39</th>\n",
       "      <td>39</td>\n",
       "      <td>2013-01-01</td>\n",
       "      <td>25</td>\n",
       "      <td>165550</td>\n",
       "      <td>10.000</td>\n",
       "      <td>NaN</td>\n",
       "    </tr>\n",
       "    <tr>\n",
       "      <th>40</th>\n",
       "      <td>40</td>\n",
       "      <td>2013-01-01</td>\n",
       "      <td>25</td>\n",
       "      <td>165551</td>\n",
       "      <td>1.000</td>\n",
       "      <td>NaN</td>\n",
       "    </tr>\n",
       "    <tr>\n",
       "      <th>41</th>\n",
       "      <td>41</td>\n",
       "      <td>2013-01-01</td>\n",
       "      <td>25</td>\n",
       "      <td>165553</td>\n",
       "      <td>9.000</td>\n",
       "      <td>NaN</td>\n",
       "    </tr>\n",
       "    <tr>\n",
       "      <th>42</th>\n",
       "      <td>42</td>\n",
       "      <td>2013-01-01</td>\n",
       "      <td>25</td>\n",
       "      <td>165594</td>\n",
       "      <td>4.000</td>\n",
       "      <td>NaN</td>\n",
       "    </tr>\n",
       "    <tr>\n",
       "      <th>43</th>\n",
       "      <td>43</td>\n",
       "      <td>2013-01-01</td>\n",
       "      <td>25</td>\n",
       "      <td>165704</td>\n",
       "      <td>4.000</td>\n",
       "      <td>NaN</td>\n",
       "    </tr>\n",
       "    <tr>\n",
       "      <th>44</th>\n",
       "      <td>44</td>\n",
       "      <td>2013-01-01</td>\n",
       "      <td>25</td>\n",
       "      <td>165705</td>\n",
       "      <td>15.000</td>\n",
       "      <td>NaN</td>\n",
       "    </tr>\n",
       "    <tr>\n",
       "      <th>45</th>\n",
       "      <td>45</td>\n",
       "      <td>2013-01-01</td>\n",
       "      <td>25</td>\n",
       "      <td>165718</td>\n",
       "      <td>2.000</td>\n",
       "      <td>NaN</td>\n",
       "    </tr>\n",
       "    <tr>\n",
       "      <th>46</th>\n",
       "      <td>46</td>\n",
       "      <td>2013-01-01</td>\n",
       "      <td>25</td>\n",
       "      <td>165988</td>\n",
       "      <td>1.000</td>\n",
       "      <td>NaN</td>\n",
       "    </tr>\n",
       "    <tr>\n",
       "      <th>47</th>\n",
       "      <td>47</td>\n",
       "      <td>2013-01-01</td>\n",
       "      <td>25</td>\n",
       "      <td>168927</td>\n",
       "      <td>9.000</td>\n",
       "      <td>NaN</td>\n",
       "    </tr>\n",
       "    <tr>\n",
       "      <th>48</th>\n",
       "      <td>48</td>\n",
       "      <td>2013-01-01</td>\n",
       "      <td>25</td>\n",
       "      <td>169104</td>\n",
       "      <td>1.000</td>\n",
       "      <td>NaN</td>\n",
       "    </tr>\n",
       "    <tr>\n",
       "      <th>49</th>\n",
       "      <td>49</td>\n",
       "      <td>2013-01-01</td>\n",
       "      <td>25</td>\n",
       "      <td>172184</td>\n",
       "      <td>2.000</td>\n",
       "      <td>NaN</td>\n",
       "    </tr>\n",
       "  </tbody>\n",
       "</table>\n",
       "</div>"
      ],
      "text/plain": [
       "    id        date  store_nbr  item_nbr  unit_sales  onpromotion\n",
       "0    0  2013-01-01         25    103665       7.000          NaN\n",
       "1    1  2013-01-01         25    105574       1.000          NaN\n",
       "2    2  2013-01-01         25    105575       2.000          NaN\n",
       "3    3  2013-01-01         25    108079       1.000          NaN\n",
       "4    4  2013-01-01         25    108701       1.000          NaN\n",
       "5    5  2013-01-01         25    108786       3.000          NaN\n",
       "6    6  2013-01-01         25    108797       1.000          NaN\n",
       "7    7  2013-01-01         25    108952       1.000          NaN\n",
       "8    8  2013-01-01         25    111397      13.000          NaN\n",
       "9    9  2013-01-01         25    114790       3.000          NaN\n",
       "10  10  2013-01-01         25    114800       1.000          NaN\n",
       "11  11  2013-01-01         25    115267       1.000          NaN\n",
       "12  12  2013-01-01         25    115611       1.000          NaN\n",
       "13  13  2013-01-01         25    115693       1.000          NaN\n",
       "14  14  2013-01-01         25    115720       5.000          NaN\n",
       "15  15  2013-01-01         25    115850       1.000          NaN\n",
       "16  16  2013-01-01         25    115891       6.000          NaN\n",
       "17  17  2013-01-01         25    115892      10.000          NaN\n",
       "18  18  2013-01-01         25    115894       5.000          NaN\n",
       "19  19  2013-01-01         25    119024       1.000          NaN\n",
       "20  20  2013-01-01         25    119026       1.000          NaN\n",
       "21  21  2013-01-01         25    119141       1.000          NaN\n",
       "22  22  2013-01-01         25    119187       1.000          NaN\n",
       "23  23  2013-01-01         25    119624       4.000          NaN\n",
       "24  24  2013-01-01         25    123927       1.000          NaN\n",
       "25  25  2013-01-01         25    129635      11.000          NaN\n",
       "26  26  2013-01-01         25    153239       3.000          NaN\n",
       "27  27  2013-01-01         25    153267       9.000          NaN\n",
       "28  28  2013-01-01         25    153395       7.000          NaN\n",
       "29  29  2013-01-01         25    155607       2.000          NaN\n",
       "30  30  2013-01-01         25    158680       1.000          NaN\n",
       "31  31  2013-01-01         25    158788       4.000          NaN\n",
       "32  32  2013-01-01         25    158842       9.000          NaN\n",
       "33  33  2013-01-01         25    158875       1.000          NaN\n",
       "34  34  2013-01-01         25    158956       5.000          NaN\n",
       "35  35  2013-01-01         25    159156      29.904          NaN\n",
       "36  36  2013-01-01         25    162066       2.000          NaN\n",
       "37  37  2013-01-01         25    164036       1.000          NaN\n",
       "38  38  2013-01-01         25    164088       3.000          NaN\n",
       "39  39  2013-01-01         25    165550      10.000          NaN\n",
       "40  40  2013-01-01         25    165551       1.000          NaN\n",
       "41  41  2013-01-01         25    165553       9.000          NaN\n",
       "42  42  2013-01-01         25    165594       4.000          NaN\n",
       "43  43  2013-01-01         25    165704       4.000          NaN\n",
       "44  44  2013-01-01         25    165705      15.000          NaN\n",
       "45  45  2013-01-01         25    165718       2.000          NaN\n",
       "46  46  2013-01-01         25    165988       1.000          NaN\n",
       "47  47  2013-01-01         25    168927       9.000          NaN\n",
       "48  48  2013-01-01         25    169104       1.000          NaN\n",
       "49  49  2013-01-01         25    172184       2.000          NaN"
      ]
     },
     "execution_count": 15,
     "metadata": {},
     "output_type": "execute_result"
    }
   ],
   "source": [
    "load_csv_to_sqlite(conn, path, \"train.csv\")"
   ]
  },
  {
   "cell_type": "code",
   "execution_count": 16,
   "id": "c2196771",
   "metadata": {},
   "outputs": [
    {
     "name": "stdout",
     "output_type": "stream",
     "text": [
      "🔒 Closed previous database connection.\n"
     ]
    }
   ],
   "source": [
    "# If you already had an old connection open\n",
    "try:\n",
    "    conn.close()\n",
    "    print(\"🔒 Closed previous database connection.\")\n",
    "except:\n",
    "    print(\"ℹ️ No previous connection found or already closed.\")"
   ]
  },
  {
   "cell_type": "markdown",
   "id": "20dd5563",
   "metadata": {},
   "source": [
    "### Data samples"
   ]
  },
  {
   "cell_type": "markdown",
   "id": "dc339242",
   "metadata": {},
   "source": [
    "### df_train - train.csv is a big in this dataset - like 125 million rows, so I need to download only a small sample"
   ]
  },
  {
   "cell_type": "markdown",
   "id": "fe3627b5",
   "metadata": {},
   "source": [
    "From SQL to DataFrame"
   ]
  },
  {
   "cell_type": "code",
   "execution_count": 17,
   "id": "c7c61bff",
   "metadata": {},
   "outputs": [
    {
     "name": "stdout",
     "output_type": "stream",
     "text": [
      "✅ New connection established.\n",
      "                name\n",
      "0  sample_submission\n",
      "1                oil\n",
      "2              items\n",
      "3    holidays_events\n",
      "4             stores\n",
      "5       transactions\n",
      "6               test\n",
      "7              train\n"
     ]
    }
   ],
   "source": [
    "# Check table names\n",
    "conn = sqlite3.connect(\"favorita.db\")\n",
    "tables = pd.read_sql(\"SELECT name FROM sqlite_master WHERE type='table';\", conn)\n",
    "\n",
    "print(\"✅ New connection established.\")\n",
    "print(tables)"
   ]
  },
  {
   "cell_type": "code",
   "execution_count": 18,
   "id": "5f8247ea",
   "metadata": {},
   "outputs": [],
   "source": [
    "database_connection_string = \"sqlite:///favorita.db\"  # Assuming the database file is named 'favorita.db'\n",
    "\n",
    "# Create the engine\n",
    "engine = sa.create_engine(database_connection_string)"
   ]
  },
  {
   "cell_type": "code",
   "execution_count": 19,
   "id": "2fcc1b38",
   "metadata": {},
   "outputs": [
    {
     "name": "stdout",
     "output_type": "stream",
     "text": [
      "✅ Loaded 'train.csv' with 200,000 rows (max 200,000).\n",
      "✅ Loaded 'transactions.csv' with 83,488 rows (max 200,000).\n",
      "✅ Loaded 'oil.csv' with 1,218 rows (max 200,000).\n",
      "✅ Loaded 'items.csv' with 4,100 rows (max 200,000).\n",
      "✅ Loaded 'stores.csv' with 54 rows (max 200,000).\n",
      "✅ Loaded 'holidays_events.csv' with 350 rows (max 200,000).\n"
     ]
    }
   ],
   "source": [
    "# Reconnect to your database\n",
    "conn = sqlite3.connect(\"favorita.db\")\n",
    "\n",
    "# Load CSVs with optional row limit (default = 200,000)\n",
    "def load_csv_to_sqlite_limited(conn, path, filename, limit=200_000):\n",
    "    file_path = os.path.join(path, filename)\n",
    "    # Read only up to the given limit\n",
    "    df = pd.read_csv(file_path, nrows=limit)\n",
    "    table_name = filename.replace('.csv', '')\n",
    "    df.to_sql(table_name, conn, if_exists=\"replace\", index=False)\n",
    "    print(f\"✅ Loaded '{filename}' with {len(df):,} rows (max {limit:,}).\")\n",
    "\n",
    "# Load each table (limit to 200,000 rows)\n",
    "load_csv_to_sqlite_limited(conn, path, \"train.csv\")\n",
    "load_csv_to_sqlite_limited(conn, path, \"transactions.csv\")\n",
    "load_csv_to_sqlite_limited(conn, path, \"oil.csv\")\n",
    "load_csv_to_sqlite_limited(conn, path, \"items.csv\")\n",
    "load_csv_to_sqlite_limited(conn, path, \"stores.csv\")\n",
    "load_csv_to_sqlite_limited(conn, path, \"holidays_events.csv\")"
   ]
  },
  {
   "cell_type": "code",
   "execution_count": 20,
   "id": "01e6a604",
   "metadata": {},
   "outputs": [],
   "source": [
    "# pd.read_sql(\"SELECT COUNT(*) AS total, COUNT(onpromotion) AS non_null FROM train;\", conn)"
   ]
  },
  {
   "cell_type": "code",
   "execution_count": 21,
   "id": "5aab88a2",
   "metadata": {},
   "outputs": [],
   "source": [
    "query_train = \"\"\"\n",
    "WITH top_families AS (\n",
    "    SELECT items.family\n",
    "    FROM train\n",
    "    JOIN items ON train.item_nbr = items.item_nbr\n",
    "    WHERE train.unit_sales >= 0\n",
    "    GROUP BY items.family\n",
    "    ORDER BY SUM(train.unit_sales) DESC\n",
    "    LIMIT 10\n",
    ")\n",
    "\n",
    "SELECT\n",
    "    train.unit_sales,\n",
    "    train.date AS train_date,\n",
    "    train.store_nbr,\n",
    "    train.item_nbr,\n",
    "    train.onpromotion,\n",
    "    oil.dcoilwtico,\n",
    "    holidays_events.type AS holiday_type,\n",
    "    holidays_events.locale,\n",
    "    holidays_events.transferred,\n",
    "    stores.city,\n",
    "    stores.type AS store_type,\n",
    "    stores.cluster AS store_cluster,\n",
    "    items.family AS items_family,\n",
    "    items.class AS item_class,\n",
    "    items.perishable AS perishable_items,\n",
    "    transactions.transactions\n",
    "FROM train\n",
    "LEFT JOIN oil\n",
    "  ON DATE(train.date) = DATE(oil.date)\n",
    "LEFT JOIN holidays_events\n",
    "  ON DATE(train.date) = DATE(holidays_events.date)\n",
    "INNER JOIN stores\n",
    "  ON train.store_nbr = stores.store_nbr\n",
    "INNER JOIN items\n",
    "  ON train.item_nbr = items.item_nbr\n",
    "LEFT JOIN transactions\n",
    "  ON DATE(train.date) = DATE(transactions.date)\n",
    "     AND train.store_nbr = transactions.store_nbr\n",
    "WHERE train.unit_sales >= 0\n",
    "LIMIT 200000;\n",
    "\"\"\""
   ]
  },
  {
   "cell_type": "code",
   "execution_count": 22,
   "id": "db1d3d94",
   "metadata": {},
   "outputs": [],
   "source": [
    "df_train_download = pd.read_sql_query(query_train, engine)"
   ]
  },
  {
   "cell_type": "code",
   "execution_count": 23,
   "id": "1701b00f",
   "metadata": {},
   "outputs": [
    {
     "data": {
      "application/vnd.microsoft.datawrangler.viewer.v0+json": {
       "columns": [
        {
         "name": "index",
         "rawType": "int64",
         "type": "integer"
        },
        {
         "name": "unit_sales",
         "rawType": "float64",
         "type": "float"
        },
        {
         "name": "train_date",
         "rawType": "object",
         "type": "string"
        },
        {
         "name": "store_nbr",
         "rawType": "int64",
         "type": "integer"
        },
        {
         "name": "item_nbr",
         "rawType": "int64",
         "type": "integer"
        },
        {
         "name": "onpromotion",
         "rawType": "object",
         "type": "unknown"
        },
        {
         "name": "dcoilwtico",
         "rawType": "float64",
         "type": "float"
        },
        {
         "name": "holiday_type",
         "rawType": "object",
         "type": "unknown"
        },
        {
         "name": "locale",
         "rawType": "object",
         "type": "unknown"
        },
        {
         "name": "transferred",
         "rawType": "float64",
         "type": "float"
        },
        {
         "name": "city",
         "rawType": "object",
         "type": "string"
        },
        {
         "name": "store_type",
         "rawType": "object",
         "type": "string"
        },
        {
         "name": "store_cluster",
         "rawType": "int64",
         "type": "integer"
        },
        {
         "name": "items_family",
         "rawType": "object",
         "type": "string"
        },
        {
         "name": "item_class",
         "rawType": "int64",
         "type": "integer"
        },
        {
         "name": "perishable_items",
         "rawType": "int64",
         "type": "integer"
        },
        {
         "name": "transactions",
         "rawType": "int64",
         "type": "integer"
        }
       ],
       "ref": "956dcdff-a0fe-4a2c-9d6c-44cf44ed50ce",
       "rows": [
        [
         "75275",
         "62.0",
         "2013-01-03",
         "46",
         "220435",
         null,
         "92.97",
         null,
         null,
         null,
         "Quito",
         "A",
         "14",
         "GROCERY I",
         "1080",
         "0",
         "3438"
        ],
        [
         "196131",
         "2.0",
         "2013-01-06",
         "43",
         "262991",
         null,
         null,
         null,
         null,
         null,
         "Esmeraldas",
         "E",
         "10",
         "GROCERY I",
         "1034",
         "0",
         "1194"
        ],
        [
         "195089",
         "9.0",
         "2013-01-06",
         "41",
         "114800",
         null,
         null,
         null,
         null,
         null,
         "Machala",
         "D",
         "4",
         "PERSONAL CARE",
         "4126",
         "0",
         "1142"
        ],
        [
         "176038",
         "2.0",
         "2013-01-06",
         "11",
         "1113847",
         null,
         null,
         null,
         null,
         null,
         "Cayambe",
         "B",
         "6",
         "DELI",
         "2654",
         "1",
         "3188"
        ],
        [
         "5096",
         "10.0",
         "2013-01-02",
         "5",
         "255161",
         null,
         "93.14",
         null,
         null,
         null,
         "Santo Domingo",
         "D",
         "4",
         "GROCERY I",
         "1034",
         "0",
         "1903"
        ]
       ],
       "shape": {
        "columns": 16,
        "rows": 5
       }
      },
      "text/html": [
       "<div>\n",
       "<style scoped>\n",
       "    .dataframe tbody tr th:only-of-type {\n",
       "        vertical-align: middle;\n",
       "    }\n",
       "\n",
       "    .dataframe tbody tr th {\n",
       "        vertical-align: top;\n",
       "    }\n",
       "\n",
       "    .dataframe thead th {\n",
       "        text-align: right;\n",
       "    }\n",
       "</style>\n",
       "<table border=\"1\" class=\"dataframe\">\n",
       "  <thead>\n",
       "    <tr style=\"text-align: right;\">\n",
       "      <th></th>\n",
       "      <th>unit_sales</th>\n",
       "      <th>train_date</th>\n",
       "      <th>store_nbr</th>\n",
       "      <th>item_nbr</th>\n",
       "      <th>onpromotion</th>\n",
       "      <th>dcoilwtico</th>\n",
       "      <th>holiday_type</th>\n",
       "      <th>locale</th>\n",
       "      <th>transferred</th>\n",
       "      <th>city</th>\n",
       "      <th>store_type</th>\n",
       "      <th>store_cluster</th>\n",
       "      <th>items_family</th>\n",
       "      <th>item_class</th>\n",
       "      <th>perishable_items</th>\n",
       "      <th>transactions</th>\n",
       "    </tr>\n",
       "  </thead>\n",
       "  <tbody>\n",
       "    <tr>\n",
       "      <th>75275</th>\n",
       "      <td>62.0</td>\n",
       "      <td>2013-01-03</td>\n",
       "      <td>46</td>\n",
       "      <td>220435</td>\n",
       "      <td>None</td>\n",
       "      <td>92.97</td>\n",
       "      <td>None</td>\n",
       "      <td>None</td>\n",
       "      <td>NaN</td>\n",
       "      <td>Quito</td>\n",
       "      <td>A</td>\n",
       "      <td>14</td>\n",
       "      <td>GROCERY I</td>\n",
       "      <td>1080</td>\n",
       "      <td>0</td>\n",
       "      <td>3438</td>\n",
       "    </tr>\n",
       "    <tr>\n",
       "      <th>196131</th>\n",
       "      <td>2.0</td>\n",
       "      <td>2013-01-06</td>\n",
       "      <td>43</td>\n",
       "      <td>262991</td>\n",
       "      <td>None</td>\n",
       "      <td>NaN</td>\n",
       "      <td>None</td>\n",
       "      <td>None</td>\n",
       "      <td>NaN</td>\n",
       "      <td>Esmeraldas</td>\n",
       "      <td>E</td>\n",
       "      <td>10</td>\n",
       "      <td>GROCERY I</td>\n",
       "      <td>1034</td>\n",
       "      <td>0</td>\n",
       "      <td>1194</td>\n",
       "    </tr>\n",
       "    <tr>\n",
       "      <th>195089</th>\n",
       "      <td>9.0</td>\n",
       "      <td>2013-01-06</td>\n",
       "      <td>41</td>\n",
       "      <td>114800</td>\n",
       "      <td>None</td>\n",
       "      <td>NaN</td>\n",
       "      <td>None</td>\n",
       "      <td>None</td>\n",
       "      <td>NaN</td>\n",
       "      <td>Machala</td>\n",
       "      <td>D</td>\n",
       "      <td>4</td>\n",
       "      <td>PERSONAL CARE</td>\n",
       "      <td>4126</td>\n",
       "      <td>0</td>\n",
       "      <td>1142</td>\n",
       "    </tr>\n",
       "    <tr>\n",
       "      <th>176038</th>\n",
       "      <td>2.0</td>\n",
       "      <td>2013-01-06</td>\n",
       "      <td>11</td>\n",
       "      <td>1113847</td>\n",
       "      <td>None</td>\n",
       "      <td>NaN</td>\n",
       "      <td>None</td>\n",
       "      <td>None</td>\n",
       "      <td>NaN</td>\n",
       "      <td>Cayambe</td>\n",
       "      <td>B</td>\n",
       "      <td>6</td>\n",
       "      <td>DELI</td>\n",
       "      <td>2654</td>\n",
       "      <td>1</td>\n",
       "      <td>3188</td>\n",
       "    </tr>\n",
       "    <tr>\n",
       "      <th>5096</th>\n",
       "      <td>10.0</td>\n",
       "      <td>2013-01-02</td>\n",
       "      <td>5</td>\n",
       "      <td>255161</td>\n",
       "      <td>None</td>\n",
       "      <td>93.14</td>\n",
       "      <td>None</td>\n",
       "      <td>None</td>\n",
       "      <td>NaN</td>\n",
       "      <td>Santo Domingo</td>\n",
       "      <td>D</td>\n",
       "      <td>4</td>\n",
       "      <td>GROCERY I</td>\n",
       "      <td>1034</td>\n",
       "      <td>0</td>\n",
       "      <td>1903</td>\n",
       "    </tr>\n",
       "  </tbody>\n",
       "</table>\n",
       "</div>"
      ],
      "text/plain": [
       "        unit_sales  train_date  store_nbr  item_nbr onpromotion  dcoilwtico  \\\n",
       "75275         62.0  2013-01-03         46    220435        None       92.97   \n",
       "196131         2.0  2013-01-06         43    262991        None         NaN   \n",
       "195089         9.0  2013-01-06         41    114800        None         NaN   \n",
       "176038         2.0  2013-01-06         11   1113847        None         NaN   \n",
       "5096          10.0  2013-01-02          5    255161        None       93.14   \n",
       "\n",
       "       holiday_type locale  transferred           city store_type  \\\n",
       "75275          None   None          NaN          Quito          A   \n",
       "196131         None   None          NaN     Esmeraldas          E   \n",
       "195089         None   None          NaN        Machala          D   \n",
       "176038         None   None          NaN        Cayambe          B   \n",
       "5096           None   None          NaN  Santo Domingo          D   \n",
       "\n",
       "        store_cluster   items_family  item_class  perishable_items  \\\n",
       "75275              14      GROCERY I        1080                 0   \n",
       "196131             10      GROCERY I        1034                 0   \n",
       "195089              4  PERSONAL CARE        4126                 0   \n",
       "176038              6           DELI        2654                 1   \n",
       "5096                4      GROCERY I        1034                 0   \n",
       "\n",
       "        transactions  \n",
       "75275           3438  \n",
       "196131          1194  \n",
       "195089          1142  \n",
       "176038          3188  \n",
       "5096            1903  "
      ]
     },
     "execution_count": 23,
     "metadata": {},
     "output_type": "execute_result"
    }
   ],
   "source": [
    "df_train_download.sample(5)"
   ]
  },
  {
   "cell_type": "code",
   "execution_count": 24,
   "id": "34e11539",
   "metadata": {},
   "outputs": [
    {
     "data": {
      "text/plain": [
       "(199989, 16)"
      ]
     },
     "execution_count": 24,
     "metadata": {},
     "output_type": "execute_result"
    }
   ],
   "source": [
    "df_train = df_train_download.copy()\n",
    "df_train.shape"
   ]
  },
  {
   "cell_type": "code",
   "execution_count": 25,
   "id": "f8311b59",
   "metadata": {},
   "outputs": [
    {
     "name": "stdout",
     "output_type": "stream",
     "text": [
      "<class 'pandas.core.frame.DataFrame'>\n",
      "RangeIndex: 199989 entries, 0 to 199988\n",
      "Data columns (total 16 columns):\n",
      " #   Column            Non-Null Count   Dtype  \n",
      "---  ------            --------------   -----  \n",
      " 0   unit_sales        199989 non-null  float64\n",
      " 1   train_date        199989 non-null  object \n",
      " 2   store_nbr         199989 non-null  int64  \n",
      " 3   item_nbr          199989 non-null  int64  \n",
      " 4   onpromotion       0 non-null       object \n",
      " 5   dcoilwtico        121814 non-null  float64\n",
      " 6   holiday_type      43111 non-null   object \n",
      " 7   locale            43111 non-null   object \n",
      " 8   transferred       43111 non-null   float64\n",
      " 9   city              199989 non-null  object \n",
      " 10  store_type        199989 non-null  object \n",
      " 11  store_cluster     199989 non-null  int64  \n",
      " 12  items_family      199989 non-null  object \n",
      " 13  item_class        199989 non-null  int64  \n",
      " 14  perishable_items  199989 non-null  int64  \n",
      " 15  transactions      199989 non-null  int64  \n",
      "dtypes: float64(3), int64(6), object(7)\n",
      "memory usage: 24.4+ MB\n"
     ]
    }
   ],
   "source": [
    "df_train.info()"
   ]
  },
  {
   "cell_type": "markdown",
   "id": "59f69b6b",
   "metadata": {},
   "source": [
    "-------------------------------------------------------------------------------"
   ]
  },
  {
   "cell_type": "markdown",
   "id": "1537a114",
   "metadata": {},
   "source": [
    "## Data initial cleaning and EDA"
   ]
  },
  {
   "cell_type": "markdown",
   "id": "fc460795",
   "metadata": {},
   "source": [
    "### df_train['date']"
   ]
  },
  {
   "cell_type": "code",
   "execution_count": 26,
   "id": "d6fabc07",
   "metadata": {},
   "outputs": [],
   "source": [
    "df_train.rename(columns={'train_date': 'date'}, inplace=True)"
   ]
  },
  {
   "cell_type": "code",
   "execution_count": 27,
   "id": "e3f3e217",
   "metadata": {},
   "outputs": [],
   "source": [
    "df_train['date'] = df_train['date'].str.slice(0, 10)  # trims time part\n",
    "df_train['date'] = pd.to_datetime(df_train['date'], errors='coerce')  # convert to datetime\n",
    "df_train.set_index('date', inplace=True)\n",
    "df_train.sort_index(inplace=True)"
   ]
  },
  {
   "cell_type": "code",
   "execution_count": 28,
   "id": "3f777de7",
   "metadata": {},
   "outputs": [],
   "source": [
    "# Remove null dates\n",
    "df_train = df_train[df_train.index.notna()]\n",
    "\n",
    "# Optional: keep index as datetime but normalize\n",
    "df_train.index = pd.to_datetime(df_train.index).normalize()\n",
    "\n",
    "# Sort index\n",
    "df_train.sort_index(inplace=True)\n",
    "\n",
    "df_train.index = df_train.index.date"
   ]
  },
  {
   "cell_type": "markdown",
   "id": "f03db1e8",
   "metadata": {},
   "source": [
    "### df_train['unit_sales']"
   ]
  },
  {
   "cell_type": "markdown",
   "id": "f14661ec",
   "metadata": {},
   "source": [
    "I leave df_train['unit_sales'] as smallest as possible float, because we speak of 0.5 kg of cheese, etc. Not all items are in int numbers"
   ]
  },
  {
   "cell_type": "code",
   "execution_count": 29,
   "id": "ba255e48",
   "metadata": {},
   "outputs": [],
   "source": [
    "df_train['unit_sales'] = pd.to_numeric(df_train['unit_sales'], downcast='float')"
   ]
  },
  {
   "cell_type": "code",
   "execution_count": 30,
   "id": "86efff1e",
   "metadata": {},
   "outputs": [
    {
     "data": {
      "text/plain": [
       "8000"
      ]
     },
     "execution_count": 30,
     "metadata": {},
     "output_type": "execute_result"
    }
   ],
   "source": [
    "df_train['unit_sales'].nunique()"
   ]
  },
  {
   "cell_type": "code",
   "execution_count": 31,
   "id": "6309e6e7",
   "metadata": {},
   "outputs": [
    {
     "data": {
      "application/vnd.microsoft.datawrangler.viewer.v0+json": {
       "columns": [
        {
         "name": "unit_sales",
         "rawType": "float32",
         "type": "float"
        },
        {
         "name": "count",
         "rawType": "int64",
         "type": "integer"
        }
       ],
       "ref": "df602e1a-e894-4437-a960-c7c7ddd815c6",
       "rows": [
        [
         "1.0",
         "28834"
        ],
        [
         "2.0",
         "23720"
        ],
        [
         "3.0",
         "19366"
        ],
        [
         "4.0",
         "15658"
        ],
        [
         "5.0",
         "12922"
        ],
        [
         "6.0",
         "10824"
        ],
        [
         "7.0",
         "9043"
        ],
        [
         "8.0",
         "7561"
        ],
        [
         "9.0",
         "6471"
        ],
        [
         "10.0",
         "5839"
        ],
        [
         "11.0",
         "4787"
        ],
        [
         "12.0",
         "4227"
        ],
        [
         "13.0",
         "3687"
        ],
        [
         "14.0",
         "3151"
        ],
        [
         "15.0",
         "2892"
        ],
        [
         "16.0",
         "2469"
        ],
        [
         "17.0",
         "2256"
        ],
        [
         "18.0",
         "2034"
        ],
        [
         "19.0",
         "1798"
        ],
        [
         "20.0",
         "1680"
        ],
        [
         "21.0",
         "1381"
        ],
        [
         "22.0",
         "1330"
        ],
        [
         "23.0",
         "1235"
        ],
        [
         "24.0",
         "1172"
        ],
        [
         "25.0",
         "1065"
        ],
        [
         "26.0",
         "886"
        ],
        [
         "27.0",
         "829"
        ],
        [
         "28.0",
         "794"
        ],
        [
         "30.0",
         "730"
        ],
        [
         "29.0",
         "669"
        ],
        [
         "31.0",
         "594"
        ],
        [
         "32.0",
         "593"
        ],
        [
         "33.0",
         "537"
        ],
        [
         "34.0",
         "518"
        ],
        [
         "35.0",
         "449"
        ],
        [
         "37.0",
         "435"
        ],
        [
         "36.0",
         "427"
        ],
        [
         "39.0",
         "350"
        ],
        [
         "40.0",
         "341"
        ],
        [
         "38.0",
         "338"
        ],
        [
         "41.0",
         "305"
        ],
        [
         "42.0",
         "297"
        ],
        [
         "43.0",
         "261"
        ],
        [
         "46.0",
         "250"
        ],
        [
         "45.0",
         "238"
        ],
        [
         "44.0",
         "233"
        ],
        [
         "47.0",
         "228"
        ],
        [
         "48.0",
         "209"
        ],
        [
         "49.0",
         "205"
        ],
        [
         "52.0",
         "191"
        ]
       ],
       "shape": {
        "columns": 1,
        "rows": 8000
       }
      },
      "text/plain": [
       "unit_sales\n",
       "1.000     28834\n",
       "2.000     23720\n",
       "3.000     19366\n",
       "4.000     15658\n",
       "5.000     12922\n",
       "          ...  \n",
       "15.207        1\n",
       "10.324        1\n",
       "5.728         1\n",
       "4.053         1\n",
       "20.465        1\n",
       "Name: count, Length: 8000, dtype: int64"
      ]
     },
     "execution_count": 31,
     "metadata": {},
     "output_type": "execute_result"
    }
   ],
   "source": [
    "df_train['unit_sales'].value_counts()"
   ]
  },
  {
   "cell_type": "markdown",
   "id": "f4164e4e",
   "metadata": {},
   "source": [
    "### df_train['store_nbr'] - should be as object, as it's store_id rather than math-info"
   ]
  },
  {
   "cell_type": "code",
   "execution_count": 32,
   "id": "ddb3d629",
   "metadata": {},
   "outputs": [],
   "source": [
    "df_train['store_nbr'] = df_train['store_nbr'].astype('object')"
   ]
  },
  {
   "cell_type": "code",
   "execution_count": 33,
   "id": "dd015897",
   "metadata": {},
   "outputs": [
    {
     "data": {
      "text/plain": [
       "46"
      ]
     },
     "execution_count": 33,
     "metadata": {},
     "output_type": "execute_result"
    }
   ],
   "source": [
    "df_train['store_nbr'].nunique()"
   ]
  },
  {
   "cell_type": "code",
   "execution_count": 34,
   "id": "334a7ae1",
   "metadata": {},
   "outputs": [
    {
     "data": {
      "application/vnd.microsoft.datawrangler.viewer.v0+json": {
       "columns": [
        {
         "name": "store_nbr",
         "rawType": "object",
         "type": "unknown"
        },
        {
         "name": "count",
         "rawType": "int64",
         "type": "integer"
        }
       ],
       "ref": "9bb4060b-590a-4943-beb6-447b6d355be5",
       "rows": [
        [
         "44",
         "6227"
        ],
        [
         "45",
         "6142"
        ],
        [
         "3",
         "6001"
        ],
        [
         "8",
         "5849"
        ],
        [
         "6",
         "5637"
        ],
        [
         "46",
         "5567"
        ],
        [
         "2",
         "5433"
        ],
        [
         "37",
         "5257"
        ],
        [
         "4",
         "5248"
        ],
        [
         "7",
         "5174"
        ],
        [
         "5",
         "5137"
        ],
        [
         "24",
         "5102"
        ],
        [
         "38",
         "5021"
        ],
        [
         "9",
         "4991"
        ],
        [
         "47",
         "4864"
        ],
        [
         "11",
         "4686"
        ],
        [
         "39",
         "4684"
        ],
        [
         "1",
         "4594"
        ],
        [
         "23",
         "4592"
        ],
        [
         "27",
         "4581"
        ],
        [
         "50",
         "4534"
        ],
        [
         "48",
         "4522"
        ],
        [
         "49",
         "4517"
        ],
        [
         "25",
         "4481"
        ],
        [
         "18",
         "4397"
        ],
        [
         "41",
         "4372"
        ],
        [
         "51",
         "4260"
        ],
        [
         "34",
         "4104"
        ],
        [
         "28",
         "4079"
        ],
        [
         "31",
         "4022"
        ],
        [
         "26",
         "3837"
        ],
        [
         "17",
         "3687"
        ],
        [
         "16",
         "3571"
        ],
        [
         "15",
         "3548"
        ],
        [
         "12",
         "3526"
        ],
        [
         "33",
         "3507"
        ],
        [
         "14",
         "3412"
        ],
        [
         "40",
         "3341"
        ],
        [
         "10",
         "3307"
        ],
        [
         "13",
         "3250"
        ],
        [
         "19",
         "3175"
        ],
        [
         "43",
         "3116"
        ],
        [
         "30",
         "2874"
        ],
        [
         "35",
         "2777"
        ],
        [
         "32",
         "2589"
        ],
        [
         "54",
         "2397"
        ]
       ],
       "shape": {
        "columns": 1,
        "rows": 46
       }
      },
      "text/plain": [
       "store_nbr\n",
       "44    6227\n",
       "45    6142\n",
       "3     6001\n",
       "8     5849\n",
       "6     5637\n",
       "46    5567\n",
       "2     5433\n",
       "37    5257\n",
       "4     5248\n",
       "7     5174\n",
       "5     5137\n",
       "24    5102\n",
       "38    5021\n",
       "9     4991\n",
       "47    4864\n",
       "11    4686\n",
       "39    4684\n",
       "1     4594\n",
       "23    4592\n",
       "27    4581\n",
       "50    4534\n",
       "48    4522\n",
       "49    4517\n",
       "25    4481\n",
       "18    4397\n",
       "41    4372\n",
       "51    4260\n",
       "34    4104\n",
       "28    4079\n",
       "31    4022\n",
       "26    3837\n",
       "17    3687\n",
       "16    3571\n",
       "15    3548\n",
       "12    3526\n",
       "33    3507\n",
       "14    3412\n",
       "40    3341\n",
       "10    3307\n",
       "13    3250\n",
       "19    3175\n",
       "43    3116\n",
       "30    2874\n",
       "35    2777\n",
       "32    2589\n",
       "54    2397\n",
       "Name: count, dtype: int64"
      ]
     },
     "execution_count": 34,
     "metadata": {},
     "output_type": "execute_result"
    }
   ],
   "source": [
    "df_train['store_nbr'].value_counts() # the count number means - how many times this exact store is appeared in my data-sample"
   ]
  },
  {
   "cell_type": "markdown",
   "id": "d916982e",
   "metadata": {},
   "source": [
    "### df_train['item_nbr'] - absolutely the same as df_train['store_nbr'], it should be as object"
   ]
  },
  {
   "cell_type": "code",
   "execution_count": 35,
   "id": "24b99554",
   "metadata": {},
   "outputs": [
    {
     "data": {
      "text/plain": [
       "1601"
      ]
     },
     "execution_count": 35,
     "metadata": {},
     "output_type": "execute_result"
    }
   ],
   "source": [
    "df_train['item_nbr'] = df_train['item_nbr'].astype('object')\n",
    "df_train['item_nbr'].nunique()"
   ]
  },
  {
   "cell_type": "code",
   "execution_count": 36,
   "id": "8a633e84",
   "metadata": {},
   "outputs": [
    {
     "data": {
      "application/vnd.microsoft.datawrangler.viewer.v0+json": {
       "columns": [
        {
         "name": "item_nbr",
         "rawType": "object",
         "type": "unknown"
        },
        {
         "name": "count",
         "rawType": "int64",
         "type": "integer"
        }
       ],
       "ref": "c9430109-38c2-49f6-9bc2-b3c229ccbaab",
       "rows": [
        [
         "564533",
         "225"
        ],
        [
         "759893",
         "225"
        ],
        [
         "222879",
         "225"
        ],
        [
         "559870",
         "225"
        ],
        [
         "314384",
         "225"
        ],
        [
         "261052",
         "224"
        ],
        [
         "265559",
         "224"
        ],
        [
         "414750",
         "224"
        ],
        [
         "839363",
         "224"
        ],
        [
         "1047679",
         "224"
        ],
        [
         "587069",
         "224"
        ],
        [
         "502331",
         "224"
        ],
        [
         "273528",
         "223"
        ],
        [
         "839362",
         "223"
        ],
        [
         "870544",
         "222"
        ],
        [
         "870545",
         "222"
        ],
        [
         "841842",
         "222"
        ],
        [
         "258396",
         "222"
        ],
        [
         "850333",
         "222"
        ],
        [
         "807493",
         "222"
        ],
        [
         "116017",
         "221"
        ],
        [
         "115267",
         "221"
        ],
        [
         "323921",
         "221"
        ],
        [
         "510054",
         "221"
        ],
        [
         "801217",
         "221"
        ],
        [
         "265254",
         "221"
        ],
        [
         "759651",
         "221"
        ],
        [
         "648313",
         "221"
        ],
        [
         "214381",
         "220"
        ],
        [
         "862454",
         "220"
        ],
        [
         "1047790",
         "220"
        ],
        [
         "315474",
         "219"
        ],
        [
         "581078",
         "219"
        ],
        [
         "911871",
         "219"
        ],
        [
         "507870",
         "219"
        ],
        [
         "1070962",
         "219"
        ],
        [
         "371438",
         "219"
        ],
        [
         "364606",
         "219"
        ],
        [
         "564534",
         "219"
        ],
        [
         "323013",
         "218"
        ],
        [
         "877513",
         "218"
        ],
        [
         "1057033",
         "218"
        ],
        [
         "847863",
         "218"
        ],
        [
         "119624",
         "218"
        ],
        [
         "368624",
         "218"
        ],
        [
         "850460",
         "218"
        ],
        [
         "1037845",
         "218"
        ],
        [
         "265279",
         "217"
        ],
        [
         "265237",
         "217"
        ],
        [
         "828204",
         "217"
        ]
       ],
       "shape": {
        "columns": 1,
        "rows": 1601
       }
      },
      "text/plain": [
       "item_nbr\n",
       "564533     225\n",
       "759893     225\n",
       "222879     225\n",
       "559870     225\n",
       "314384     225\n",
       "          ... \n",
       "1084365      2\n",
       "946277       1\n",
       "586423       1\n",
       "464112       1\n",
       "96995        1\n",
       "Name: count, Length: 1601, dtype: int64"
      ]
     },
     "execution_count": 36,
     "metadata": {},
     "output_type": "execute_result"
    }
   ],
   "source": [
    "df_train['item_nbr'].value_counts() "
   ]
  },
  {
   "cell_type": "markdown",
   "id": "dfc8f351",
   "metadata": {},
   "source": [
    "### df_train['onpromotion'] - should as type boolean"
   ]
  },
  {
   "cell_type": "code",
   "execution_count": 37,
   "id": "c536f696",
   "metadata": {},
   "outputs": [
    {
     "data": {
      "application/vnd.microsoft.datawrangler.viewer.v0+json": {
       "columns": [
        {
         "name": "onpromotion",
         "rawType": "bool",
         "type": "boolean"
        },
        {
         "name": "count",
         "rawType": "int64",
         "type": "integer"
        }
       ],
       "ref": "1202e57d-8a93-4694-9b70-4e3b8132f7ed",
       "rows": [
        [
         "False",
         "199989"
        ]
       ],
       "shape": {
        "columns": 1,
        "rows": 1
       }
      },
      "text/plain": [
       "onpromotion\n",
       "False    199989\n",
       "Name: count, dtype: int64"
      ]
     },
     "execution_count": 37,
     "metadata": {},
     "output_type": "execute_result"
    }
   ],
   "source": [
    "df_train['onpromotion'] = df_train['onpromotion'].astype('bool')\n",
    "df_train['onpromotion'].value_counts()"
   ]
  },
  {
   "cell_type": "markdown",
   "id": "52d9a93d",
   "metadata": {},
   "source": [
    "### df_train['dcoilwtico'] - for clarity, I'll rename it into \"oil_price\""
   ]
  },
  {
   "cell_type": "code",
   "execution_count": 38,
   "id": "5487eaca",
   "metadata": {},
   "outputs": [],
   "source": [
    "df_train.rename(columns={'dcoilwtico': 'oil_price'}, inplace=True)"
   ]
  },
  {
   "cell_type": "code",
   "execution_count": 39,
   "id": "f9fcbe8c",
   "metadata": {},
   "outputs": [],
   "source": [
    "# Round to two decimal places\n",
    "df_train['oil_price'] = df_train['oil_price'].round(2)\n",
    "\n",
    "# Downcast to the smallest float type (float16 if possible)\n",
    "df_train['oil_price'] = pd.to_numeric(df_train['oil_price'], downcast='float')"
   ]
  },
  {
   "cell_type": "markdown",
   "id": "630839da",
   "metadata": {},
   "source": [
    "### df_train['holiday_type']"
   ]
  },
  {
   "cell_type": "code",
   "execution_count": 40,
   "id": "f018f452",
   "metadata": {},
   "outputs": [
    {
     "data": {
      "text/plain": [
       "2"
      ]
     },
     "execution_count": 40,
     "metadata": {},
     "output_type": "execute_result"
    }
   ],
   "source": [
    "df_train['holiday_type'].nunique()"
   ]
  },
  {
   "cell_type": "code",
   "execution_count": 41,
   "id": "ee2c67f6",
   "metadata": {},
   "outputs": [
    {
     "data": {
      "application/vnd.microsoft.datawrangler.viewer.v0+json": {
       "columns": [
        {
         "name": "holiday_type",
         "rawType": "category",
         "type": "unknown"
        },
        {
         "name": "count",
         "rawType": "int64",
         "type": "integer"
        }
       ],
       "ref": "3cc9e38e-14cc-4979-a699-a059e229b622",
       "rows": [
        [
         "Work Day",
         "42533"
        ],
        [
         "Holiday",
         "578"
        ]
       ],
       "shape": {
        "columns": 1,
        "rows": 2
       }
      },
      "text/plain": [
       "holiday_type\n",
       "Work Day    42533\n",
       "Holiday       578\n",
       "Name: count, dtype: int64"
      ]
     },
     "execution_count": 41,
     "metadata": {},
     "output_type": "execute_result"
    }
   ],
   "source": [
    "df_train['holiday_type'] = df_train['holiday_type'].astype('category')\n",
    "df_train['holiday_type'].value_counts()"
   ]
  },
  {
   "cell_type": "markdown",
   "id": "e437f9d5",
   "metadata": {},
   "source": [
    "### df_train['locale']"
   ]
  },
  {
   "cell_type": "code",
   "execution_count": 42,
   "id": "a5c71e50",
   "metadata": {},
   "outputs": [
    {
     "data": {
      "text/plain": [
       "1"
      ]
     },
     "execution_count": 42,
     "metadata": {},
     "output_type": "execute_result"
    }
   ],
   "source": [
    "df_train['locale'].nunique()"
   ]
  },
  {
   "cell_type": "code",
   "execution_count": 43,
   "id": "4446d1ae",
   "metadata": {},
   "outputs": [
    {
     "data": {
      "application/vnd.microsoft.datawrangler.viewer.v0+json": {
       "columns": [
        {
         "name": "locale",
         "rawType": "category",
         "type": "unknown"
        },
        {
         "name": "count",
         "rawType": "int64",
         "type": "integer"
        }
       ],
       "ref": "7eaece43-c0a8-4735-80e2-253010c7038d",
       "rows": [
        [
         "National",
         "43111"
        ]
       ],
       "shape": {
        "columns": 1,
        "rows": 1
       }
      },
      "text/plain": [
       "locale\n",
       "National    43111\n",
       "Name: count, dtype: int64"
      ]
     },
     "execution_count": 43,
     "metadata": {},
     "output_type": "execute_result"
    }
   ],
   "source": [
    "df_train['locale'] = df_train['locale'].astype('category')\n",
    "df_train['locale'].value_counts()"
   ]
  },
  {
   "cell_type": "markdown",
   "id": "85689975",
   "metadata": {},
   "source": [
    "### df_train['transferred']"
   ]
  },
  {
   "cell_type": "code",
   "execution_count": 44,
   "id": "24cb3d6c",
   "metadata": {},
   "outputs": [
    {
     "data": {
      "text/plain": [
       "1"
      ]
     },
     "execution_count": 44,
     "metadata": {},
     "output_type": "execute_result"
    }
   ],
   "source": [
    "df_train['transferred'].nunique()"
   ]
  },
  {
   "cell_type": "code",
   "execution_count": 45,
   "id": "002d7553",
   "metadata": {},
   "outputs": [
    {
     "data": {
      "application/vnd.microsoft.datawrangler.viewer.v0+json": {
       "columns": [
        {
         "name": "transferred",
         "rawType": "bool",
         "type": "boolean"
        },
        {
         "name": "count",
         "rawType": "int64",
         "type": "integer"
        }
       ],
       "ref": "6dcba456-24fd-4b89-ab9f-cc960a82bbc0",
       "rows": [
        [
         "True",
         "156878"
        ],
        [
         "False",
         "43111"
        ]
       ],
       "shape": {
        "columns": 1,
        "rows": 2
       }
      },
      "text/plain": [
       "transferred\n",
       "True     156878\n",
       "False     43111\n",
       "Name: count, dtype: int64"
      ]
     },
     "execution_count": 45,
     "metadata": {},
     "output_type": "execute_result"
    }
   ],
   "source": [
    "df_train['transferred'] = df_train['transferred'].astype('bool')\n",
    "df_train['transferred'].value_counts()"
   ]
  },
  {
   "cell_type": "markdown",
   "id": "08f6f15b",
   "metadata": {},
   "source": [
    "### df_train['city']"
   ]
  },
  {
   "cell_type": "code",
   "execution_count": 46,
   "id": "2ce98ddd",
   "metadata": {},
   "outputs": [
    {
     "data": {
      "text/plain": [
       "19"
      ]
     },
     "execution_count": 46,
     "metadata": {},
     "output_type": "execute_result"
    }
   ],
   "source": [
    "df_train['city'].nunique()"
   ]
  },
  {
   "cell_type": "code",
   "execution_count": 47,
   "id": "d844f63c",
   "metadata": {},
   "outputs": [
    {
     "data": {
      "application/vnd.microsoft.datawrangler.viewer.v0+json": {
       "columns": [
        {
         "name": "city",
         "rawType": "category",
         "type": "unknown"
        },
        {
         "name": "count",
         "rawType": "int64",
         "type": "integer"
        }
       ],
       "ref": "db6a0814-ce50-4d67-9c3e-f2b742772592",
       "rows": [
        [
         "Quito",
         "86157"
        ],
        [
         "Guayaquil",
         "26845"
        ],
        [
         "Cuenca",
         "9941"
        ],
        [
         "Ambato",
         "9126"
        ],
        [
         "Santo Domingo",
         "8708"
        ],
        [
         "Machala",
         "7713"
        ],
        [
         "Latacunga",
         "6776"
        ],
        [
         "Loja",
         "5021"
        ],
        [
         "Cayambe",
         "4686"
        ],
        [
         "Daule",
         "4581"
        ],
        [
         "Salinas",
         "4481"
        ],
        [
         "Babahoyo",
         "4022"
        ],
        [
         "Ibarra",
         "3548"
        ],
        [
         "Quevedo",
         "3507"
        ],
        [
         "Riobamba",
         "3412"
        ],
        [
         "Guaranda",
         "3175"
        ],
        [
         "Esmeraldas",
         "3116"
        ],
        [
         "Playas",
         "2777"
        ],
        [
         "El Carmen",
         "2397"
        ]
       ],
       "shape": {
        "columns": 1,
        "rows": 19
       }
      },
      "text/plain": [
       "city\n",
       "Quito            86157\n",
       "Guayaquil        26845\n",
       "Cuenca            9941\n",
       "Ambato            9126\n",
       "Santo Domingo     8708\n",
       "Machala           7713\n",
       "Latacunga         6776\n",
       "Loja              5021\n",
       "Cayambe           4686\n",
       "Daule             4581\n",
       "Salinas           4481\n",
       "Babahoyo          4022\n",
       "Ibarra            3548\n",
       "Quevedo           3507\n",
       "Riobamba          3412\n",
       "Guaranda          3175\n",
       "Esmeraldas        3116\n",
       "Playas            2777\n",
       "El Carmen         2397\n",
       "Name: count, dtype: int64"
      ]
     },
     "execution_count": 47,
     "metadata": {},
     "output_type": "execute_result"
    }
   ],
   "source": [
    "df_train['city'] = df_train['city'].astype('category')\n",
    "df_train['city'].value_counts()"
   ]
  },
  {
   "cell_type": "markdown",
   "id": "de29f3fe",
   "metadata": {},
   "source": [
    "### df_train['store_type']"
   ]
  },
  {
   "cell_type": "code",
   "execution_count": 48,
   "id": "0113df6b",
   "metadata": {},
   "outputs": [
    {
     "data": {
      "text/plain": [
       "5"
      ]
     },
     "execution_count": 48,
     "metadata": {},
     "output_type": "execute_result"
    }
   ],
   "source": [
    "df_train['store_type'].nunique()"
   ]
  },
  {
   "cell_type": "code",
   "execution_count": 49,
   "id": "9f8df94c",
   "metadata": {},
   "outputs": [
    {
     "data": {
      "application/vnd.microsoft.datawrangler.viewer.v0+json": {
       "columns": [
        {
         "name": "store_type",
         "rawType": "category",
         "type": "unknown"
        },
        {
         "name": "count",
         "rawType": "int64",
         "type": "integer"
        }
       ],
       "ref": "eeb9aa40-eec7-47b2-bd82-aa94fa608cd0",
       "rows": [
        [
         "D",
         "80316"
        ],
        [
         "C",
         "44961"
        ],
        [
         "A",
         "40633"
        ],
        [
         "B",
         "26884"
        ],
        [
         "E",
         "7195"
        ]
       ],
       "shape": {
        "columns": 1,
        "rows": 5
       }
      },
      "text/plain": [
       "store_type\n",
       "D    80316\n",
       "C    44961\n",
       "A    40633\n",
       "B    26884\n",
       "E     7195\n",
       "Name: count, dtype: int64"
      ]
     },
     "execution_count": 49,
     "metadata": {},
     "output_type": "execute_result"
    }
   ],
   "source": [
    "df_train['store_type'] = df_train['store_type'].astype('category')\n",
    "df_train['store_type'].value_counts()"
   ]
  },
  {
   "cell_type": "markdown",
   "id": "92eba4fe",
   "metadata": {},
   "source": [
    "df_train['store_type'] column:\n",
    "\n",
    "Encodes different store formats or sizes (A, B, C, D, E, etc.)\n",
    "The exact meaning isn’t public, but likely represents market segments\n",
    "(e.g., A = large urban store, D = small local market, etc.)"
   ]
  },
  {
   "cell_type": "markdown",
   "id": "690eaa91",
   "metadata": {},
   "source": [
    "### df_train['store_cluster']"
   ]
  },
  {
   "cell_type": "code",
   "execution_count": 50,
   "id": "d78430cb",
   "metadata": {},
   "outputs": [
    {
     "data": {
      "text/plain": [
       "17"
      ]
     },
     "execution_count": 50,
     "metadata": {},
     "output_type": "execute_result"
    }
   ],
   "source": [
    "df_train['store_cluster'].nunique()"
   ]
  },
  {
   "cell_type": "code",
   "execution_count": 51,
   "id": "bb3aca12",
   "metadata": {},
   "outputs": [
    {
     "data": {
      "application/vnd.microsoft.datawrangler.viewer.v0+json": {
       "columns": [
        {
         "name": "store_cluster",
         "rawType": "category",
         "type": "unknown"
        },
        {
         "name": "count",
         "rawType": "int64",
         "type": "integer"
        }
       ],
       "ref": "e081d365-cb72-43b8-ade3-88289193ea2e",
       "rows": [
        [
         "3",
         "21056"
        ],
        [
         "14",
         "19487"
        ],
        [
         "6",
         "18465"
        ],
        [
         "8",
         "17024"
        ],
        [
         "15",
         "16806"
        ],
        [
         "13",
         "15664"
        ],
        [
         "10",
         "15054"
        ],
        [
         "4",
         "14530"
        ],
        [
         "1",
         "14164"
        ],
        [
         "11",
         "10659"
        ],
        [
         "9",
         "9840"
        ],
        [
         "5",
         "6227"
        ],
        [
         "2",
         "5257"
        ],
        [
         "16",
         "4397"
        ],
        [
         "17",
         "4260"
        ],
        [
         "12",
         "3687"
        ],
        [
         "7",
         "3412"
        ]
       ],
       "shape": {
        "columns": 1,
        "rows": 17
       }
      },
      "text/plain": [
       "store_cluster\n",
       "3     21056\n",
       "14    19487\n",
       "6     18465\n",
       "8     17024\n",
       "15    16806\n",
       "13    15664\n",
       "10    15054\n",
       "4     14530\n",
       "1     14164\n",
       "11    10659\n",
       "9      9840\n",
       "5      6227\n",
       "2      5257\n",
       "16     4397\n",
       "17     4260\n",
       "12     3687\n",
       "7      3412\n",
       "Name: count, dtype: int64"
      ]
     },
     "execution_count": 51,
     "metadata": {},
     "output_type": "execute_result"
    }
   ],
   "source": [
    "df_train['store_cluster'] = df_train['store_cluster'].astype('category')\n",
    "df_train['store_cluster'].value_counts()"
   ]
  },
  {
   "cell_type": "markdown",
   "id": "be449b66",
   "metadata": {},
   "source": [
    "### df_train['items_family']"
   ]
  },
  {
   "cell_type": "code",
   "execution_count": 52,
   "id": "b066309a",
   "metadata": {},
   "outputs": [
    {
     "data": {
      "text/plain": [
       "21"
      ]
     },
     "execution_count": 52,
     "metadata": {},
     "output_type": "execute_result"
    }
   ],
   "source": [
    "df_train['items_family'].nunique()"
   ]
  },
  {
   "cell_type": "code",
   "execution_count": 53,
   "id": "4f1dc53c",
   "metadata": {},
   "outputs": [
    {
     "data": {
      "application/vnd.microsoft.datawrangler.viewer.v0+json": {
       "columns": [
        {
         "name": "items_family",
         "rawType": "category",
         "type": "unknown"
        },
        {
         "name": "count",
         "rawType": "int64",
         "type": "integer"
        }
       ],
       "ref": "82d9759c-7454-4b67-bd98-2041b7e12fe9",
       "rows": [
        [
         "GROCERY I",
         "85978"
        ],
        [
         "CLEANING",
         "38662"
        ],
        [
         "BEVERAGES",
         "18298"
        ],
        [
         "DAIRY",
         "10988"
        ],
        [
         "DELI",
         "9459"
        ],
        [
         "BREAD/BAKERY",
         "8842"
        ],
        [
         "PERSONAL CARE",
         "6400"
        ],
        [
         "MEATS",
         "6021"
        ],
        [
         "EGGS",
         "3775"
        ],
        [
         "FROZEN FOODS",
         "2845"
        ],
        [
         "LIQUOR,WINE,BEER",
         "2006"
        ],
        [
         "PREPARED FOODS",
         "1721"
        ],
        [
         "POULTRY",
         "1507"
        ],
        [
         "LINGERIE",
         "825"
        ],
        [
         "GROCERY II",
         "712"
        ],
        [
         "AUTOMOTIVE",
         "671"
        ],
        [
         "SEAFOOD",
         "533"
        ],
        [
         "BEAUTY",
         "356"
        ],
        [
         "HARDWARE",
         "181"
        ],
        [
         "LAWN AND GARDEN",
         "171"
        ],
        [
         "HOME APPLIANCES",
         "38"
        ]
       ],
       "shape": {
        "columns": 1,
        "rows": 21
       }
      },
      "text/plain": [
       "items_family\n",
       "GROCERY I           85978\n",
       "CLEANING            38662\n",
       "BEVERAGES           18298\n",
       "DAIRY               10988\n",
       "DELI                 9459\n",
       "BREAD/BAKERY         8842\n",
       "PERSONAL CARE        6400\n",
       "MEATS                6021\n",
       "EGGS                 3775\n",
       "FROZEN FOODS         2845\n",
       "LIQUOR,WINE,BEER     2006\n",
       "PREPARED FOODS       1721\n",
       "POULTRY              1507\n",
       "LINGERIE              825\n",
       "GROCERY II            712\n",
       "AUTOMOTIVE            671\n",
       "SEAFOOD               533\n",
       "BEAUTY                356\n",
       "HARDWARE              181\n",
       "LAWN AND GARDEN       171\n",
       "HOME APPLIANCES        38\n",
       "Name: count, dtype: int64"
      ]
     },
     "execution_count": 53,
     "metadata": {},
     "output_type": "execute_result"
    }
   ],
   "source": [
    "df_train['items_family'] = df_train['items_family'].astype('category')\n",
    "df_train['items_family'].value_counts()"
   ]
  },
  {
   "cell_type": "markdown",
   "id": "ca1c5845",
   "metadata": {},
   "source": [
    "### df_train['item_class']"
   ]
  },
  {
   "cell_type": "code",
   "execution_count": 54,
   "id": "9df2cedb",
   "metadata": {},
   "outputs": [
    {
     "data": {
      "text/plain": [
       "176"
      ]
     },
     "execution_count": 54,
     "metadata": {},
     "output_type": "execute_result"
    }
   ],
   "source": [
    "df_train['item_class'].nunique()"
   ]
  },
  {
   "cell_type": "code",
   "execution_count": 55,
   "id": "e3c7a49e",
   "metadata": {},
   "outputs": [
    {
     "data": {
      "application/vnd.microsoft.datawrangler.viewer.v0+json": {
       "columns": [
        {
         "name": "item_class",
         "rawType": "object",
         "type": "unknown"
        },
        {
         "name": "count",
         "rawType": "int64",
         "type": "integer"
        }
       ],
       "ref": "8ac4faeb-2459-4372-b2ff-a2d84e622969",
       "rows": [
        [
         "1072",
         "6971"
        ],
        [
         "1040",
         "6395"
        ],
        [
         "1016",
         "6010"
        ],
        [
         "1122",
         "5841"
        ],
        [
         "3020",
         "5416"
        ],
        [
         "1034",
         "5286"
        ],
        [
         "1032",
         "5055"
        ],
        [
         "1124",
         "4847"
        ],
        [
         "2302",
         "4199"
        ],
        [
         "1004",
         "4169"
        ],
        [
         "3034",
         "3765"
        ],
        [
         "3026",
         "3662"
        ],
        [
         "4126",
         "3654"
        ],
        [
         "2502",
         "3601"
        ],
        [
         "1042",
         "3510"
        ],
        [
         "1062",
         "3464"
        ],
        [
         "1120",
         "3406"
        ],
        [
         "3046",
         "3342"
        ],
        [
         "3032",
         "3236"
        ],
        [
         "1045",
         "2904"
        ],
        [
         "1026",
         "2739"
        ],
        [
         "2124",
         "2736"
        ],
        [
         "4114",
         "2613"
        ],
        [
         "2644",
         "2577"
        ],
        [
         "1044",
         "2545"
        ],
        [
         "1074",
         "2450"
        ],
        [
         "1126",
         "2427"
        ],
        [
         "1084",
         "2416"
        ],
        [
         "3038",
         "2384"
        ],
        [
         "3004",
         "2161"
        ],
        [
         "2116",
         "2157"
        ],
        [
         "1048",
         "2140"
        ],
        [
         "1058",
         "2129"
        ],
        [
         "1014",
         "2115"
        ],
        [
         "1002",
         "2113"
        ],
        [
         "2636",
         "2048"
        ],
        [
         "1028",
         "2004"
        ],
        [
         "1010",
         "1973"
        ],
        [
         "2708",
         "1922"
        ],
        [
         "1096",
         "1890"
        ],
        [
         "2632",
         "1860"
        ],
        [
         "3024",
         "1829"
        ],
        [
         "3016",
         "1822"
        ],
        [
         "1030",
         "1799"
        ],
        [
         "3044",
         "1784"
        ],
        [
         "2718",
         "1763"
        ],
        [
         "1088",
         "1716"
        ],
        [
         "1036",
         "1564"
        ],
        [
         "2416",
         "1419"
        ],
        [
         "3022",
         "1377"
        ]
       ],
       "shape": {
        "columns": 1,
        "rows": 176
       }
      },
      "text/plain": [
       "item_class\n",
       "1072    6971\n",
       "1040    6395\n",
       "1016    6010\n",
       "1122    5841\n",
       "3020    5416\n",
       "        ... \n",
       "1338      24\n",
       "1380      18\n",
       "1033      14\n",
       "2242      12\n",
       "1093       1\n",
       "Name: count, Length: 176, dtype: int64"
      ]
     },
     "execution_count": 55,
     "metadata": {},
     "output_type": "execute_result"
    }
   ],
   "source": [
    "df_train['item_class'] = df_train['item_class'].astype('object')\n",
    "df_train['item_class'].value_counts()"
   ]
  },
  {
   "cell_type": "markdown",
   "id": "1a14fd71",
   "metadata": {},
   "source": [
    "### df_train['perishable_items']"
   ]
  },
  {
   "cell_type": "code",
   "execution_count": 56,
   "id": "06a06e76",
   "metadata": {},
   "outputs": [
    {
     "data": {
      "text/plain": [
       "2"
      ]
     },
     "execution_count": 56,
     "metadata": {},
     "output_type": "execute_result"
    }
   ],
   "source": [
    "df_train['perishable_items'].nunique()"
   ]
  },
  {
   "cell_type": "code",
   "execution_count": 57,
   "id": "025a62e6",
   "metadata": {},
   "outputs": [
    {
     "data": {
      "application/vnd.microsoft.datawrangler.viewer.v0+json": {
       "columns": [
        {
         "name": "perishable_items",
         "rawType": "bool",
         "type": "boolean"
        },
        {
         "name": "count",
         "rawType": "int64",
         "type": "integer"
        }
       ],
       "ref": "1930a902-d70d-4c01-8d2b-3e51aae08c51",
       "rows": [
        [
         "False",
         "157143"
        ],
        [
         "True",
         "42846"
        ]
       ],
       "shape": {
        "columns": 1,
        "rows": 2
       }
      },
      "text/plain": [
       "perishable_items\n",
       "False    157143\n",
       "True      42846\n",
       "Name: count, dtype: int64"
      ]
     },
     "execution_count": 57,
     "metadata": {},
     "output_type": "execute_result"
    }
   ],
   "source": [
    "df_train['perishable_items'] = df_train['perishable_items'].astype('bool')\n",
    "df_train['perishable_items'].value_counts()"
   ]
  },
  {
   "cell_type": "markdown",
   "id": "fe94bc6c",
   "metadata": {},
   "source": [
    "### df_train['transactions']"
   ]
  },
  {
   "cell_type": "code",
   "execution_count": 58,
   "id": "98ad8dd3",
   "metadata": {},
   "outputs": [],
   "source": [
    "df_train['transactions'] = pd.to_numeric(df_train['transactions'], downcast='integer')"
   ]
  },
  {
   "cell_type": "code",
   "execution_count": 59,
   "id": "19649293",
   "metadata": {},
   "outputs": [
    {
     "data": {
      "application/vnd.microsoft.datawrangler.viewer.v0+json": {
       "columns": [
        {
         "name": "index",
         "rawType": "object",
         "type": "unknown"
        },
        {
         "name": "unit_sales",
         "rawType": "float32",
         "type": "float"
        },
        {
         "name": "store_nbr",
         "rawType": "object",
         "type": "unknown"
        },
        {
         "name": "item_nbr",
         "rawType": "object",
         "type": "unknown"
        },
        {
         "name": "onpromotion",
         "rawType": "bool",
         "type": "boolean"
        },
        {
         "name": "oil_price",
         "rawType": "float32",
         "type": "float"
        },
        {
         "name": "holiday_type",
         "rawType": "category",
         "type": "unknown"
        },
        {
         "name": "locale",
         "rawType": "category",
         "type": "unknown"
        },
        {
         "name": "transferred",
         "rawType": "bool",
         "type": "boolean"
        },
        {
         "name": "city",
         "rawType": "category",
         "type": "unknown"
        },
        {
         "name": "store_type",
         "rawType": "category",
         "type": "unknown"
        },
        {
         "name": "store_cluster",
         "rawType": "category",
         "type": "unknown"
        },
        {
         "name": "items_family",
         "rawType": "category",
         "type": "unknown"
        },
        {
         "name": "item_class",
         "rawType": "object",
         "type": "unknown"
        },
        {
         "name": "perishable_items",
         "rawType": "bool",
         "type": "boolean"
        },
        {
         "name": "transactions",
         "rawType": "int16",
         "type": "integer"
        }
       ],
       "ref": "8c5f169d-8c02-4020-9dfb-2d5f8b3512b7",
       "rows": [
        [
         "2013-01-06",
         "35.0",
         "31",
         "257847",
         "False",
         null,
         null,
         null,
         "True",
         "Babahoyo",
         "B",
         "10",
         "BEVERAGES",
         "1120",
         "False",
         "1468"
        ],
        [
         "2013-01-03",
         "1.0",
         "27",
         "743497",
         "False",
         "92.97",
         null,
         null,
         "True",
         "Daule",
         "D",
         "1",
         "FROZEN FOODS",
         "2222",
         "False",
         "928"
        ],
        [
         "2013-01-05",
         "3.0",
         "25",
         "368260",
         "False",
         null,
         "Work Day",
         "National",
         "False",
         "Salinas",
         "D",
         "1",
         "GROCERY I",
         "1028",
         "False",
         "1355"
        ],
        [
         "2013-01-02",
         "25.0",
         "45",
         "426155",
         "False",
         "93.14",
         null,
         null,
         "True",
         "Quito",
         "A",
         "11",
         "PREPARED FOODS",
         "2962",
         "True",
         "4208"
        ],
        [
         "2013-01-06",
         "5.0",
         "40",
         "368140",
         "False",
         null,
         null,
         null,
         "True",
         "Machala",
         "C",
         "3",
         "GROCERY I",
         "1040",
         "False",
         "1023"
        ]
       ],
       "shape": {
        "columns": 15,
        "rows": 5
       }
      },
      "text/html": [
       "<div>\n",
       "<style scoped>\n",
       "    .dataframe tbody tr th:only-of-type {\n",
       "        vertical-align: middle;\n",
       "    }\n",
       "\n",
       "    .dataframe tbody tr th {\n",
       "        vertical-align: top;\n",
       "    }\n",
       "\n",
       "    .dataframe thead th {\n",
       "        text-align: right;\n",
       "    }\n",
       "</style>\n",
       "<table border=\"1\" class=\"dataframe\">\n",
       "  <thead>\n",
       "    <tr style=\"text-align: right;\">\n",
       "      <th></th>\n",
       "      <th>unit_sales</th>\n",
       "      <th>store_nbr</th>\n",
       "      <th>item_nbr</th>\n",
       "      <th>onpromotion</th>\n",
       "      <th>oil_price</th>\n",
       "      <th>holiday_type</th>\n",
       "      <th>locale</th>\n",
       "      <th>transferred</th>\n",
       "      <th>city</th>\n",
       "      <th>store_type</th>\n",
       "      <th>store_cluster</th>\n",
       "      <th>items_family</th>\n",
       "      <th>item_class</th>\n",
       "      <th>perishable_items</th>\n",
       "      <th>transactions</th>\n",
       "    </tr>\n",
       "  </thead>\n",
       "  <tbody>\n",
       "    <tr>\n",
       "      <th>2013-01-06</th>\n",
       "      <td>35.0</td>\n",
       "      <td>31</td>\n",
       "      <td>257847</td>\n",
       "      <td>False</td>\n",
       "      <td>NaN</td>\n",
       "      <td>NaN</td>\n",
       "      <td>NaN</td>\n",
       "      <td>True</td>\n",
       "      <td>Babahoyo</td>\n",
       "      <td>B</td>\n",
       "      <td>10</td>\n",
       "      <td>BEVERAGES</td>\n",
       "      <td>1120</td>\n",
       "      <td>False</td>\n",
       "      <td>1468</td>\n",
       "    </tr>\n",
       "    <tr>\n",
       "      <th>2013-01-03</th>\n",
       "      <td>1.0</td>\n",
       "      <td>27</td>\n",
       "      <td>743497</td>\n",
       "      <td>False</td>\n",
       "      <td>92.970001</td>\n",
       "      <td>NaN</td>\n",
       "      <td>NaN</td>\n",
       "      <td>True</td>\n",
       "      <td>Daule</td>\n",
       "      <td>D</td>\n",
       "      <td>1</td>\n",
       "      <td>FROZEN FOODS</td>\n",
       "      <td>2222</td>\n",
       "      <td>False</td>\n",
       "      <td>928</td>\n",
       "    </tr>\n",
       "    <tr>\n",
       "      <th>2013-01-05</th>\n",
       "      <td>3.0</td>\n",
       "      <td>25</td>\n",
       "      <td>368260</td>\n",
       "      <td>False</td>\n",
       "      <td>NaN</td>\n",
       "      <td>Work Day</td>\n",
       "      <td>National</td>\n",
       "      <td>False</td>\n",
       "      <td>Salinas</td>\n",
       "      <td>D</td>\n",
       "      <td>1</td>\n",
       "      <td>GROCERY I</td>\n",
       "      <td>1028</td>\n",
       "      <td>False</td>\n",
       "      <td>1355</td>\n",
       "    </tr>\n",
       "    <tr>\n",
       "      <th>2013-01-02</th>\n",
       "      <td>25.0</td>\n",
       "      <td>45</td>\n",
       "      <td>426155</td>\n",
       "      <td>False</td>\n",
       "      <td>93.139999</td>\n",
       "      <td>NaN</td>\n",
       "      <td>NaN</td>\n",
       "      <td>True</td>\n",
       "      <td>Quito</td>\n",
       "      <td>A</td>\n",
       "      <td>11</td>\n",
       "      <td>PREPARED FOODS</td>\n",
       "      <td>2962</td>\n",
       "      <td>True</td>\n",
       "      <td>4208</td>\n",
       "    </tr>\n",
       "    <tr>\n",
       "      <th>2013-01-06</th>\n",
       "      <td>5.0</td>\n",
       "      <td>40</td>\n",
       "      <td>368140</td>\n",
       "      <td>False</td>\n",
       "      <td>NaN</td>\n",
       "      <td>NaN</td>\n",
       "      <td>NaN</td>\n",
       "      <td>True</td>\n",
       "      <td>Machala</td>\n",
       "      <td>C</td>\n",
       "      <td>3</td>\n",
       "      <td>GROCERY I</td>\n",
       "      <td>1040</td>\n",
       "      <td>False</td>\n",
       "      <td>1023</td>\n",
       "    </tr>\n",
       "  </tbody>\n",
       "</table>\n",
       "</div>"
      ],
      "text/plain": [
       "            unit_sales store_nbr item_nbr  onpromotion  oil_price  \\\n",
       "2013-01-06        35.0        31   257847        False        NaN   \n",
       "2013-01-03         1.0        27   743497        False  92.970001   \n",
       "2013-01-05         3.0        25   368260        False        NaN   \n",
       "2013-01-02        25.0        45   426155        False  93.139999   \n",
       "2013-01-06         5.0        40   368140        False        NaN   \n",
       "\n",
       "           holiday_type    locale  transferred      city store_type  \\\n",
       "2013-01-06          NaN       NaN         True  Babahoyo          B   \n",
       "2013-01-03          NaN       NaN         True     Daule          D   \n",
       "2013-01-05     Work Day  National        False   Salinas          D   \n",
       "2013-01-02          NaN       NaN         True     Quito          A   \n",
       "2013-01-06          NaN       NaN         True   Machala          C   \n",
       "\n",
       "           store_cluster    items_family item_class  perishable_items  \\\n",
       "2013-01-06            10       BEVERAGES       1120             False   \n",
       "2013-01-03             1    FROZEN FOODS       2222             False   \n",
       "2013-01-05             1       GROCERY I       1028             False   \n",
       "2013-01-02            11  PREPARED FOODS       2962              True   \n",
       "2013-01-06             3       GROCERY I       1040             False   \n",
       "\n",
       "            transactions  \n",
       "2013-01-06          1468  \n",
       "2013-01-03           928  \n",
       "2013-01-05          1355  \n",
       "2013-01-02          4208  \n",
       "2013-01-06          1023  "
      ]
     },
     "execution_count": 59,
     "metadata": {},
     "output_type": "execute_result"
    }
   ],
   "source": [
    "df_train.sample(5)"
   ]
  },
  {
   "cell_type": "code",
   "execution_count": 60,
   "id": "dc489e69",
   "metadata": {},
   "outputs": [
    {
     "name": "stdout",
     "output_type": "stream",
     "text": [
      "<class 'pandas.core.frame.DataFrame'>\n",
      "Index: 199989 entries, 2013-01-01 to 2013-01-06\n",
      "Data columns (total 15 columns):\n",
      " #   Column            Non-Null Count   Dtype   \n",
      "---  ------            --------------   -----   \n",
      " 0   unit_sales        199989 non-null  float32 \n",
      " 1   store_nbr         199989 non-null  object  \n",
      " 2   item_nbr          199989 non-null  object  \n",
      " 3   onpromotion       199989 non-null  bool    \n",
      " 4   oil_price         121814 non-null  float32 \n",
      " 5   holiday_type      43111 non-null   category\n",
      " 6   locale            43111 non-null   category\n",
      " 7   transferred       199989 non-null  bool    \n",
      " 8   city              199989 non-null  category\n",
      " 9   store_type        199989 non-null  category\n",
      " 10  store_cluster     199989 non-null  category\n",
      " 11  items_family      199989 non-null  category\n",
      " 12  item_class        199989 non-null  object  \n",
      " 13  perishable_items  199989 non-null  bool    \n",
      " 14  transactions      199989 non-null  int16   \n",
      "dtypes: bool(3), category(6), float32(2), int16(1), object(3)\n",
      "memory usage: 9.7+ MB\n"
     ]
    }
   ],
   "source": [
    "df_train.info()"
   ]
  },
  {
   "cell_type": "code",
   "execution_count": 61,
   "id": "a271c7a4",
   "metadata": {},
   "outputs": [
    {
     "data": {
      "text/plain": [
       "(199989, 15)"
      ]
     },
     "execution_count": 61,
     "metadata": {},
     "output_type": "execute_result"
    }
   ],
   "source": [
    "gc.collect()\n",
    "df_train.shape"
   ]
  }
 ],
 "metadata": {
  "kernelspec": {
   "display_name": "base",
   "language": "python",
   "name": "python3"
  },
  "language_info": {
   "codemirror_mode": {
    "name": "ipython",
    "version": 3
   },
   "file_extension": ".py",
   "mimetype": "text/x-python",
   "name": "python",
   "nbconvert_exporter": "python",
   "pygments_lexer": "ipython3",
   "version": "3.12.4"
  }
 },
 "nbformat": 4,
 "nbformat_minor": 5
}
